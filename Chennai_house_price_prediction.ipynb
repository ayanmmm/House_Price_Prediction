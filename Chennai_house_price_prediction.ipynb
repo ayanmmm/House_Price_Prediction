{
  "nbformat": 4,
  "nbformat_minor": 0,
  "metadata": {
    "colab": {
      "provenance": [],
      "authorship_tag": "ABX9TyP5bWmkUDskOtC51BTNsDcm",
      "include_colab_link": true
    },
    "kernelspec": {
      "name": "python3",
      "display_name": "Python 3"
    },
    "language_info": {
      "name": "python"
    }
  },
  "cells": [
    {
      "cell_type": "markdown",
      "metadata": {
        "id": "view-in-github",
        "colab_type": "text"
      },
      "source": [
        "<a href=\"https://colab.research.google.com/github/ayanmmm/House_Price_Prediction/blob/main/Chennai_house_price_prediction.ipynb\" target=\"_parent\"><img src=\"https://colab.research.google.com/assets/colab-badge.svg\" alt=\"Open In Colab\"/></a>"
      ]
    },
    {
      "cell_type": "markdown",
      "source": [
        "**Problem Statement**\n",
        "Real estate transactions are quite opaque sometimes and it may be difficult for a newbie to know the fair price of any given home. Thus, multiple real estate websites have the functionality to predict the prices of houses given different features regarding it. Such forecasting models will help buyers to identify a fair price for the home and also give insights to sellers as to how to build homes that fetch them more money. Chennai house sale price data is shared here and the participants are expected to build a sale price prediction model that will aid the customers to find a fair price for their homes and also help the sellers understand what factors are fetching more money for the houses?"
      ],
      "metadata": {
        "id": "p1U__sSbCRDS"
      }
    },
    {
      "cell_type": "markdown",
      "source": [
        "**Minimum Requirements**\n",
        "It is not sufficient to just fit a model - the model must be analysed to find the important factors that contribute towards the price. Also, it will be better to give a forecast range (range of permissible values) rather than a single estimate as it will help the customers to negotiate."
      ],
      "metadata": {
        "id": "AwkKSawcCVYQ"
      }
    },
    {
      "cell_type": "code",
      "source": [
        "#Libraries\n",
        "import pandas as pd\n",
        "import numpy as np\n",
        "\n",
        "import warnings\n",
        "warnings.simplefilter(action='ignore', category=FutureWarning)\n",
        "\n",
        "import matplotlib.pyplot as plt\n",
        "import seaborn as sns\n",
        "\n",
        "from sklearn.model_selection import train_test_split\n",
        "from sklearn.preprocessing import StandardScaler\n",
        "\n",
        "from sklearn.linear_model import LinearRegression\n",
        "from sklearn.neighbors import KNeighborsRegressor\n",
        "from sklearn.tree import DecisionTreeRegressor\n",
        "from sklearn.ensemble import RandomForestRegressor\n",
        "from sklearn.ensemble import GradientBoostingRegressor\n",
        "import xgboost as xgb\n",
        "\n",
        "from sklearn.model_selection import cross_val_score\n",
        "from sklearn.metrics import r2_score\n",
        "\n",
        "\n"
      ],
      "metadata": {
        "id": "TgiDof_rEPy4"
      },
      "execution_count": 186,
      "outputs": []
    },
    {
      "cell_type": "code",
      "source": [
        "#Load data set\n",
        "df=pd.read_csv(\"https://raw.githubusercontent.com/ayanmmm/House_Price_Prediction/main/train-chennai-sale.csv\")\n",
        "df.head()"
      ],
      "metadata": {
        "id": "oWQ1W5dyx2WZ",
        "colab": {
          "base_uri": "https://localhost:8080/",
          "height": 236
        },
        "outputId": "be6e1eab-da60-4c22-a29e-4e5b35b0a9d8"
      },
      "execution_count": 187,
      "outputs": [
        {
          "output_type": "execute_result",
          "data": {
            "text/plain": [
              "   PRT_ID        AREA  INT_SQFT   DATE_SALE  DIST_MAINROAD  N_BEDROOM  \\\n",
              "0  P03210  Karapakkam      1004  04-05-2011            131        1.0   \n",
              "1  P09411  Anna Nagar      1986  19-12-2006             26        2.0   \n",
              "2  P01812       Adyar       909  04-02-2012             70        1.0   \n",
              "3  P05346   Velachery      1855  13-03-2010             14        3.0   \n",
              "4  P06210  Karapakkam      1226  05-10-2009             84        1.0   \n",
              "\n",
              "   N_BATHROOM  N_ROOM SALE_COND PARK_FACIL  ... UTILITY_AVAIL  STREET MZZONE  \\\n",
              "0         1.0       3  AbNormal        Yes  ...        AllPub   Paved      A   \n",
              "1         1.0       5  AbNormal         No  ...        AllPub  Gravel     RH   \n",
              "2         1.0       3  AbNormal        Yes  ...           ELO  Gravel     RL   \n",
              "3         2.0       5    Family         No  ...       NoSewr    Paved      I   \n",
              "4         1.0       3  AbNormal        Yes  ...        AllPub  Gravel      C   \n",
              "\n",
              "  QS_ROOMS QS_BATHROOM  QS_BEDROOM  QS_OVERALL  REG_FEE  COMMIS  SALES_PRICE  \n",
              "0      4.0         3.9         4.9       4.330   380000  144400      7600000  \n",
              "1      4.9         4.2         2.5       3.765   760122  304049     21717770  \n",
              "2      4.1         3.8         2.2       3.090   421094   92114     13159200  \n",
              "3      4.7         3.9         3.6       4.010   356321   77042      9630290  \n",
              "4      3.0         2.5         4.1       3.290   237000   74063      7406250  \n",
              "\n",
              "[5 rows x 22 columns]"
            ],
            "text/html": [
              "\n",
              "  <div id=\"df-cde3b342-973f-4f2c-b658-836464a7d266\">\n",
              "    <div class=\"colab-df-container\">\n",
              "      <div>\n",
              "<style scoped>\n",
              "    .dataframe tbody tr th:only-of-type {\n",
              "        vertical-align: middle;\n",
              "    }\n",
              "\n",
              "    .dataframe tbody tr th {\n",
              "        vertical-align: top;\n",
              "    }\n",
              "\n",
              "    .dataframe thead th {\n",
              "        text-align: right;\n",
              "    }\n",
              "</style>\n",
              "<table border=\"1\" class=\"dataframe\">\n",
              "  <thead>\n",
              "    <tr style=\"text-align: right;\">\n",
              "      <th></th>\n",
              "      <th>PRT_ID</th>\n",
              "      <th>AREA</th>\n",
              "      <th>INT_SQFT</th>\n",
              "      <th>DATE_SALE</th>\n",
              "      <th>DIST_MAINROAD</th>\n",
              "      <th>N_BEDROOM</th>\n",
              "      <th>N_BATHROOM</th>\n",
              "      <th>N_ROOM</th>\n",
              "      <th>SALE_COND</th>\n",
              "      <th>PARK_FACIL</th>\n",
              "      <th>...</th>\n",
              "      <th>UTILITY_AVAIL</th>\n",
              "      <th>STREET</th>\n",
              "      <th>MZZONE</th>\n",
              "      <th>QS_ROOMS</th>\n",
              "      <th>QS_BATHROOM</th>\n",
              "      <th>QS_BEDROOM</th>\n",
              "      <th>QS_OVERALL</th>\n",
              "      <th>REG_FEE</th>\n",
              "      <th>COMMIS</th>\n",
              "      <th>SALES_PRICE</th>\n",
              "    </tr>\n",
              "  </thead>\n",
              "  <tbody>\n",
              "    <tr>\n",
              "      <th>0</th>\n",
              "      <td>P03210</td>\n",
              "      <td>Karapakkam</td>\n",
              "      <td>1004</td>\n",
              "      <td>04-05-2011</td>\n",
              "      <td>131</td>\n",
              "      <td>1.0</td>\n",
              "      <td>1.0</td>\n",
              "      <td>3</td>\n",
              "      <td>AbNormal</td>\n",
              "      <td>Yes</td>\n",
              "      <td>...</td>\n",
              "      <td>AllPub</td>\n",
              "      <td>Paved</td>\n",
              "      <td>A</td>\n",
              "      <td>4.0</td>\n",
              "      <td>3.9</td>\n",
              "      <td>4.9</td>\n",
              "      <td>4.330</td>\n",
              "      <td>380000</td>\n",
              "      <td>144400</td>\n",
              "      <td>7600000</td>\n",
              "    </tr>\n",
              "    <tr>\n",
              "      <th>1</th>\n",
              "      <td>P09411</td>\n",
              "      <td>Anna Nagar</td>\n",
              "      <td>1986</td>\n",
              "      <td>19-12-2006</td>\n",
              "      <td>26</td>\n",
              "      <td>2.0</td>\n",
              "      <td>1.0</td>\n",
              "      <td>5</td>\n",
              "      <td>AbNormal</td>\n",
              "      <td>No</td>\n",
              "      <td>...</td>\n",
              "      <td>AllPub</td>\n",
              "      <td>Gravel</td>\n",
              "      <td>RH</td>\n",
              "      <td>4.9</td>\n",
              "      <td>4.2</td>\n",
              "      <td>2.5</td>\n",
              "      <td>3.765</td>\n",
              "      <td>760122</td>\n",
              "      <td>304049</td>\n",
              "      <td>21717770</td>\n",
              "    </tr>\n",
              "    <tr>\n",
              "      <th>2</th>\n",
              "      <td>P01812</td>\n",
              "      <td>Adyar</td>\n",
              "      <td>909</td>\n",
              "      <td>04-02-2012</td>\n",
              "      <td>70</td>\n",
              "      <td>1.0</td>\n",
              "      <td>1.0</td>\n",
              "      <td>3</td>\n",
              "      <td>AbNormal</td>\n",
              "      <td>Yes</td>\n",
              "      <td>...</td>\n",
              "      <td>ELO</td>\n",
              "      <td>Gravel</td>\n",
              "      <td>RL</td>\n",
              "      <td>4.1</td>\n",
              "      <td>3.8</td>\n",
              "      <td>2.2</td>\n",
              "      <td>3.090</td>\n",
              "      <td>421094</td>\n",
              "      <td>92114</td>\n",
              "      <td>13159200</td>\n",
              "    </tr>\n",
              "    <tr>\n",
              "      <th>3</th>\n",
              "      <td>P05346</td>\n",
              "      <td>Velachery</td>\n",
              "      <td>1855</td>\n",
              "      <td>13-03-2010</td>\n",
              "      <td>14</td>\n",
              "      <td>3.0</td>\n",
              "      <td>2.0</td>\n",
              "      <td>5</td>\n",
              "      <td>Family</td>\n",
              "      <td>No</td>\n",
              "      <td>...</td>\n",
              "      <td>NoSewr</td>\n",
              "      <td>Paved</td>\n",
              "      <td>I</td>\n",
              "      <td>4.7</td>\n",
              "      <td>3.9</td>\n",
              "      <td>3.6</td>\n",
              "      <td>4.010</td>\n",
              "      <td>356321</td>\n",
              "      <td>77042</td>\n",
              "      <td>9630290</td>\n",
              "    </tr>\n",
              "    <tr>\n",
              "      <th>4</th>\n",
              "      <td>P06210</td>\n",
              "      <td>Karapakkam</td>\n",
              "      <td>1226</td>\n",
              "      <td>05-10-2009</td>\n",
              "      <td>84</td>\n",
              "      <td>1.0</td>\n",
              "      <td>1.0</td>\n",
              "      <td>3</td>\n",
              "      <td>AbNormal</td>\n",
              "      <td>Yes</td>\n",
              "      <td>...</td>\n",
              "      <td>AllPub</td>\n",
              "      <td>Gravel</td>\n",
              "      <td>C</td>\n",
              "      <td>3.0</td>\n",
              "      <td>2.5</td>\n",
              "      <td>4.1</td>\n",
              "      <td>3.290</td>\n",
              "      <td>237000</td>\n",
              "      <td>74063</td>\n",
              "      <td>7406250</td>\n",
              "    </tr>\n",
              "  </tbody>\n",
              "</table>\n",
              "<p>5 rows × 22 columns</p>\n",
              "</div>\n",
              "      <button class=\"colab-df-convert\" onclick=\"convertToInteractive('df-cde3b342-973f-4f2c-b658-836464a7d266')\"\n",
              "              title=\"Convert this dataframe to an interactive table.\"\n",
              "              style=\"display:none;\">\n",
              "        \n",
              "  <svg xmlns=\"http://www.w3.org/2000/svg\" height=\"24px\"viewBox=\"0 0 24 24\"\n",
              "       width=\"24px\">\n",
              "    <path d=\"M0 0h24v24H0V0z\" fill=\"none\"/>\n",
              "    <path d=\"M18.56 5.44l.94 2.06.94-2.06 2.06-.94-2.06-.94-.94-2.06-.94 2.06-2.06.94zm-11 1L8.5 8.5l.94-2.06 2.06-.94-2.06-.94L8.5 2.5l-.94 2.06-2.06.94zm10 10l.94 2.06.94-2.06 2.06-.94-2.06-.94-.94-2.06-.94 2.06-2.06.94z\"/><path d=\"M17.41 7.96l-1.37-1.37c-.4-.4-.92-.59-1.43-.59-.52 0-1.04.2-1.43.59L10.3 9.45l-7.72 7.72c-.78.78-.78 2.05 0 2.83L4 21.41c.39.39.9.59 1.41.59.51 0 1.02-.2 1.41-.59l7.78-7.78 2.81-2.81c.8-.78.8-2.07 0-2.86zM5.41 20L4 18.59l7.72-7.72 1.47 1.35L5.41 20z\"/>\n",
              "  </svg>\n",
              "      </button>\n",
              "      \n",
              "  <style>\n",
              "    .colab-df-container {\n",
              "      display:flex;\n",
              "      flex-wrap:wrap;\n",
              "      gap: 12px;\n",
              "    }\n",
              "\n",
              "    .colab-df-convert {\n",
              "      background-color: #E8F0FE;\n",
              "      border: none;\n",
              "      border-radius: 50%;\n",
              "      cursor: pointer;\n",
              "      display: none;\n",
              "      fill: #1967D2;\n",
              "      height: 32px;\n",
              "      padding: 0 0 0 0;\n",
              "      width: 32px;\n",
              "    }\n",
              "\n",
              "    .colab-df-convert:hover {\n",
              "      background-color: #E2EBFA;\n",
              "      box-shadow: 0px 1px 2px rgba(60, 64, 67, 0.3), 0px 1px 3px 1px rgba(60, 64, 67, 0.15);\n",
              "      fill: #174EA6;\n",
              "    }\n",
              "\n",
              "    [theme=dark] .colab-df-convert {\n",
              "      background-color: #3B4455;\n",
              "      fill: #D2E3FC;\n",
              "    }\n",
              "\n",
              "    [theme=dark] .colab-df-convert:hover {\n",
              "      background-color: #434B5C;\n",
              "      box-shadow: 0px 1px 3px 1px rgba(0, 0, 0, 0.15);\n",
              "      filter: drop-shadow(0px 1px 2px rgba(0, 0, 0, 0.3));\n",
              "      fill: #FFFFFF;\n",
              "    }\n",
              "  </style>\n",
              "\n",
              "      <script>\n",
              "        const buttonEl =\n",
              "          document.querySelector('#df-cde3b342-973f-4f2c-b658-836464a7d266 button.colab-df-convert');\n",
              "        buttonEl.style.display =\n",
              "          google.colab.kernel.accessAllowed ? 'block' : 'none';\n",
              "\n",
              "        async function convertToInteractive(key) {\n",
              "          const element = document.querySelector('#df-cde3b342-973f-4f2c-b658-836464a7d266');\n",
              "          const dataTable =\n",
              "            await google.colab.kernel.invokeFunction('convertToInteractive',\n",
              "                                                     [key], {});\n",
              "          if (!dataTable) return;\n",
              "\n",
              "          const docLinkHtml = 'Like what you see? Visit the ' +\n",
              "            '<a target=\"_blank\" href=https://colab.research.google.com/notebooks/data_table.ipynb>data table notebook</a>'\n",
              "            + ' to learn more about interactive tables.';\n",
              "          element.innerHTML = '';\n",
              "          dataTable['output_type'] = 'display_data';\n",
              "          await google.colab.output.renderOutput(dataTable, element);\n",
              "          const docLink = document.createElement('div');\n",
              "          docLink.innerHTML = docLinkHtml;\n",
              "          element.appendChild(docLink);\n",
              "        }\n",
              "      </script>\n",
              "    </div>\n",
              "  </div>\n",
              "  "
            ]
          },
          "metadata": {},
          "execution_count": 187
        }
      ]
    },
    {
      "cell_type": "code",
      "source": [
        "df.shape "
      ],
      "metadata": {
        "colab": {
          "base_uri": "https://localhost:8080/"
        },
        "id": "1x6rDsaPFEEB",
        "outputId": "3e606b7f-324c-4ab0-b2c4-1c774aab7b07"
      },
      "execution_count": 188,
      "outputs": [
        {
          "output_type": "execute_result",
          "data": {
            "text/plain": [
              "(7109, 22)"
            ]
          },
          "metadata": {},
          "execution_count": 188
        }
      ]
    },
    {
      "cell_type": "code",
      "source": [
        "df.describe()"
      ],
      "metadata": {
        "colab": {
          "base_uri": "https://localhost:8080/",
          "height": 300
        },
        "id": "JsV0web8FEJw",
        "outputId": "66be1f2f-8f50-422f-9856-b634926fdf52"
      },
      "execution_count": 189,
      "outputs": [
        {
          "output_type": "execute_result",
          "data": {
            "text/plain": [
              "          INT_SQFT  DIST_MAINROAD    N_BEDROOM   N_BATHROOM       N_ROOM  \\\n",
              "count  7109.000000    7109.000000  7108.000000  7104.000000  7109.000000   \n",
              "mean   1382.073006      99.603179     1.637029     1.213260     3.688704   \n",
              "std     457.410902      57.403110     0.802902     0.409639     1.019099   \n",
              "min     500.000000       0.000000     1.000000     1.000000     2.000000   \n",
              "25%     993.000000      50.000000     1.000000     1.000000     3.000000   \n",
              "50%    1373.000000      99.000000     1.000000     1.000000     4.000000   \n",
              "75%    1744.000000     148.000000     2.000000     1.000000     4.000000   \n",
              "max    2500.000000     200.000000     4.000000     2.000000     6.000000   \n",
              "\n",
              "          QS_ROOMS  QS_BATHROOM   QS_BEDROOM   QS_OVERALL        REG_FEE  \\\n",
              "count  7109.000000  7109.000000  7109.000000  7061.000000    7109.000000   \n",
              "mean      3.517471     3.507244     3.485300     3.503254  376938.330708   \n",
              "std       0.891972     0.897834     0.887266     0.527223  143070.662010   \n",
              "min       2.000000     2.000000     2.000000     2.000000   71177.000000   \n",
              "25%       2.700000     2.700000     2.700000     3.130000  272406.000000   \n",
              "50%       3.500000     3.500000     3.500000     3.500000  349486.000000   \n",
              "75%       4.300000     4.300000     4.300000     3.890000  451562.000000   \n",
              "max       5.000000     5.000000     5.000000     4.970000  983922.000000   \n",
              "\n",
              "              COMMIS   SALES_PRICE  \n",
              "count    7109.000000  7.109000e+03  \n",
              "mean   141005.726544  1.089491e+07  \n",
              "std     78768.093718  3.768603e+06  \n",
              "min      5055.000000  2.156875e+06  \n",
              "25%     84219.000000  8.272100e+06  \n",
              "50%    127628.000000  1.033505e+07  \n",
              "75%    184506.000000  1.299390e+07  \n",
              "max    495405.000000  2.366734e+07  "
            ],
            "text/html": [
              "\n",
              "  <div id=\"df-43bf6ade-c5c6-42a0-9567-8a6f7cb3c764\">\n",
              "    <div class=\"colab-df-container\">\n",
              "      <div>\n",
              "<style scoped>\n",
              "    .dataframe tbody tr th:only-of-type {\n",
              "        vertical-align: middle;\n",
              "    }\n",
              "\n",
              "    .dataframe tbody tr th {\n",
              "        vertical-align: top;\n",
              "    }\n",
              "\n",
              "    .dataframe thead th {\n",
              "        text-align: right;\n",
              "    }\n",
              "</style>\n",
              "<table border=\"1\" class=\"dataframe\">\n",
              "  <thead>\n",
              "    <tr style=\"text-align: right;\">\n",
              "      <th></th>\n",
              "      <th>INT_SQFT</th>\n",
              "      <th>DIST_MAINROAD</th>\n",
              "      <th>N_BEDROOM</th>\n",
              "      <th>N_BATHROOM</th>\n",
              "      <th>N_ROOM</th>\n",
              "      <th>QS_ROOMS</th>\n",
              "      <th>QS_BATHROOM</th>\n",
              "      <th>QS_BEDROOM</th>\n",
              "      <th>QS_OVERALL</th>\n",
              "      <th>REG_FEE</th>\n",
              "      <th>COMMIS</th>\n",
              "      <th>SALES_PRICE</th>\n",
              "    </tr>\n",
              "  </thead>\n",
              "  <tbody>\n",
              "    <tr>\n",
              "      <th>count</th>\n",
              "      <td>7109.000000</td>\n",
              "      <td>7109.000000</td>\n",
              "      <td>7108.000000</td>\n",
              "      <td>7104.000000</td>\n",
              "      <td>7109.000000</td>\n",
              "      <td>7109.000000</td>\n",
              "      <td>7109.000000</td>\n",
              "      <td>7109.000000</td>\n",
              "      <td>7061.000000</td>\n",
              "      <td>7109.000000</td>\n",
              "      <td>7109.000000</td>\n",
              "      <td>7.109000e+03</td>\n",
              "    </tr>\n",
              "    <tr>\n",
              "      <th>mean</th>\n",
              "      <td>1382.073006</td>\n",
              "      <td>99.603179</td>\n",
              "      <td>1.637029</td>\n",
              "      <td>1.213260</td>\n",
              "      <td>3.688704</td>\n",
              "      <td>3.517471</td>\n",
              "      <td>3.507244</td>\n",
              "      <td>3.485300</td>\n",
              "      <td>3.503254</td>\n",
              "      <td>376938.330708</td>\n",
              "      <td>141005.726544</td>\n",
              "      <td>1.089491e+07</td>\n",
              "    </tr>\n",
              "    <tr>\n",
              "      <th>std</th>\n",
              "      <td>457.410902</td>\n",
              "      <td>57.403110</td>\n",
              "      <td>0.802902</td>\n",
              "      <td>0.409639</td>\n",
              "      <td>1.019099</td>\n",
              "      <td>0.891972</td>\n",
              "      <td>0.897834</td>\n",
              "      <td>0.887266</td>\n",
              "      <td>0.527223</td>\n",
              "      <td>143070.662010</td>\n",
              "      <td>78768.093718</td>\n",
              "      <td>3.768603e+06</td>\n",
              "    </tr>\n",
              "    <tr>\n",
              "      <th>min</th>\n",
              "      <td>500.000000</td>\n",
              "      <td>0.000000</td>\n",
              "      <td>1.000000</td>\n",
              "      <td>1.000000</td>\n",
              "      <td>2.000000</td>\n",
              "      <td>2.000000</td>\n",
              "      <td>2.000000</td>\n",
              "      <td>2.000000</td>\n",
              "      <td>2.000000</td>\n",
              "      <td>71177.000000</td>\n",
              "      <td>5055.000000</td>\n",
              "      <td>2.156875e+06</td>\n",
              "    </tr>\n",
              "    <tr>\n",
              "      <th>25%</th>\n",
              "      <td>993.000000</td>\n",
              "      <td>50.000000</td>\n",
              "      <td>1.000000</td>\n",
              "      <td>1.000000</td>\n",
              "      <td>3.000000</td>\n",
              "      <td>2.700000</td>\n",
              "      <td>2.700000</td>\n",
              "      <td>2.700000</td>\n",
              "      <td>3.130000</td>\n",
              "      <td>272406.000000</td>\n",
              "      <td>84219.000000</td>\n",
              "      <td>8.272100e+06</td>\n",
              "    </tr>\n",
              "    <tr>\n",
              "      <th>50%</th>\n",
              "      <td>1373.000000</td>\n",
              "      <td>99.000000</td>\n",
              "      <td>1.000000</td>\n",
              "      <td>1.000000</td>\n",
              "      <td>4.000000</td>\n",
              "      <td>3.500000</td>\n",
              "      <td>3.500000</td>\n",
              "      <td>3.500000</td>\n",
              "      <td>3.500000</td>\n",
              "      <td>349486.000000</td>\n",
              "      <td>127628.000000</td>\n",
              "      <td>1.033505e+07</td>\n",
              "    </tr>\n",
              "    <tr>\n",
              "      <th>75%</th>\n",
              "      <td>1744.000000</td>\n",
              "      <td>148.000000</td>\n",
              "      <td>2.000000</td>\n",
              "      <td>1.000000</td>\n",
              "      <td>4.000000</td>\n",
              "      <td>4.300000</td>\n",
              "      <td>4.300000</td>\n",
              "      <td>4.300000</td>\n",
              "      <td>3.890000</td>\n",
              "      <td>451562.000000</td>\n",
              "      <td>184506.000000</td>\n",
              "      <td>1.299390e+07</td>\n",
              "    </tr>\n",
              "    <tr>\n",
              "      <th>max</th>\n",
              "      <td>2500.000000</td>\n",
              "      <td>200.000000</td>\n",
              "      <td>4.000000</td>\n",
              "      <td>2.000000</td>\n",
              "      <td>6.000000</td>\n",
              "      <td>5.000000</td>\n",
              "      <td>5.000000</td>\n",
              "      <td>5.000000</td>\n",
              "      <td>4.970000</td>\n",
              "      <td>983922.000000</td>\n",
              "      <td>495405.000000</td>\n",
              "      <td>2.366734e+07</td>\n",
              "    </tr>\n",
              "  </tbody>\n",
              "</table>\n",
              "</div>\n",
              "      <button class=\"colab-df-convert\" onclick=\"convertToInteractive('df-43bf6ade-c5c6-42a0-9567-8a6f7cb3c764')\"\n",
              "              title=\"Convert this dataframe to an interactive table.\"\n",
              "              style=\"display:none;\">\n",
              "        \n",
              "  <svg xmlns=\"http://www.w3.org/2000/svg\" height=\"24px\"viewBox=\"0 0 24 24\"\n",
              "       width=\"24px\">\n",
              "    <path d=\"M0 0h24v24H0V0z\" fill=\"none\"/>\n",
              "    <path d=\"M18.56 5.44l.94 2.06.94-2.06 2.06-.94-2.06-.94-.94-2.06-.94 2.06-2.06.94zm-11 1L8.5 8.5l.94-2.06 2.06-.94-2.06-.94L8.5 2.5l-.94 2.06-2.06.94zm10 10l.94 2.06.94-2.06 2.06-.94-2.06-.94-.94-2.06-.94 2.06-2.06.94z\"/><path d=\"M17.41 7.96l-1.37-1.37c-.4-.4-.92-.59-1.43-.59-.52 0-1.04.2-1.43.59L10.3 9.45l-7.72 7.72c-.78.78-.78 2.05 0 2.83L4 21.41c.39.39.9.59 1.41.59.51 0 1.02-.2 1.41-.59l7.78-7.78 2.81-2.81c.8-.78.8-2.07 0-2.86zM5.41 20L4 18.59l7.72-7.72 1.47 1.35L5.41 20z\"/>\n",
              "  </svg>\n",
              "      </button>\n",
              "      \n",
              "  <style>\n",
              "    .colab-df-container {\n",
              "      display:flex;\n",
              "      flex-wrap:wrap;\n",
              "      gap: 12px;\n",
              "    }\n",
              "\n",
              "    .colab-df-convert {\n",
              "      background-color: #E8F0FE;\n",
              "      border: none;\n",
              "      border-radius: 50%;\n",
              "      cursor: pointer;\n",
              "      display: none;\n",
              "      fill: #1967D2;\n",
              "      height: 32px;\n",
              "      padding: 0 0 0 0;\n",
              "      width: 32px;\n",
              "    }\n",
              "\n",
              "    .colab-df-convert:hover {\n",
              "      background-color: #E2EBFA;\n",
              "      box-shadow: 0px 1px 2px rgba(60, 64, 67, 0.3), 0px 1px 3px 1px rgba(60, 64, 67, 0.15);\n",
              "      fill: #174EA6;\n",
              "    }\n",
              "\n",
              "    [theme=dark] .colab-df-convert {\n",
              "      background-color: #3B4455;\n",
              "      fill: #D2E3FC;\n",
              "    }\n",
              "\n",
              "    [theme=dark] .colab-df-convert:hover {\n",
              "      background-color: #434B5C;\n",
              "      box-shadow: 0px 1px 3px 1px rgba(0, 0, 0, 0.15);\n",
              "      filter: drop-shadow(0px 1px 2px rgba(0, 0, 0, 0.3));\n",
              "      fill: #FFFFFF;\n",
              "    }\n",
              "  </style>\n",
              "\n",
              "      <script>\n",
              "        const buttonEl =\n",
              "          document.querySelector('#df-43bf6ade-c5c6-42a0-9567-8a6f7cb3c764 button.colab-df-convert');\n",
              "        buttonEl.style.display =\n",
              "          google.colab.kernel.accessAllowed ? 'block' : 'none';\n",
              "\n",
              "        async function convertToInteractive(key) {\n",
              "          const element = document.querySelector('#df-43bf6ade-c5c6-42a0-9567-8a6f7cb3c764');\n",
              "          const dataTable =\n",
              "            await google.colab.kernel.invokeFunction('convertToInteractive',\n",
              "                                                     [key], {});\n",
              "          if (!dataTable) return;\n",
              "\n",
              "          const docLinkHtml = 'Like what you see? Visit the ' +\n",
              "            '<a target=\"_blank\" href=https://colab.research.google.com/notebooks/data_table.ipynb>data table notebook</a>'\n",
              "            + ' to learn more about interactive tables.';\n",
              "          element.innerHTML = '';\n",
              "          dataTable['output_type'] = 'display_data';\n",
              "          await google.colab.output.renderOutput(dataTable, element);\n",
              "          const docLink = document.createElement('div');\n",
              "          docLink.innerHTML = docLinkHtml;\n",
              "          element.appendChild(docLink);\n",
              "        }\n",
              "      </script>\n",
              "    </div>\n",
              "  </div>\n",
              "  "
            ]
          },
          "metadata": {},
          "execution_count": 189
        }
      ]
    },
    {
      "cell_type": "code",
      "source": [
        "df.isnull().sum()"
      ],
      "metadata": {
        "colab": {
          "base_uri": "https://localhost:8080/"
        },
        "id": "7XUZUl-EFEMR",
        "outputId": "ad349e8b-ad47-4bdf-d3f8-98a6a3213382"
      },
      "execution_count": 190,
      "outputs": [
        {
          "output_type": "execute_result",
          "data": {
            "text/plain": [
              "PRT_ID            0\n",
              "AREA              0\n",
              "INT_SQFT          0\n",
              "DATE_SALE         0\n",
              "DIST_MAINROAD     0\n",
              "N_BEDROOM         1\n",
              "N_BATHROOM        5\n",
              "N_ROOM            0\n",
              "SALE_COND         0\n",
              "PARK_FACIL        0\n",
              "DATE_BUILD        0\n",
              "BUILDTYPE         0\n",
              "UTILITY_AVAIL     0\n",
              "STREET            0\n",
              "MZZONE            0\n",
              "QS_ROOMS          0\n",
              "QS_BATHROOM       0\n",
              "QS_BEDROOM        0\n",
              "QS_OVERALL       48\n",
              "REG_FEE           0\n",
              "COMMIS            0\n",
              "SALES_PRICE       0\n",
              "dtype: int64"
            ]
          },
          "metadata": {},
          "execution_count": 190
        }
      ]
    },
    {
      "cell_type": "code",
      "source": [
        "#Null values present in\n",
        "\n",
        "# N_BEDROOM         1\n",
        "# N_BATHROOM        5\n",
        "# QS_OVERALL       48"
      ],
      "metadata": {
        "id": "ahHYtay4FEO4"
      },
      "execution_count": 191,
      "outputs": []
    },
    {
      "cell_type": "code",
      "source": [
        "df[\"N_BATHROOM\"].describe()"
      ],
      "metadata": {
        "colab": {
          "base_uri": "https://localhost:8080/"
        },
        "id": "66FMPB7A0_On",
        "outputId": "845ac751-1f3a-4c25-a620-e1e0c4fdc87d"
      },
      "execution_count": 192,
      "outputs": [
        {
          "output_type": "execute_result",
          "data": {
            "text/plain": [
              "count    7104.000000\n",
              "mean        1.213260\n",
              "std         0.409639\n",
              "min         1.000000\n",
              "25%         1.000000\n",
              "50%         1.000000\n",
              "75%         1.000000\n",
              "max         2.000000\n",
              "Name: N_BATHROOM, dtype: float64"
            ]
          },
          "metadata": {},
          "execution_count": 192
        }
      ]
    },
    {
      "cell_type": "code",
      "source": [
        "df['N_BATHROOM']=df[\"N_BATHROOM\"].fillna(df[\"N_BATHROOM\"].mode()[0])"
      ],
      "metadata": {
        "id": "cmk9G0uh0_Rf"
      },
      "execution_count": 193,
      "outputs": []
    },
    {
      "cell_type": "code",
      "source": [
        "df[\"N_BEDROOM\"].describe()"
      ],
      "metadata": {
        "colab": {
          "base_uri": "https://localhost:8080/"
        },
        "id": "V45ocIcm0akY",
        "outputId": "16634ba0-ab46-40ce-d75c-876b5e52f24e"
      },
      "execution_count": 194,
      "outputs": [
        {
          "output_type": "execute_result",
          "data": {
            "text/plain": [
              "count    7108.000000\n",
              "mean        1.637029\n",
              "std         0.802902\n",
              "min         1.000000\n",
              "25%         1.000000\n",
              "50%         1.000000\n",
              "75%         2.000000\n",
              "max         4.000000\n",
              "Name: N_BEDROOM, dtype: float64"
            ]
          },
          "metadata": {},
          "execution_count": 194
        }
      ]
    },
    {
      "cell_type": "code",
      "source": [
        "df['N_BEDROOM']=df[\"N_BEDROOM\"].fillna(df[\"N_BEDROOM\"].mode()[0])"
      ],
      "metadata": {
        "id": "B4l_Rsvr0ano"
      },
      "execution_count": 195,
      "outputs": []
    },
    {
      "cell_type": "code",
      "source": [
        "df[\"QS_OVERALL\"].describe()"
      ],
      "metadata": {
        "colab": {
          "base_uri": "https://localhost:8080/"
        },
        "id": "GHsWu-dI1VR_",
        "outputId": "2711127f-de59-4aad-a526-be1ccc49c677"
      },
      "execution_count": 196,
      "outputs": [
        {
          "output_type": "execute_result",
          "data": {
            "text/plain": [
              "count    7061.000000\n",
              "mean        3.503254\n",
              "std         0.527223\n",
              "min         2.000000\n",
              "25%         3.130000\n",
              "50%         3.500000\n",
              "75%         3.890000\n",
              "max         4.970000\n",
              "Name: QS_OVERALL, dtype: float64"
            ]
          },
          "metadata": {},
          "execution_count": 196
        }
      ]
    },
    {
      "cell_type": "code",
      "source": [
        "df['QS_OVERALL']=df[\"QS_OVERALL\"].fillna(df[\"QS_OVERALL\"].mean())"
      ],
      "metadata": {
        "id": "uiPf49UaBFAM"
      },
      "execution_count": 197,
      "outputs": []
    },
    {
      "cell_type": "code",
      "source": [
        "df.isnull().sum()"
      ],
      "metadata": {
        "colab": {
          "base_uri": "https://localhost:8080/"
        },
        "id": "BYklLb_EttWk",
        "outputId": "ad01fad1-35de-4f89-eb47-f6f85d53f135"
      },
      "execution_count": 198,
      "outputs": [
        {
          "output_type": "execute_result",
          "data": {
            "text/plain": [
              "PRT_ID           0\n",
              "AREA             0\n",
              "INT_SQFT         0\n",
              "DATE_SALE        0\n",
              "DIST_MAINROAD    0\n",
              "N_BEDROOM        0\n",
              "N_BATHROOM       0\n",
              "N_ROOM           0\n",
              "SALE_COND        0\n",
              "PARK_FACIL       0\n",
              "DATE_BUILD       0\n",
              "BUILDTYPE        0\n",
              "UTILITY_AVAIL    0\n",
              "STREET           0\n",
              "MZZONE           0\n",
              "QS_ROOMS         0\n",
              "QS_BATHROOM      0\n",
              "QS_BEDROOM       0\n",
              "QS_OVERALL       0\n",
              "REG_FEE          0\n",
              "COMMIS           0\n",
              "SALES_PRICE      0\n",
              "dtype: int64"
            ]
          },
          "metadata": {},
          "execution_count": 198
        }
      ]
    },
    {
      "cell_type": "code",
      "source": [
        "#All null values removed"
      ],
      "metadata": {
        "id": "zjL3T3nnt1R0"
      },
      "execution_count": 199,
      "outputs": []
    },
    {
      "cell_type": "code",
      "source": [
        "df.duplicated().sum()"
      ],
      "metadata": {
        "colab": {
          "base_uri": "https://localhost:8080/"
        },
        "id": "Xe6eWnP2FERg",
        "outputId": "7ba28ee6-08b9-4517-9ee0-31a2d1fa5b20"
      },
      "execution_count": 200,
      "outputs": [
        {
          "output_type": "execute_result",
          "data": {
            "text/plain": [
              "0"
            ]
          },
          "metadata": {},
          "execution_count": 200
        }
      ]
    },
    {
      "cell_type": "code",
      "source": [
        "#no Duplicate value present"
      ],
      "metadata": {
        "id": "L0UGhktUFEUI"
      },
      "execution_count": 201,
      "outputs": []
    },
    {
      "cell_type": "code",
      "source": [
        "df.info()"
      ],
      "metadata": {
        "colab": {
          "base_uri": "https://localhost:8080/"
        },
        "id": "yodVzir0oWSV",
        "outputId": "458cb6ce-6d69-4416-9d2f-ab0e19611f2b"
      },
      "execution_count": 202,
      "outputs": [
        {
          "output_type": "stream",
          "name": "stdout",
          "text": [
            "<class 'pandas.core.frame.DataFrame'>\n",
            "RangeIndex: 7109 entries, 0 to 7108\n",
            "Data columns (total 22 columns):\n",
            " #   Column         Non-Null Count  Dtype  \n",
            "---  ------         --------------  -----  \n",
            " 0   PRT_ID         7109 non-null   object \n",
            " 1   AREA           7109 non-null   object \n",
            " 2   INT_SQFT       7109 non-null   int64  \n",
            " 3   DATE_SALE      7109 non-null   object \n",
            " 4   DIST_MAINROAD  7109 non-null   int64  \n",
            " 5   N_BEDROOM      7109 non-null   float64\n",
            " 6   N_BATHROOM     7109 non-null   float64\n",
            " 7   N_ROOM         7109 non-null   int64  \n",
            " 8   SALE_COND      7109 non-null   object \n",
            " 9   PARK_FACIL     7109 non-null   object \n",
            " 10  DATE_BUILD     7109 non-null   object \n",
            " 11  BUILDTYPE      7109 non-null   object \n",
            " 12  UTILITY_AVAIL  7109 non-null   object \n",
            " 13  STREET         7109 non-null   object \n",
            " 14  MZZONE         7109 non-null   object \n",
            " 15  QS_ROOMS       7109 non-null   float64\n",
            " 16  QS_BATHROOM    7109 non-null   float64\n",
            " 17  QS_BEDROOM     7109 non-null   float64\n",
            " 18  QS_OVERALL     7109 non-null   float64\n",
            " 19  REG_FEE        7109 non-null   int64  \n",
            " 20  COMMIS         7109 non-null   int64  \n",
            " 21  SALES_PRICE    7109 non-null   int64  \n",
            "dtypes: float64(6), int64(6), object(10)\n",
            "memory usage: 1.2+ MB\n"
          ]
        }
      ]
    },
    {
      "cell_type": "code",
      "source": [
        "#0   AREA           7109 non-null   object \n",
        "#2   DATE_SALE      7109 non-null   object \n",
        "#7   SALE_COND      7109 non-null   object \n",
        "#8   PARK_FACIL     7109 non-null   object \n",
        "#9   DATE_BUILD     7109 non-null   object \n",
        "#10  BUILDTYPE      7109 non-null   object \n",
        "#11  UTILITY_AVAIL  7109 non-null   object \n",
        "#12  STREET         7109 non-null   object \n",
        "#13  MZZONE         7109 non-null   object "
      ],
      "metadata": {
        "id": "g07nTTIoF6CK"
      },
      "execution_count": 203,
      "outputs": []
    },
    {
      "cell_type": "code",
      "source": [
        "df.AREA.describe()"
      ],
      "metadata": {
        "colab": {
          "base_uri": "https://localhost:8080/"
        },
        "id": "xqOSd83E1mfH",
        "outputId": "db8fa65d-d8d3-4564-9bf4-da56b7031bfb"
      },
      "execution_count": 204,
      "outputs": [
        {
          "output_type": "execute_result",
          "data": {
            "text/plain": [
              "count         7109\n",
              "unique          17\n",
              "top       Chrompet\n",
              "freq          1681\n",
              "Name: AREA, dtype: object"
            ]
          },
          "metadata": {},
          "execution_count": 204
        }
      ]
    },
    {
      "cell_type": "code",
      "source": [
        "sorted(df[\"AREA\"].unique()) #spelling mistake in AREA column"
      ],
      "metadata": {
        "colab": {
          "base_uri": "https://localhost:8080/"
        },
        "id": "7WNaIrg51pM2",
        "outputId": "afc7c50e-0540-4a24-cd06-9a6a9bda266b"
      },
      "execution_count": 205,
      "outputs": [
        {
          "output_type": "execute_result",
          "data": {
            "text/plain": [
              "['Adyar',\n",
              " 'Adyr',\n",
              " 'Ana Nagar',\n",
              " 'Ann Nagar',\n",
              " 'Anna Nagar',\n",
              " 'Chormpet',\n",
              " 'Chrmpet',\n",
              " 'Chrompet',\n",
              " 'Chrompt',\n",
              " 'KK Nagar',\n",
              " 'KKNagar',\n",
              " 'Karapakam',\n",
              " 'Karapakkam',\n",
              " 'T Nagar',\n",
              " 'TNagar',\n",
              " 'Velachery',\n",
              " 'Velchery']"
            ]
          },
          "metadata": {},
          "execution_count": 205
        }
      ]
    },
    {
      "cell_type": "code",
      "source": [
        "df['AREA']=df['AREA'].replace(['Adyr'],'Adyar')\n",
        "df['AREA']=df['AREA'].replace(['Ana Nagar','Ann Nagar'],'Anna Nagar')\n",
        "df['AREA']=df['AREA'].replace(['Chormpet','Chrmpet','Chrompet','Chrompt',],'chromepet')\n",
        "df['AREA']=df['AREA'].replace(['KKNagar'],'KK Nagar')\n",
        "df['AREA']=df['AREA'].replace(['Karapakam'],'Karapakkam')\n",
        "df['AREA']=df['AREA'].replace(['TNagar'],'T Nagar')\n",
        "df['AREA']=df['AREA'].replace(['Velchery'],'Velachery')\n",
        "sorted(df.AREA.unique())"
      ],
      "metadata": {
        "colab": {
          "base_uri": "https://localhost:8080/"
        },
        "id": "v-rw7wdorsA1",
        "outputId": "43855e57-146a-451f-ad3c-63fbfb75bbc8"
      },
      "execution_count": 206,
      "outputs": [
        {
          "output_type": "execute_result",
          "data": {
            "text/plain": [
              "['Adyar',\n",
              " 'Anna Nagar',\n",
              " 'KK Nagar',\n",
              " 'Karapakkam',\n",
              " 'T Nagar',\n",
              " 'Velachery',\n",
              " 'chromepet']"
            ]
          },
          "metadata": {},
          "execution_count": 206
        }
      ]
    },
    {
      "cell_type": "code",
      "source": [
        "df[\"INT_SQFT\"].describe() #INT_SQFT is fine"
      ],
      "metadata": {
        "colab": {
          "base_uri": "https://localhost:8080/"
        },
        "id": "AZCj4VOApEnv",
        "outputId": "d5cd8f36-706f-49ec-e53f-bc9fb8791bc0"
      },
      "execution_count": 207,
      "outputs": [
        {
          "output_type": "execute_result",
          "data": {
            "text/plain": [
              "count    7109.000000\n",
              "mean     1382.073006\n",
              "std       457.410902\n",
              "min       500.000000\n",
              "25%       993.000000\n",
              "50%      1373.000000\n",
              "75%      1744.000000\n",
              "max      2500.000000\n",
              "Name: INT_SQFT, dtype: float64"
            ]
          },
          "metadata": {},
          "execution_count": 207
        }
      ]
    },
    {
      "cell_type": "code",
      "source": [
        "df[\"DATE_SALE\"].describe()"
      ],
      "metadata": {
        "colab": {
          "base_uri": "https://localhost:8080/"
        },
        "id": "xZdq9tUNpKxl",
        "outputId": "9f1ec9fb-13f5-4922-f470-dcbde9fb7e62"
      },
      "execution_count": 208,
      "outputs": [
        {
          "output_type": "execute_result",
          "data": {
            "text/plain": [
              "count           7109\n",
              "unique          2798\n",
              "top       06-10-2009\n",
              "freq              12\n",
              "Name: DATE_SALE, dtype: object"
            ]
          },
          "metadata": {},
          "execution_count": 208
        }
      ]
    },
    {
      "cell_type": "code",
      "source": [
        "df[\"DATE_SALE\"]=pd.DatetimeIndex(df[\"DATE_SALE\"]).year\n",
        "#DATE_SALE is fixed"
      ],
      "metadata": {
        "id": "r7cjEtV0oiTu"
      },
      "execution_count": 209,
      "outputs": []
    },
    {
      "cell_type": "code",
      "source": [
        "df[\"DIST_MAINROAD\"].describe()  #is fine"
      ],
      "metadata": {
        "colab": {
          "base_uri": "https://localhost:8080/"
        },
        "id": "lXDMwtiQoiWd",
        "outputId": "15da5cda-ad51-4052-d42e-70480a74963a"
      },
      "execution_count": 210,
      "outputs": [
        {
          "output_type": "execute_result",
          "data": {
            "text/plain": [
              "count    7109.000000\n",
              "mean       99.603179\n",
              "std        57.403110\n",
              "min         0.000000\n",
              "25%        50.000000\n",
              "50%        99.000000\n",
              "75%       148.000000\n",
              "max       200.000000\n",
              "Name: DIST_MAINROAD, dtype: float64"
            ]
          },
          "metadata": {},
          "execution_count": 210
        }
      ]
    },
    {
      "cell_type": "code",
      "source": [
        "df[\"N_BEDROOM\"].describe()  #float to int"
      ],
      "metadata": {
        "colab": {
          "base_uri": "https://localhost:8080/"
        },
        "id": "bXvaRnN2oiZ1",
        "outputId": "c9f9397f-ff26-4616-d824-4eda7b492fea"
      },
      "execution_count": 211,
      "outputs": [
        {
          "output_type": "execute_result",
          "data": {
            "text/plain": [
              "count    7109.000000\n",
              "mean        1.636939\n",
              "std         0.802881\n",
              "min         1.000000\n",
              "25%         1.000000\n",
              "50%         1.000000\n",
              "75%         2.000000\n",
              "max         4.000000\n",
              "Name: N_BEDROOM, dtype: float64"
            ]
          },
          "metadata": {},
          "execution_count": 211
        }
      ]
    },
    {
      "cell_type": "code",
      "source": [
        "df[\"N_BEDROOM\"].unique()"
      ],
      "metadata": {
        "colab": {
          "base_uri": "https://localhost:8080/"
        },
        "id": "pPOTR5GfKXRU",
        "outputId": "401ad813-5fa3-462e-c12e-7deabca5bca5"
      },
      "execution_count": 212,
      "outputs": [
        {
          "output_type": "execute_result",
          "data": {
            "text/plain": [
              "array([1., 2., 3., 4.])"
            ]
          },
          "metadata": {},
          "execution_count": 212
        }
      ]
    },
    {
      "cell_type": "code",
      "source": [
        "df.N_BEDROOM=df.N_BEDROOM.astype(int)"
      ],
      "metadata": {
        "id": "w1o6-x8rqmCX"
      },
      "execution_count": 213,
      "outputs": []
    },
    {
      "cell_type": "code",
      "source": [
        "df[\"N_BATHROOM\"].describe()  #float to int"
      ],
      "metadata": {
        "colab": {
          "base_uri": "https://localhost:8080/"
        },
        "id": "hRogzjEVoidH",
        "outputId": "f179bb8b-4bd6-4fa2-b320-1114d15c810f"
      },
      "execution_count": 214,
      "outputs": [
        {
          "output_type": "execute_result",
          "data": {
            "text/plain": [
              "count    7109.000000\n",
              "mean        1.213110\n",
              "std         0.409534\n",
              "min         1.000000\n",
              "25%         1.000000\n",
              "50%         1.000000\n",
              "75%         1.000000\n",
              "max         2.000000\n",
              "Name: N_BATHROOM, dtype: float64"
            ]
          },
          "metadata": {},
          "execution_count": 214
        }
      ]
    },
    {
      "cell_type": "code",
      "source": [
        "df.N_BATHROOM=df.N_BATHROOM.astype(int)"
      ],
      "metadata": {
        "id": "ZGbqt4Qiq0JG"
      },
      "execution_count": 215,
      "outputs": []
    },
    {
      "cell_type": "code",
      "source": [
        "df[\"N_ROOM\"].describe() #float to int"
      ],
      "metadata": {
        "colab": {
          "base_uri": "https://localhost:8080/"
        },
        "id": "u6HZ5l_5qJYP",
        "outputId": "3a267ee5-55fa-4f67-c91b-0c7d7373090c"
      },
      "execution_count": 216,
      "outputs": [
        {
          "output_type": "execute_result",
          "data": {
            "text/plain": [
              "count    7109.000000\n",
              "mean        3.688704\n",
              "std         1.019099\n",
              "min         2.000000\n",
              "25%         3.000000\n",
              "50%         4.000000\n",
              "75%         4.000000\n",
              "max         6.000000\n",
              "Name: N_ROOM, dtype: float64"
            ]
          },
          "metadata": {},
          "execution_count": 216
        }
      ]
    },
    {
      "cell_type": "code",
      "source": [
        "df.N_ROOM=df.N_ROOM.astype(int)"
      ],
      "metadata": {
        "id": "ml5-4MDOrAum"
      },
      "execution_count": 217,
      "outputs": []
    },
    {
      "cell_type": "code",
      "source": [
        "df[\"N_ROOM\"].unique()"
      ],
      "metadata": {
        "colab": {
          "base_uri": "https://localhost:8080/"
        },
        "id": "BbXfP3jAKOQ7",
        "outputId": "1701cf49-334a-4500-917d-856464146a82"
      },
      "execution_count": 218,
      "outputs": [
        {
          "output_type": "execute_result",
          "data": {
            "text/plain": [
              "array([3, 5, 4, 2, 6])"
            ]
          },
          "metadata": {},
          "execution_count": 218
        }
      ]
    },
    {
      "cell_type": "code",
      "source": [
        "df[\"SALE_COND\"].describe()"
      ],
      "metadata": {
        "colab": {
          "base_uri": "https://localhost:8080/"
        },
        "id": "ZGJt14ozqJbG",
        "outputId": "66c8e76d-27f9-4dfb-a6ac-44f8fbd7b081"
      },
      "execution_count": 219,
      "outputs": [
        {
          "output_type": "execute_result",
          "data": {
            "text/plain": [
              "count        7109\n",
              "unique          9\n",
              "top       AdjLand\n",
              "freq         1433\n",
              "Name: SALE_COND, dtype: object"
            ]
          },
          "metadata": {},
          "execution_count": 219
        }
      ]
    },
    {
      "cell_type": "code",
      "source": [
        "sorted(df[\"SALE_COND\"].unique())"
      ],
      "metadata": {
        "colab": {
          "base_uri": "https://localhost:8080/"
        },
        "id": "y6MEk80UqJeF",
        "outputId": "a14ca8b6-9896-4e72-ea84-f8244be16251"
      },
      "execution_count": 220,
      "outputs": [
        {
          "output_type": "execute_result",
          "data": {
            "text/plain": [
              "['Ab Normal',\n",
              " 'AbNormal',\n",
              " 'Adj Land',\n",
              " 'AdjLand',\n",
              " 'Family',\n",
              " 'Normal Sale',\n",
              " 'PartiaLl',\n",
              " 'Partial',\n",
              " 'Partiall']"
            ]
          },
          "metadata": {},
          "execution_count": 220
        }
      ]
    },
    {
      "cell_type": "code",
      "source": [
        "df[\"SALE_COND\"]=df[\"SALE_COND\"].replace([\"Ab Normal\"],\"AbNormal\")\n",
        "df[\"SALE_COND\"]=df[\"SALE_COND\"].replace([\"Adj Land\"],\"AdjLand\")\n",
        "df[\"SALE_COND\"]=df[\"SALE_COND\"].replace([\"PartiaLl\",\"Partiall\"],\"Partial\")\n",
        "sorted(df.SALE_COND.unique())"
      ],
      "metadata": {
        "colab": {
          "base_uri": "https://localhost:8080/"
        },
        "id": "PX-6z763qJg2",
        "outputId": "1239d78c-6810-46f6-be6d-30fdc412e4fa"
      },
      "execution_count": 221,
      "outputs": [
        {
          "output_type": "execute_result",
          "data": {
            "text/plain": [
              "['AbNormal', 'AdjLand', 'Family', 'Normal Sale', 'Partial']"
            ]
          },
          "metadata": {},
          "execution_count": 221
        }
      ]
    },
    {
      "cell_type": "code",
      "source": [
        "df[\"PARK_FACIL\"].describe()"
      ],
      "metadata": {
        "colab": {
          "base_uri": "https://localhost:8080/"
        },
        "id": "JXSeuHbCsGq_",
        "outputId": "919219c3-5e14-47cf-f118-7dca83af931b"
      },
      "execution_count": 222,
      "outputs": [
        {
          "output_type": "execute_result",
          "data": {
            "text/plain": [
              "count     7109\n",
              "unique       3\n",
              "top        Yes\n",
              "freq      3587\n",
              "Name: PARK_FACIL, dtype: object"
            ]
          },
          "metadata": {},
          "execution_count": 222
        }
      ]
    },
    {
      "cell_type": "code",
      "source": [
        "sorted(df[\"PARK_FACIL\"].unique())"
      ],
      "metadata": {
        "colab": {
          "base_uri": "https://localhost:8080/"
        },
        "id": "9KaauamosGt3",
        "outputId": "f2b652bb-cf7b-4381-8266-9951f1684a58"
      },
      "execution_count": 223,
      "outputs": [
        {
          "output_type": "execute_result",
          "data": {
            "text/plain": [
              "['No', 'Noo', 'Yes']"
            ]
          },
          "metadata": {},
          "execution_count": 223
        }
      ]
    },
    {
      "cell_type": "code",
      "source": [
        "df[\"PARK_FACIL\"]=df[\"PARK_FACIL\"].replace([\"Noo\"],\"No\")\n",
        "sorted(df.PARK_FACIL.unique())"
      ],
      "metadata": {
        "colab": {
          "base_uri": "https://localhost:8080/"
        },
        "id": "lH4LqnC3sGws",
        "outputId": "7555eb59-9d51-45cf-f57f-09f5c1cdb57c"
      },
      "execution_count": 224,
      "outputs": [
        {
          "output_type": "execute_result",
          "data": {
            "text/plain": [
              "['No', 'Yes']"
            ]
          },
          "metadata": {},
          "execution_count": 224
        }
      ]
    },
    {
      "cell_type": "code",
      "source": [
        "df[\"DATE_BUILD\"].describe()"
      ],
      "metadata": {
        "colab": {
          "base_uri": "https://localhost:8080/"
        },
        "id": "QRbu16aVsgt_",
        "outputId": "9e93c4a7-0b9e-42d6-bf89-9c68c44da7d1"
      },
      "execution_count": 225,
      "outputs": [
        {
          "output_type": "execute_result",
          "data": {
            "text/plain": [
              "count           7109\n",
              "unique          5808\n",
              "top       02-07-1987\n",
              "freq               6\n",
              "Name: DATE_BUILD, dtype: object"
            ]
          },
          "metadata": {},
          "execution_count": 225
        }
      ]
    },
    {
      "cell_type": "code",
      "source": [
        "df[\"DATE_BUILD\"]=pd.DatetimeIndex(df[\"DATE_BUILD\"]).year"
      ],
      "metadata": {
        "id": "GUumlcQvsgw-"
      },
      "execution_count": 226,
      "outputs": []
    },
    {
      "cell_type": "code",
      "source": [
        "df[\"BUILDTYPE\"].describe()"
      ],
      "metadata": {
        "colab": {
          "base_uri": "https://localhost:8080/"
        },
        "id": "eRmg91pOsgzz",
        "outputId": "be878543-0b28-40ea-eabe-90e1e99f6749"
      },
      "execution_count": 227,
      "outputs": [
        {
          "output_type": "execute_result",
          "data": {
            "text/plain": [
              "count      7109\n",
              "unique        5\n",
              "top       House\n",
              "freq       2444\n",
              "Name: BUILDTYPE, dtype: object"
            ]
          },
          "metadata": {},
          "execution_count": 227
        }
      ]
    },
    {
      "cell_type": "code",
      "source": [
        "sorted(df[\"BUILDTYPE\"].unique())"
      ],
      "metadata": {
        "colab": {
          "base_uri": "https://localhost:8080/"
        },
        "id": "acKbXEDTsg2-",
        "outputId": "369bce22-3238-4b32-d454-d2a8bb4f00dc"
      },
      "execution_count": 228,
      "outputs": [
        {
          "output_type": "execute_result",
          "data": {
            "text/plain": [
              "['Comercial', 'Commercial', 'House', 'Other', 'Others']"
            ]
          },
          "metadata": {},
          "execution_count": 228
        }
      ]
    },
    {
      "cell_type": "code",
      "source": [
        "df[\"BUILDTYPE\"]=df[\"BUILDTYPE\"].replace([\"Comercial\"],\"Commercial\")\n",
        "df[\"BUILDTYPE\"]=df[\"BUILDTYPE\"].replace([\"Other\"],\"Others\")\n",
        "sorted(df.BUILDTYPE.unique())"
      ],
      "metadata": {
        "colab": {
          "base_uri": "https://localhost:8080/"
        },
        "id": "YM8wgbMms5v4",
        "outputId": "df53bede-165e-4cfd-ad10-94932594b756"
      },
      "execution_count": 229,
      "outputs": [
        {
          "output_type": "execute_result",
          "data": {
            "text/plain": [
              "['Commercial', 'House', 'Others']"
            ]
          },
          "metadata": {},
          "execution_count": 229
        }
      ]
    },
    {
      "cell_type": "code",
      "source": [
        "df[\"UTILITY_AVAIL\"].describe()"
      ],
      "metadata": {
        "colab": {
          "base_uri": "https://localhost:8080/"
        },
        "id": "kEUL_Ij4tLA-",
        "outputId": "b4b22fc8-3ed5-456b-f423-d2d0a7d04b2d"
      },
      "execution_count": 230,
      "outputs": [
        {
          "output_type": "execute_result",
          "data": {
            "text/plain": [
              "count       7109\n",
              "unique         5\n",
              "top       AllPub\n",
              "freq        1886\n",
              "Name: UTILITY_AVAIL, dtype: object"
            ]
          },
          "metadata": {},
          "execution_count": 230
        }
      ]
    },
    {
      "cell_type": "code",
      "source": [
        "sorted(df[\"UTILITY_AVAIL\"].unique())"
      ],
      "metadata": {
        "colab": {
          "base_uri": "https://localhost:8080/"
        },
        "id": "7kbhSGewtLDm",
        "outputId": "357d1ac1-1f92-419c-d7fd-ff4bdf34df5b"
      },
      "execution_count": 231,
      "outputs": [
        {
          "output_type": "execute_result",
          "data": {
            "text/plain": [
              "['All Pub', 'AllPub', 'ELO', 'NoSeWa', 'NoSewr ']"
            ]
          },
          "metadata": {},
          "execution_count": 231
        }
      ]
    },
    {
      "cell_type": "code",
      "source": [
        "df[\"UTILITY_AVAIL\"]=df[\"UTILITY_AVAIL\"].replace([\"All Pub\"],\"AllPub\")\n",
        "df[\"UTILITY_AVAIL\"]=df[\"UTILITY_AVAIL\"].replace([\"NoSewr \"],\"NoSeWa\")\n",
        "sorted(df[\"UTILITY_AVAIL\"].unique())"
      ],
      "metadata": {
        "colab": {
          "base_uri": "https://localhost:8080/"
        },
        "id": "0iuMAZoVtLGs",
        "outputId": "0504bac4-61d8-463c-c396-60da3fc067fa"
      },
      "execution_count": 232,
      "outputs": [
        {
          "output_type": "execute_result",
          "data": {
            "text/plain": [
              "['AllPub', 'ELO', 'NoSeWa']"
            ]
          },
          "metadata": {},
          "execution_count": 232
        }
      ]
    },
    {
      "cell_type": "code",
      "source": [
        "df[\"STREET\"].describe()"
      ],
      "metadata": {
        "colab": {
          "base_uri": "https://localhost:8080/"
        },
        "id": "pTbcQbJ8tag9",
        "outputId": "481e79dc-ab15-4bcd-ce0d-90f6fe0e70ee"
      },
      "execution_count": 233,
      "outputs": [
        {
          "output_type": "execute_result",
          "data": {
            "text/plain": [
              "count      7109\n",
              "unique        5\n",
              "top       Paved\n",
              "freq       2560\n",
              "Name: STREET, dtype: object"
            ]
          },
          "metadata": {},
          "execution_count": 233
        }
      ]
    },
    {
      "cell_type": "code",
      "source": [
        "sorted(df[\"STREET\"].unique()) #spelling mistake"
      ],
      "metadata": {
        "colab": {
          "base_uri": "https://localhost:8080/"
        },
        "id": "Tdeavlnotaj2",
        "outputId": "7fdea5c1-94f8-4966-b0b8-743f13e79242"
      },
      "execution_count": 234,
      "outputs": [
        {
          "output_type": "execute_result",
          "data": {
            "text/plain": [
              "['Gravel', 'No Access', 'NoAccess', 'Pavd', 'Paved']"
            ]
          },
          "metadata": {},
          "execution_count": 234
        }
      ]
    },
    {
      "cell_type": "code",
      "source": [
        "df[\"STREET\"]=df[\"STREET\"].replace([\"No Access\"],\"NoAccess\")\n",
        "df[\"STREET\"]=df[\"STREET\"].replace([\"Pavd\"],\"Paved\")\n",
        "sorted(df[\"STREET\"].unique())"
      ],
      "metadata": {
        "colab": {
          "base_uri": "https://localhost:8080/"
        },
        "id": "Hs0xH0pWt8cQ",
        "outputId": "fc472972-3659-49f9-dd25-5d27722bb343"
      },
      "execution_count": 235,
      "outputs": [
        {
          "output_type": "execute_result",
          "data": {
            "text/plain": [
              "['Gravel', 'NoAccess', 'Paved']"
            ]
          },
          "metadata": {},
          "execution_count": 235
        }
      ]
    },
    {
      "cell_type": "code",
      "source": [
        "df[\"MZZONE\"].describe()"
      ],
      "metadata": {
        "colab": {
          "base_uri": "https://localhost:8080/"
        },
        "id": "q2qBQ2k4t8e2",
        "outputId": "fcfe8d0c-68ff-4044-d629-605c153afd17"
      },
      "execution_count": 236,
      "outputs": [
        {
          "output_type": "execute_result",
          "data": {
            "text/plain": [
              "count     7109\n",
              "unique       6\n",
              "top         RL\n",
              "freq      1858\n",
              "Name: MZZONE, dtype: object"
            ]
          },
          "metadata": {},
          "execution_count": 236
        }
      ]
    },
    {
      "cell_type": "code",
      "source": [
        "sorted(df[\"MZZONE\"].unique()) #fine"
      ],
      "metadata": {
        "colab": {
          "base_uri": "https://localhost:8080/"
        },
        "id": "60GVU091t8iK",
        "outputId": "35956d10-a46f-428f-e860-07dc647fbbd8"
      },
      "execution_count": 237,
      "outputs": [
        {
          "output_type": "execute_result",
          "data": {
            "text/plain": [
              "['A', 'C', 'I', 'RH', 'RL', 'RM']"
            ]
          },
          "metadata": {},
          "execution_count": 237
        }
      ]
    },
    {
      "cell_type": "code",
      "source": [
        "df.columns"
      ],
      "metadata": {
        "colab": {
          "base_uri": "https://localhost:8080/"
        },
        "id": "YCFFcfTfu4O6",
        "outputId": "bad7767a-eb44-4b92-f1c5-135a60ec606d"
      },
      "execution_count": 238,
      "outputs": [
        {
          "output_type": "execute_result",
          "data": {
            "text/plain": [
              "Index(['PRT_ID', 'AREA', 'INT_SQFT', 'DATE_SALE', 'DIST_MAINROAD', 'N_BEDROOM',\n",
              "       'N_BATHROOM', 'N_ROOM', 'SALE_COND', 'PARK_FACIL', 'DATE_BUILD',\n",
              "       'BUILDTYPE', 'UTILITY_AVAIL', 'STREET', 'MZZONE', 'QS_ROOMS',\n",
              "       'QS_BATHROOM', 'QS_BEDROOM', 'QS_OVERALL', 'REG_FEE', 'COMMIS',\n",
              "       'SALES_PRICE'],\n",
              "      dtype='object')"
            ]
          },
          "metadata": {},
          "execution_count": 238
        }
      ]
    },
    {
      "cell_type": "code",
      "source": [
        "df[\"Age_of_building\"]=df[\"DATE_SALE\"]-df[\"DATE_BUILD\"]"
      ],
      "metadata": {
        "id": "F1w3oCslu70v"
      },
      "execution_count": 239,
      "outputs": []
    },
    {
      "cell_type": "code",
      "source": [
        "df.columns"
      ],
      "metadata": {
        "colab": {
          "base_uri": "https://localhost:8080/"
        },
        "id": "Bb6hnAsju736",
        "outputId": "f10ab575-8e5e-4854-e0aa-a779896c1985"
      },
      "execution_count": 240,
      "outputs": [
        {
          "output_type": "execute_result",
          "data": {
            "text/plain": [
              "Index(['PRT_ID', 'AREA', 'INT_SQFT', 'DATE_SALE', 'DIST_MAINROAD', 'N_BEDROOM',\n",
              "       'N_BATHROOM', 'N_ROOM', 'SALE_COND', 'PARK_FACIL', 'DATE_BUILD',\n",
              "       'BUILDTYPE', 'UTILITY_AVAIL', 'STREET', 'MZZONE', 'QS_ROOMS',\n",
              "       'QS_BATHROOM', 'QS_BEDROOM', 'QS_OVERALL', 'REG_FEE', 'COMMIS',\n",
              "       'SALES_PRICE', 'Age_of_building'],\n",
              "      dtype='object')"
            ]
          },
          "metadata": {},
          "execution_count": 240
        }
      ]
    },
    {
      "cell_type": "code",
      "source": [
        "df.info()"
      ],
      "metadata": {
        "colab": {
          "base_uri": "https://localhost:8080/"
        },
        "id": "K1DK1vz_vOR4",
        "outputId": "31eabd98-a683-488e-dcf5-8a276de68760"
      },
      "execution_count": 241,
      "outputs": [
        {
          "output_type": "stream",
          "name": "stdout",
          "text": [
            "<class 'pandas.core.frame.DataFrame'>\n",
            "RangeIndex: 7109 entries, 0 to 7108\n",
            "Data columns (total 23 columns):\n",
            " #   Column           Non-Null Count  Dtype  \n",
            "---  ------           --------------  -----  \n",
            " 0   PRT_ID           7109 non-null   object \n",
            " 1   AREA             7109 non-null   object \n",
            " 2   INT_SQFT         7109 non-null   int64  \n",
            " 3   DATE_SALE        7109 non-null   int64  \n",
            " 4   DIST_MAINROAD    7109 non-null   int64  \n",
            " 5   N_BEDROOM        7109 non-null   int64  \n",
            " 6   N_BATHROOM       7109 non-null   int64  \n",
            " 7   N_ROOM           7109 non-null   int64  \n",
            " 8   SALE_COND        7109 non-null   object \n",
            " 9   PARK_FACIL       7109 non-null   object \n",
            " 10  DATE_BUILD       7109 non-null   int64  \n",
            " 11  BUILDTYPE        7109 non-null   object \n",
            " 12  UTILITY_AVAIL    7109 non-null   object \n",
            " 13  STREET           7109 non-null   object \n",
            " 14  MZZONE           7109 non-null   object \n",
            " 15  QS_ROOMS         7109 non-null   float64\n",
            " 16  QS_BATHROOM      7109 non-null   float64\n",
            " 17  QS_BEDROOM       7109 non-null   float64\n",
            " 18  QS_OVERALL       7109 non-null   float64\n",
            " 19  REG_FEE          7109 non-null   int64  \n",
            " 20  COMMIS           7109 non-null   int64  \n",
            " 21  SALES_PRICE      7109 non-null   int64  \n",
            " 22  Age_of_building  7109 non-null   int64  \n",
            "dtypes: float64(4), int64(11), object(8)\n",
            "memory usage: 1.2+ MB\n"
          ]
        }
      ]
    },
    {
      "cell_type": "markdown",
      "source": [
        "**EDA**"
      ],
      "metadata": {
        "id": "-10cCkW2vPxI"
      }
    },
    {
      "cell_type": "code",
      "source": [
        "plt.figure(figsize=(8,6))\n",
        "feature_data=df[\"AREA\"].value_counts(ascending=True)\n",
        "sns.barplot(x=feature_data.index,y=feature_data.values,data=df)\n",
        "title1 = \"Distribution of area\"\n",
        "plt.title(title1)\n",
        "\n",
        "plt.figure(figsize=(8,6))\n",
        "sns.barplot(x = df['AREA'],y=df['SALES_PRICE'],order=df.groupby('AREA')['SALES_PRICE'].mean().reset_index().sort_values('SALES_PRICE')['AREA'])\n",
        "title2 = \"AREA Vs Avg Sale price\"\n",
        "plt.title(title2)"
      ],
      "metadata": {
        "colab": {
          "base_uri": "https://localhost:8080/",
          "height": 794
        },
        "id": "BJjbdMbz9_8e",
        "outputId": "9bc0d759-a2f9-48b0-84c1-3843b59cbbae"
      },
      "execution_count": 242,
      "outputs": [
        {
          "output_type": "execute_result",
          "data": {
            "text/plain": [
              "Text(0.5, 1.0, 'AREA Vs Avg Sale price')"
            ]
          },
          "metadata": {},
          "execution_count": 242
        },
        {
          "output_type": "display_data",
          "data": {
            "text/plain": [
              "<Figure size 576x432 with 1 Axes>"
            ],
            "image/png": "[encoded data removed]"
          },
          "metadata": {
            "needs_background": "light"
          }
        },
        {
          "output_type": "display_data",
          "data": {
            "text/plain": [
              "<Figure size 576x432 with 1 Axes>"
            ],
            "image/png": "[encoded data removed]"
          },
          "metadata": {
            "needs_background": "light"
          }
        }
      ]
    },
    {
      "cell_type": "code",
      "source": [
        "plt.figure(figsize=(8,6))\n",
        "feature_data=df[\"SALE_COND\"].value_counts(ascending=True)\n",
        "sns.barplot(x=feature_data.index,y=feature_data.values,data=df)\n",
        "title1 = \"Distribution of SALE_COND\"\n",
        "plt.title(title1)\n",
        "\n",
        "plt.figure(figsize=(8,6))\n",
        "sns.barplot(x = df['SALE_COND'],y=df['SALES_PRICE'],order=df.groupby('SALE_COND')['SALES_PRICE'].mean().reset_index().sort_values('SALES_PRICE')['SALE_COND'])\n",
        "title2 = \"SALE_COND Vs Avg Sale price\"\n",
        "plt.title(title2)"
      ],
      "metadata": {
        "colab": {
          "base_uri": "https://localhost:8080/",
          "height": 795
        },
        "id": "gORnalujwJ7G",
        "outputId": "faf9f09e-3177-4dd1-929a-d5a4418423cf"
      },
      "execution_count": 243,
      "outputs": [
        {
          "output_type": "execute_result",
          "data": {
            "text/plain": [
              "Text(0.5, 1.0, 'SALE_COND Vs Avg Sale price')"
            ]
          },
          "metadata": {},
          "execution_count": 243
        },
        {
          "output_type": "display_data",
          "data": {
            "text/plain": [
              "<Figure size 576x432 with 1 Axes>"
            ],
            "image/png": "[encoded data removed]"
          },
          "metadata": {
            "needs_background": "light"
          }
        },
        {
          "output_type": "display_data",
          "data": {
            "text/plain": [
              "<Figure size 576x432 with 1 Axes>"
            ],
            "image/png": "[encoded data removed]"
          },
          "metadata": {
            "needs_background": "light"
          }
        }
      ]
    },
    {
      "cell_type": "code",
      "source": [
        "plt.figure(figsize=(8,6))\n",
        "feature_data=df[\"PARK_FACIL\"].value_counts(ascending=True)\n",
        "sns.barplot(x=feature_data.index,y=feature_data.values,data=df)\n",
        "title1 = \"Distribution by PARK_FACIL\"\n",
        "plt.title(title1)\n",
        "\n",
        "plt.figure(figsize=(8,6))\n",
        "sns.barplot(x = df['PARK_FACIL'],y=df['SALES_PRICE'],order=df.groupby('PARK_FACIL')['SALES_PRICE'].mean().reset_index().sort_values('SALES_PRICE')['PARK_FACIL'])\n",
        "title2 = \"PARK_FACIL Vs Avg Sale price\"\n",
        "plt.title(title2)\n"
      ],
      "metadata": {
        "colab": {
          "base_uri": "https://localhost:8080/",
          "height": 795
        },
        "id": "ilZV--DhwJ9u",
        "outputId": "02f022c2-278c-4f9d-c9e0-50787e3f849a"
      },
      "execution_count": 244,
      "outputs": [
        {
          "output_type": "execute_result",
          "data": {
            "text/plain": [
              "Text(0.5, 1.0, 'PARK_FACIL Vs Avg Sale price')"
            ]
          },
          "metadata": {},
          "execution_count": 244
        },
        {
          "output_type": "display_data",
          "data": {
            "text/plain": [
              "<Figure size 576x432 with 1 Axes>"
            ],
            "image/png": "[encoded data removed]"
          },
          "metadata": {
            "needs_background": "light"
          }
        },
        {
          "output_type": "display_data",
          "data": {
            "text/plain": [
              "<Figure size 576x432 with 1 Axes>"
            ],
            "image/png": "[encoded data removed]"
          },
          "metadata": {
            "needs_background": "light"
          }
        }
      ]
    },
    {
      "cell_type": "code",
      "source": [
        "plt.figure(figsize=(8,6))\n",
        "feature_data=df[\"BUILDTYPE\"].value_counts(ascending=True)\n",
        "sns.barplot(x=feature_data.index,y=feature_data.values,data=df)\n",
        "title1 = \"Distribution by BUILDTYPE\"\n",
        "plt.title(title1)\n",
        "\n",
        "plt.figure(figsize=(8,6))\n",
        "sns.barplot(x = df['BUILDTYPE'],y=df['SALES_PRICE'],order=df.groupby('BUILDTYPE')['SALES_PRICE'].mean().reset_index().sort_values('SALES_PRICE')['BUILDTYPE'])\n",
        "title2 = \"BUILDTYPE Vs Avg Sale price\"\n",
        "plt.title(title2)"
      ],
      "metadata": {
        "colab": {
          "base_uri": "https://localhost:8080/",
          "height": 794
        },
        "id": "elolNBJkm1bV",
        "outputId": "ff1e4632-77e5-48f7-f168-162583fd5b69"
      },
      "execution_count": 245,
      "outputs": [
        {
          "output_type": "execute_result",
          "data": {
            "text/plain": [
              "Text(0.5, 1.0, 'BUILDTYPE Vs Avg Sale price')"
            ]
          },
          "metadata": {},
          "execution_count": 245
        },
        {
          "output_type": "display_data",
          "data": {
            "text/plain": [
              "<Figure size 576x432 with 1 Axes>"
            ],
            "image/png": "[encoded data removed]"
          },
          "metadata": {
            "needs_background": "light"
          }
        },
        {
          "output_type": "display_data",
          "data": {
            "text/plain": [
              "<Figure size 576x432 with 1 Axes>"
            ],
            "image/png": "[encoded data removed]"
          },
          "metadata": {
            "needs_background": "light"
          }
        }
      ]
    },
    {
      "cell_type": "code",
      "source": [
        "plt.figure(figsize=(8,6))\n",
        "feature_data=df[\"UTILITY_AVAIL\"].value_counts(ascending=True)\n",
        "sns.barplot(x=feature_data.index,y=feature_data.values,data=df)\n",
        "title1 = \"Distribution by UTILITY_AVAIL\"\n",
        "plt.title(title1)\n",
        "\n",
        "plt.figure(figsize=(8,6))\n",
        "sns.barplot(x = df['UTILITY_AVAIL'],y=df['SALES_PRICE'],order=df.groupby('UTILITY_AVAIL')['SALES_PRICE'].mean().reset_index().sort_values('SALES_PRICE')['UTILITY_AVAIL'])\n",
        "title2 = \"UTILITY_AVAIL Vs Avg Sale price\"\n",
        "plt.title(title2)"
      ],
      "metadata": {
        "colab": {
          "base_uri": "https://localhost:8080/",
          "height": 795
        },
        "id": "A48ITil5zsuP",
        "outputId": "16dea0c3-4ddd-4db3-cb0d-af6eba703e16"
      },
      "execution_count": 246,
      "outputs": [
        {
          "output_type": "execute_result",
          "data": {
            "text/plain": [
              "Text(0.5, 1.0, 'UTILITY_AVAIL Vs Avg Sale price')"
            ]
          },
          "metadata": {},
          "execution_count": 246
        },
        {
          "output_type": "display_data",
          "data": {
            "text/plain": [
              "<Figure size 576x432 with 1 Axes>"
            ],
            "image/png": "[encoded data removed]"
          },
          "metadata": {
            "needs_background": "light"
          }
        },
        {
          "output_type": "display_data",
          "data": {
            "text/plain": [
              "<Figure size 576x432 with 1 Axes>"
            ],
            "image/png": "[encoded data removed]"
          },
          "metadata": {
            "needs_background": "light"
          }
        }
      ]
    },
    {
      "cell_type": "code",
      "source": [
        "plt.figure(figsize=(8,6))\n",
        "feature_data=df[\"STREET\"].value_counts(ascending=True)\n",
        "sns.barplot(x=feature_data.index,y=feature_data.values,data=df)\n",
        "title1 = \"Distribution by STREET\"\n",
        "plt.title(title1)\n",
        "\n",
        "plt.figure(figsize=(8,6))\n",
        "sns.barplot(x = df['STREET'],y=df['SALES_PRICE'],order=df.groupby('STREET')['SALES_PRICE'].mean().reset_index().sort_values('SALES_PRICE')['STREET'])\n",
        "title2 = \"STREET Vs Avg Sale price\"\n",
        "plt.title(title2)"
      ],
      "metadata": {
        "colab": {
          "base_uri": "https://localhost:8080/",
          "height": 794
        },
        "id": "Ss-OPKauzsw_",
        "outputId": "36b6fd9a-9efc-4dad-f739-f250ad031a0a"
      },
      "execution_count": 247,
      "outputs": [
        {
          "output_type": "execute_result",
          "data": {
            "text/plain": [
              "Text(0.5, 1.0, 'STREET Vs Avg Sale price')"
            ]
          },
          "metadata": {},
          "execution_count": 247
        },
        {
          "output_type": "display_data",
          "data": {
            "text/plain": [
              "<Figure size 576x432 with 1 Axes>"
            ],
            "image/png": "[encoded data removed]"
          },
          "metadata": {
            "needs_background": "light"
          }
        },
        {
          "output_type": "display_data",
          "data": {
            "text/plain": [
              "<Figure size 576x432 with 1 Axes>"
            ],
            "image/png": "[encoded data removed]"
          },
          "metadata": {
            "needs_background": "light"
          }
        }
      ]
    },
    {
      "cell_type": "code",
      "source": [
        "plt.figure(figsize=(8,6))\n",
        "feature_data=df[\"MZZONE\"].value_counts(ascending=True)\n",
        "sns.barplot(x=feature_data.index,y=feature_data.values,data=df)\n",
        "title1 = \"Distribution by MZZONE\"\n",
        "plt.title(title1)\n",
        "\n",
        "plt.figure(figsize=(8,6))\n",
        "sns.barplot(x = df['MZZONE'],y=df['SALES_PRICE'],order=df.groupby('MZZONE')['SALES_PRICE'].mean().reset_index().sort_values('SALES_PRICE')['MZZONE'])\n",
        "title2 = \"MZZONE Vs Avg Sale price\"\n",
        "plt.title(title2)\n"
      ],
      "metadata": {
        "colab": {
          "base_uri": "https://localhost:8080/",
          "height": 794
        },
        "id": "SGvB0AVYzszt",
        "outputId": "06623409-a59e-43d8-fb8c-3ea3bcfe250c"
      },
      "execution_count": 248,
      "outputs": [
        {
          "output_type": "execute_result",
          "data": {
            "text/plain": [
              "Text(0.5, 1.0, 'MZZONE Vs Avg Sale price')"
            ]
          },
          "metadata": {},
          "execution_count": 248
        },
        {
          "output_type": "display_data",
          "data": {
            "text/plain": [
              "<Figure size 576x432 with 1 Axes>"
            ],
            "image/png": "[encoded data removed]"
          },
          "metadata": {
            "needs_background": "light"
          }
        },
        {
          "output_type": "display_data",
          "data": {
            "text/plain": [
              "<Figure size 576x432 with 1 Axes>"
            ],
            "image/png": "[encoded data removed]"
          },
          "metadata": {
            "needs_background": "light"
          }
        }
      ]
    },
    {
      "cell_type": "code",
      "source": [
        "plt.figure(figsize=(16,8))\n",
        "build=df['DATE_SALE'].value_counts()\n",
        "sns.barplot(x=build.index,y=build.values,data=df)\n",
        "plt.xlabel(\"Year of Sale\")\n",
        "plt.ylabel(\"No of houses\")\n",
        "plt.title('Year of sale VS NO. OF HOUSES')\n",
        "plt.show()"
      ],
      "metadata": {
        "colab": {
          "base_uri": "https://localhost:8080/",
          "height": 513
        },
        "id": "VX5JKDbnYjq0",
        "outputId": "d2ebb78b-83e0-4a71-8771-9cd67c3f9b6a"
      },
      "execution_count": 249,
      "outputs": [
        {
          "output_type": "display_data",
          "data": {
            "text/plain": [
              "<Figure size 1152x576 with 1 Axes>"
            ],
            "image/png": "[encoded data removed]"
          },
          "metadata": {
            "needs_background": "light"
          }
        }
      ]
    },
    {
      "cell_type": "code",
      "source": [
        "plt.figure(figsize=(36,8))\n",
        "build=df['DATE_BUILD'].value_counts()\n",
        "sns.barplot(x=build.index,y=build.values,data=df)\n",
        "plt.xlabel(\"Year of Build\")\n",
        "plt.ylabel(\"No of houses\")\n",
        "plt.title('Year of Build VS NO. OF HOUSES')\n",
        "plt.show()"
      ],
      "metadata": {
        "colab": {
          "base_uri": "https://localhost:8080/",
          "height": 513
        },
        "id": "ytRFk0G7cYfV",
        "outputId": "ff21f94c-fb3f-4fa7-cfa1-2c1f6ae21968"
      },
      "execution_count": 250,
      "outputs": [
        {
          "output_type": "display_data",
          "data": {
            "text/plain": [
              "<Figure size 2592x576 with 1 Axes>"
            ],
            "image/png": "[encoded data removed]"
          },
          "metadata": {
            "needs_background": "light"
          }
        }
      ]
    },
    {
      "cell_type": "code",
      "source": [
        "df.info()"
      ],
      "metadata": {
        "colab": {
          "base_uri": "https://localhost:8080/"
        },
        "id": "7WYZDYBNYjt8",
        "outputId": "ad87e653-b5c9-48cf-948d-ff6e0f0e9852"
      },
      "execution_count": 251,
      "outputs": [
        {
          "output_type": "stream",
          "name": "stdout",
          "text": [
            "<class 'pandas.core.frame.DataFrame'>\n",
            "RangeIndex: 7109 entries, 0 to 7108\n",
            "Data columns (total 23 columns):\n",
            " #   Column           Non-Null Count  Dtype  \n",
            "---  ------           --------------  -----  \n",
            " 0   PRT_ID           7109 non-null   object \n",
            " 1   AREA             7109 non-null   object \n",
            " 2   INT_SQFT         7109 non-null   int64  \n",
            " 3   DATE_SALE        7109 non-null   int64  \n",
            " 4   DIST_MAINROAD    7109 non-null   int64  \n",
            " 5   N_BEDROOM        7109 non-null   int64  \n",
            " 6   N_BATHROOM       7109 non-null   int64  \n",
            " 7   N_ROOM           7109 non-null   int64  \n",
            " 8   SALE_COND        7109 non-null   object \n",
            " 9   PARK_FACIL       7109 non-null   object \n",
            " 10  DATE_BUILD       7109 non-null   int64  \n",
            " 11  BUILDTYPE        7109 non-null   object \n",
            " 12  UTILITY_AVAIL    7109 non-null   object \n",
            " 13  STREET           7109 non-null   object \n",
            " 14  MZZONE           7109 non-null   object \n",
            " 15  QS_ROOMS         7109 non-null   float64\n",
            " 16  QS_BATHROOM      7109 non-null   float64\n",
            " 17  QS_BEDROOM       7109 non-null   float64\n",
            " 18  QS_OVERALL       7109 non-null   float64\n",
            " 19  REG_FEE          7109 non-null   int64  \n",
            " 20  COMMIS           7109 non-null   int64  \n",
            " 21  SALES_PRICE      7109 non-null   int64  \n",
            " 22  Age_of_building  7109 non-null   int64  \n",
            "dtypes: float64(4), int64(11), object(8)\n",
            "memory usage: 1.2+ MB\n"
          ]
        }
      ]
    },
    {
      "cell_type": "markdown",
      "source": [
        "**Droping features**"
      ],
      "metadata": {
        "id": "7u-j5ajmMaHy"
      }
    },
    {
      "cell_type": "code",
      "source": [
        "df.drop([\"REG_FEE\",\"COMMIS\",\"DATE_SALE\",\"DATE_BUILD\"],axis=1,inplace=True)\n",
        "#\"REG_FEE\",\"COMMIS\" is apply after sale price,and \"DATE_SALE\",\"DATE_BUILD\" is not relevant for sale price"
      ],
      "metadata": {
        "id": "uoQIeTd4MnWz"
      },
      "execution_count": 252,
      "outputs": []
    },
    {
      "cell_type": "code",
      "source": [
        "df.drop(\"PRT_ID\",axis=1,inplace=True)\n",
        "#unique values not requred"
      ],
      "metadata": {
        "id": "gBwCKo6-QhHL"
      },
      "execution_count": 253,
      "outputs": []
    },
    {
      "cell_type": "code",
      "source": [
        "df.corr()['SALES_PRICE']"
      ],
      "metadata": {
        "colab": {
          "base_uri": "https://localhost:8080/"
        },
        "id": "YzqbuyU2k6OF",
        "outputId": "bac47e68-3c87-4159-8943-9de57e199b99"
      },
      "execution_count": 254,
      "outputs": [
        {
          "output_type": "execute_result",
          "data": {
            "text/plain": [
              "INT_SQFT           0.612125\n",
              "DIST_MAINROAD      0.018783\n",
              "N_BEDROOM          0.330987\n",
              "N_BATHROOM         0.108834\n",
              "N_ROOM             0.602760\n",
              "QS_ROOMS           0.021967\n",
              "QS_BATHROOM       -0.011377\n",
              "QS_BEDROOM         0.018804\n",
              "QS_OVERALL         0.020485\n",
              "SALES_PRICE        1.000000\n",
              "Age_of_building   -0.118842\n",
              "Name: SALES_PRICE, dtype: float64"
            ]
          },
          "metadata": {},
          "execution_count": 254
        }
      ]
    },
    {
      "cell_type": "code",
      "source": [
        "plt.figure(figsize=(20,20))\n",
        "sns.heatmap(df.corr(),annot=True,cmap='RdYlGn')\n",
        "plt.show()"
      ],
      "metadata": {
        "colab": {
          "base_uri": "https://localhost:8080/",
          "height": 1000
        },
        "id": "vzolzw-Al4As",
        "outputId": "5c9b2bbd-d3da-4f13-950f-c9c6ab7d3425"
      },
      "execution_count": 255,
      "outputs": [
        {
          "output_type": "display_data",
          "data": {
            "text/plain": [
              "<Figure size 1440x1440 with 2 Axes>"
            ],
            "image/png": "[encoded data removed]"
          },
          "metadata": {
            "needs_background": "light"
          }
        }
      ]
    },
    {
      "cell_type": "code",
      "source": [
        "df.drop(['DIST_MAINROAD', 'QS_ROOMS', 'QS_BATHROOM', 'QS_BEDROOM',\"QS_OVERALL\"], axis=1, inplace=True)"
      ],
      "metadata": {
        "id": "lq-Ap0T4oZtM"
      },
      "execution_count": 256,
      "outputs": []
    },
    {
      "cell_type": "markdown",
      "source": [
        "Encoding"
      ],
      "metadata": {
        "id": "MNleHAen0t44"
      }
    },
    {
      "cell_type": "code",
      "source": [
        "# AREA          -> Nominal ==one hot\n",
        "# SALE_COND     -> Nominal ==one hot\n",
        "# PARK_FACIL    -> ordinal ==label\n",
        "# BUILDTYPE     -> Nominal ==one hot\n",
        "# UTILITY_AVAIL -> Nominal ==one hot\n",
        "# STREET        -> Nominal ==one hot\n",
        "# MZZONE        -> Nominal ==one hot"
      ],
      "metadata": {
        "id": "zXZzQEn0zs_C"
      },
      "execution_count": 257,
      "outputs": []
    },
    {
      "cell_type": "code",
      "source": [
        "area=pd.get_dummies(df[\"AREA\"], drop_first=True) #1"
      ],
      "metadata": {
        "id": "NFYzGRVtVzMR"
      },
      "execution_count": 258,
      "outputs": []
    },
    {
      "cell_type": "code",
      "source": [
        "sale_cond=pd.get_dummies(df[\"SALE_COND\"], drop_first=True) #2"
      ],
      "metadata": {
        "id": "A2WQcjO4ZQYz"
      },
      "execution_count": 259,
      "outputs": []
    },
    {
      "cell_type": "code",
      "source": [
        "buildtype=pd.get_dummies(df[\"BUILDTYPE\"], drop_first=True)#3"
      ],
      "metadata": {
        "id": "aRMFQDl8ZQes"
      },
      "execution_count": 260,
      "outputs": []
    },
    {
      "cell_type": "code",
      "source": [
        "utility_avail=pd.get_dummies(df[\"UTILITY_AVAIL\"], drop_first=True)#4"
      ],
      "metadata": {
        "id": "TtKMXEjJZVBL"
      },
      "execution_count": 261,
      "outputs": []
    },
    {
      "cell_type": "code",
      "source": [
        "mzzone=pd.get_dummies(df[\"MZZONE\"], drop_first=True)#5"
      ],
      "metadata": {
        "id": "9SicxX2OZVGt"
      },
      "execution_count": 262,
      "outputs": []
    },
    {
      "cell_type": "code",
      "source": [
        "street=pd.get_dummies(df[\"STREET\"], drop_first=True)#6"
      ],
      "metadata": {
        "id": "WiDaf-JfmVX1"
      },
      "execution_count": 263,
      "outputs": []
    },
    {
      "cell_type": "code",
      "source": [
        "#add to main df\n",
        "df=pd.concat([df,area,sale_cond,buildtype,utility_avail,mzzone,street],axis=1)"
      ],
      "metadata": {
        "id": "T6H2ssYbNNN5"
      },
      "execution_count": 264,
      "outputs": []
    },
    {
      "cell_type": "code",
      "source": [
        "#drop old clm\n",
        "df.drop([\"AREA\",\"SALE_COND\",\"BUILDTYPE\",\"UTILITY_AVAIL\",\"MZZONE\",\"STREET\"],axis=1,inplace=True)"
      ],
      "metadata": {
        "id": "WrbwbBCbaCFk"
      },
      "execution_count": 265,
      "outputs": []
    },
    {
      "cell_type": "code",
      "source": [
        "df['PARK_FACIL'] = df['PARK_FACIL'].map({'No':0,'Yes':1})"
      ],
      "metadata": {
        "id": "JtmPVVTyahbN"
      },
      "execution_count": 266,
      "outputs": []
    },
    {
      "cell_type": "code",
      "source": [
        "df.head(5)"
      ],
      "metadata": {
        "colab": {
          "base_uri": "https://localhost:8080/",
          "height": 236
        },
        "id": "ODq301bSnsNF",
        "outputId": "06c92d03-24a1-43e2-d614-f35bc7da3076"
      },
      "execution_count": 267,
      "outputs": [
        {
          "output_type": "execute_result",
          "data": {
            "text/plain": [
              "   INT_SQFT  N_BEDROOM  N_BATHROOM  N_ROOM  PARK_FACIL  SALES_PRICE  \\\n",
              "0      1004          1           1       3           1      7600000   \n",
              "1      1986          2           1       5           0     21717770   \n",
              "2       909          1           1       3           1     13159200   \n",
              "3      1855          3           2       5           0      9630290   \n",
              "4      1226          1           1       3           1      7406250   \n",
              "\n",
              "   Age_of_building  Anna Nagar  KK Nagar  Karapakkam  ...  Others  ELO  \\\n",
              "0               44           0         0           1  ...       0    0   \n",
              "1               11           1         0           0  ...       0    0   \n",
              "2               20           0         0           0  ...       0    1   \n",
              "3               22           0         0           0  ...       1    0   \n",
              "4               30           0         0           1  ...       1    0   \n",
              "\n",
              "   NoSeWa  C  I  RH  RL  RM  NoAccess  Paved  \n",
              "0       0  0  0   0   0   0         0      1  \n",
              "1       0  0  0   1   0   0         0      0  \n",
              "2       0  0  0   0   1   0         0      0  \n",
              "3       1  0  1   0   0   0         0      1  \n",
              "4       0  1  0   0   0   0         0      0  \n",
              "\n",
              "[5 rows x 28 columns]"
            ],
            "text/html": [
              "\n",
              "  <div id=\"df-011d0126-d10d-4ec0-9c1b-7d2ff8182d72\">\n",
              "    <div class=\"colab-df-container\">\n",
              "      <div>\n",
              "<style scoped>\n",
              "    .dataframe tbody tr th:only-of-type {\n",
              "        vertical-align: middle;\n",
              "    }\n",
              "\n",
              "    .dataframe tbody tr th {\n",
              "        vertical-align: top;\n",
              "    }\n",
              "\n",
              "    .dataframe thead th {\n",
              "        text-align: right;\n",
              "    }\n",
              "</style>\n",
              "<table border=\"1\" class=\"dataframe\">\n",
              "  <thead>\n",
              "    <tr style=\"text-align: right;\">\n",
              "      <th></th>\n",
              "      <th>INT_SQFT</th>\n",
              "      <th>N_BEDROOM</th>\n",
              "      <th>N_BATHROOM</th>\n",
              "      <th>N_ROOM</th>\n",
              "      <th>PARK_FACIL</th>\n",
              "      <th>SALES_PRICE</th>\n",
              "      <th>Age_of_building</th>\n",
              "      <th>Anna Nagar</th>\n",
              "      <th>KK Nagar</th>\n",
              "      <th>Karapakkam</th>\n",
              "      <th>...</th>\n",
              "      <th>Others</th>\n",
              "      <th>ELO</th>\n",
              "      <th>NoSeWa</th>\n",
              "      <th>C</th>\n",
              "      <th>I</th>\n",
              "      <th>RH</th>\n",
              "      <th>RL</th>\n",
              "      <th>RM</th>\n",
              "      <th>NoAccess</th>\n",
              "      <th>Paved</th>\n",
              "    </tr>\n",
              "  </thead>\n",
              "  <tbody>\n",
              "    <tr>\n",
              "      <th>0</th>\n",
              "      <td>1004</td>\n",
              "      <td>1</td>\n",
              "      <td>1</td>\n",
              "      <td>3</td>\n",
              "      <td>1</td>\n",
              "      <td>7600000</td>\n",
              "      <td>44</td>\n",
              "      <td>0</td>\n",
              "      <td>0</td>\n",
              "      <td>1</td>\n",
              "      <td>...</td>\n",
              "      <td>0</td>\n",
              "      <td>0</td>\n",
              "      <td>0</td>\n",
              "      <td>0</td>\n",
              "      <td>0</td>\n",
              "      <td>0</td>\n",
              "      <td>0</td>\n",
              "      <td>0</td>\n",
              "      <td>0</td>\n",
              "      <td>1</td>\n",
              "    </tr>\n",
              "    <tr>\n",
              "      <th>1</th>\n",
              "      <td>1986</td>\n",
              "      <td>2</td>\n",
              "      <td>1</td>\n",
              "      <td>5</td>\n",
              "      <td>0</td>\n",
              "      <td>21717770</td>\n",
              "      <td>11</td>\n",
              "      <td>1</td>\n",
              "      <td>0</td>\n",
              "      <td>0</td>\n",
              "      <td>...</td>\n",
              "      <td>0</td>\n",
              "      <td>0</td>\n",
              "      <td>0</td>\n",
              "      <td>0</td>\n",
              "      <td>0</td>\n",
              "      <td>1</td>\n",
              "      <td>0</td>\n",
              "      <td>0</td>\n",
              "      <td>0</td>\n",
              "      <td>0</td>\n",
              "    </tr>\n",
              "    <tr>\n",
              "      <th>2</th>\n",
              "      <td>909</td>\n",
              "      <td>1</td>\n",
              "      <td>1</td>\n",
              "      <td>3</td>\n",
              "      <td>1</td>\n",
              "      <td>13159200</td>\n",
              "      <td>20</td>\n",
              "      <td>0</td>\n",
              "      <td>0</td>\n",
              "      <td>0</td>\n",
              "      <td>...</td>\n",
              "      <td>0</td>\n",
              "      <td>1</td>\n",
              "      <td>0</td>\n",
              "      <td>0</td>\n",
              "      <td>0</td>\n",
              "      <td>0</td>\n",
              "      <td>1</td>\n",
              "      <td>0</td>\n",
              "      <td>0</td>\n",
              "      <td>0</td>\n",
              "    </tr>\n",
              "    <tr>\n",
              "      <th>3</th>\n",
              "      <td>1855</td>\n",
              "      <td>3</td>\n",
              "      <td>2</td>\n",
              "      <td>5</td>\n",
              "      <td>0</td>\n",
              "      <td>9630290</td>\n",
              "      <td>22</td>\n",
              "      <td>0</td>\n",
              "      <td>0</td>\n",
              "      <td>0</td>\n",
              "      <td>...</td>\n",
              "      <td>1</td>\n",
              "      <td>0</td>\n",
              "      <td>1</td>\n",
              "      <td>0</td>\n",
              "      <td>1</td>\n",
              "      <td>0</td>\n",
              "      <td>0</td>\n",
              "      <td>0</td>\n",
              "      <td>0</td>\n",
              "      <td>1</td>\n",
              "    </tr>\n",
              "    <tr>\n",
              "      <th>4</th>\n",
              "      <td>1226</td>\n",
              "      <td>1</td>\n",
              "      <td>1</td>\n",
              "      <td>3</td>\n",
              "      <td>1</td>\n",
              "      <td>7406250</td>\n",
              "      <td>30</td>\n",
              "      <td>0</td>\n",
              "      <td>0</td>\n",
              "      <td>1</td>\n",
              "      <td>...</td>\n",
              "      <td>1</td>\n",
              "      <td>0</td>\n",
              "      <td>0</td>\n",
              "      <td>1</td>\n",
              "      <td>0</td>\n",
              "      <td>0</td>\n",
              "      <td>0</td>\n",
              "      <td>0</td>\n",
              "      <td>0</td>\n",
              "      <td>0</td>\n",
              "    </tr>\n",
              "  </tbody>\n",
              "</table>\n",
              "<p>5 rows × 28 columns</p>\n",
              "</div>\n",
              "      <button class=\"colab-df-convert\" onclick=\"convertToInteractive('df-011d0126-d10d-4ec0-9c1b-7d2ff8182d72')\"\n",
              "              title=\"Convert this dataframe to an interactive table.\"\n",
              "              style=\"display:none;\">\n",
              "        \n",
              "  <svg xmlns=\"http://www.w3.org/2000/svg\" height=\"24px\"viewBox=\"0 0 24 24\"\n",
              "       width=\"24px\">\n",
              "    <path d=\"M0 0h24v24H0V0z\" fill=\"none\"/>\n",
              "    <path d=\"M18.56 5.44l.94 2.06.94-2.06 2.06-.94-2.06-.94-.94-2.06-.94 2.06-2.06.94zm-11 1L8.5 8.5l.94-2.06 2.06-.94-2.06-.94L8.5 2.5l-.94 2.06-2.06.94zm10 10l.94 2.06.94-2.06 2.06-.94-2.06-.94-.94-2.06-.94 2.06-2.06.94z\"/><path d=\"M17.41 7.96l-1.37-1.37c-.4-.4-.92-.59-1.43-.59-.52 0-1.04.2-1.43.59L10.3 9.45l-7.72 7.72c-.78.78-.78 2.05 0 2.83L4 21.41c.39.39.9.59 1.41.59.51 0 1.02-.2 1.41-.59l7.78-7.78 2.81-2.81c.8-.78.8-2.07 0-2.86zM5.41 20L4 18.59l7.72-7.72 1.47 1.35L5.41 20z\"/>\n",
              "  </svg>\n",
              "      </button>\n",
              "      \n",
              "  <style>\n",
              "    .colab-df-container {\n",
              "      display:flex;\n",
              "      flex-wrap:wrap;\n",
              "      gap: 12px;\n",
              "    }\n",
              "\n",
              "    .colab-df-convert {\n",
              "      background-color: #E8F0FE;\n",
              "      border: none;\n",
              "      border-radius: 50%;\n",
              "      cursor: pointer;\n",
              "      display: none;\n",
              "      fill: #1967D2;\n",
              "      height: 32px;\n",
              "      padding: 0 0 0 0;\n",
              "      width: 32px;\n",
              "    }\n",
              "\n",
              "    .colab-df-convert:hover {\n",
              "      background-color: #E2EBFA;\n",
              "      box-shadow: 0px 1px 2px rgba(60, 64, 67, 0.3), 0px 1px 3px 1px rgba(60, 64, 67, 0.15);\n",
              "      fill: #174EA6;\n",
              "    }\n",
              "\n",
              "    [theme=dark] .colab-df-convert {\n",
              "      background-color: #3B4455;\n",
              "      fill: #D2E3FC;\n",
              "    }\n",
              "\n",
              "    [theme=dark] .colab-df-convert:hover {\n",
              "      background-color: #434B5C;\n",
              "      box-shadow: 0px 1px 3px 1px rgba(0, 0, 0, 0.15);\n",
              "      filter: drop-shadow(0px 1px 2px rgba(0, 0, 0, 0.3));\n",
              "      fill: #FFFFFF;\n",
              "    }\n",
              "  </style>\n",
              "\n",
              "      <script>\n",
              "        const buttonEl =\n",
              "          document.querySelector('#df-011d0126-d10d-4ec0-9c1b-7d2ff8182d72 button.colab-df-convert');\n",
              "        buttonEl.style.display =\n",
              "          google.colab.kernel.accessAllowed ? 'block' : 'none';\n",
              "\n",
              "        async function convertToInteractive(key) {\n",
              "          const element = document.querySelector('#df-011d0126-d10d-4ec0-9c1b-7d2ff8182d72');\n",
              "          const dataTable =\n",
              "            await google.colab.kernel.invokeFunction('convertToInteractive',\n",
              "                                                     [key], {});\n",
              "          if (!dataTable) return;\n",
              "\n",
              "          const docLinkHtml = 'Like what you see? Visit the ' +\n",
              "            '<a target=\"_blank\" href=https://colab.research.google.com/notebooks/data_table.ipynb>data table notebook</a>'\n",
              "            + ' to learn more about interactive tables.';\n",
              "          element.innerHTML = '';\n",
              "          dataTable['output_type'] = 'display_data';\n",
              "          await google.colab.output.renderOutput(dataTable, element);\n",
              "          const docLink = document.createElement('div');\n",
              "          docLink.innerHTML = docLinkHtml;\n",
              "          element.appendChild(docLink);\n",
              "        }\n",
              "      </script>\n",
              "    </div>\n",
              "  </div>\n",
              "  "
            ]
          },
          "metadata": {},
          "execution_count": 267
        }
      ]
    },
    {
      "cell_type": "code",
      "source": [
        "X=df.drop([\"SALES_PRICE\"],axis=1)\n",
        "y=df[\"SALES_PRICE\"]"
      ],
      "metadata": {
        "id": "s1kxYBGwb_kF"
      },
      "execution_count": 268,
      "outputs": []
    },
    {
      "cell_type": "markdown",
      "source": [
        "**Splitting the training and testing Dataset.**"
      ],
      "metadata": {
        "id": "p_2IDxLUdDUk"
      }
    },
    {
      "cell_type": "code",
      "source": [
        "X_train, X_test, y_train, y_test = train_test_split(X,y,test_size= 0.2, random_state=10)"
      ],
      "metadata": {
        "id": "7HT6rlJQcBMo"
      },
      "execution_count": 269,
      "outputs": []
    },
    {
      "cell_type": "markdown",
      "source": [
        "**Scaling the data**"
      ],
      "metadata": {
        "id": "SOJF8cXTc-fM"
      }
    },
    {
      "cell_type": "code",
      "source": [
        "from sklearn.preprocessing import StandardScaler\n",
        "scaler = StandardScaler()\n",
        "scaler.fit(X_train)\n",
        "X_train= scaler.transform(X_train)\n",
        "X_test= scaler.transform(X_test)"
      ],
      "metadata": {
        "id": "tqQPOCNZ9lQv"
      },
      "execution_count": 270,
      "outputs": []
    },
    {
      "cell_type": "code",
      "source": [
        "X_train.shape, X_test.shape, y_train.shape, y_test.shape"
      ],
      "metadata": {
        "colab": {
          "base_uri": "https://localhost:8080/"
        },
        "id": "ycZYpHijgiRj",
        "outputId": "e0e2f5a6-4ba0-4d4f-8653-43026b1a5755"
      },
      "execution_count": 271,
      "outputs": [
        {
          "output_type": "execute_result",
          "data": {
            "text/plain": [
              "((5687, 27), (1422, 27), (5687,), (1422,))"
            ]
          },
          "metadata": {},
          "execution_count": 271
        }
      ]
    },
    {
      "cell_type": "markdown",
      "source": [
        "**Linear Regression**"
      ],
      "metadata": {
        "id": "_Kbl1ouan5V8"
      }
    },
    {
      "cell_type": "code",
      "source": [
        "from sklearn.linear_model import LinearRegression\n",
        "lr= LinearRegression()\n",
        "lr.fit(X_train,y_train)\n",
        "lr.score(X_test,y_test)"
      ],
      "metadata": {
        "colab": {
          "base_uri": "https://localhost:8080/"
        },
        "id": "HejP0cst9lV_",
        "outputId": "36607127-2014-4bfc-a6ef-16f858d9a0d6"
      },
      "execution_count": 272,
      "outputs": [
        {
          "output_type": "execute_result",
          "data": {
            "text/plain": [
              "0.9554672988610996"
            ]
          },
          "metadata": {},
          "execution_count": 272
        }
      ]
    },
    {
      "cell_type": "markdown",
      "source": [
        "**K Nearest Neighbour**"
      ],
      "metadata": {
        "id": "OP-xEhAdoPOk"
      }
    },
    {
      "cell_type": "code",
      "source": [
        "from sklearn.neighbors import KNeighborsRegressor\n",
        "from sklearn.model_selection import cross_val_score\n",
        "\n",
        "for i in [1,2,3,4,5,6,7,8,9,10,20,30,40,50]:\n",
        "  knn= KNeighborsRegressor(i)               \n",
        "  knn.fit(X_train, y_train)\n",
        "  print(\"K value  :\", i, \"Cross Value Accuracy :\" , np.mean(cross_val_score(knn, X_train, y_train, cv=10)))"
      ],
      "metadata": {
        "colab": {
          "base_uri": "https://localhost:8080/"
        },
        "id": "wJ2h_t5kcsyw",
        "outputId": "f12afc87-42e1-4a3c-8061-f72bba65f656"
      },
      "execution_count": 273,
      "outputs": [
        {
          "output_type": "stream",
          "name": "stdout",
          "text": [
            "K value  : 1 Cross Value Accuracy : 0.7104221874556126\n",
            "K value  : 2 Cross Value Accuracy : 0.776471655175125\n",
            "K value  : 3 Cross Value Accuracy : 0.7959118184507877\n",
            "K value  : 4 Cross Value Accuracy : 0.7989528158172382\n",
            "K value  : 5 Cross Value Accuracy : 0.8020768977053525\n",
            "K value  : 6 Cross Value Accuracy : 0.8006619417827665\n",
            "K value  : 7 Cross Value Accuracy : 0.798248126589508\n",
            "K value  : 8 Cross Value Accuracy : 0.7962986463554098\n",
            "K value  : 9 Cross Value Accuracy : 0.7946235087423081\n",
            "K value  : 10 Cross Value Accuracy : 0.7920850492748241\n",
            "K value  : 20 Cross Value Accuracy : 0.7790194422217762\n",
            "K value  : 30 Cross Value Accuracy : 0.7658267052895359\n",
            "K value  : 40 Cross Value Accuracy : 0.7559849461719808\n",
            "K value  : 50 Cross Value Accuracy : 0.7480071637007393\n"
          ]
        }
      ]
    },
    {
      "cell_type": "markdown",
      "source": [
        "**Decision Tree**"
      ],
      "metadata": {
        "id": "UIKQC5I5odSV"
      }
    },
    {
      "cell_type": "code",
      "source": [
        "from sklearn.metrics import r2_score\n",
        "from sklearn.tree import DecisionTreeRegressor\n",
        "from sklearn.model_selection import cross_val_score\n",
        "\n",
        "for depth in [1,2,3,4,5,6,7,8,9,10,20,40]:\n",
        "  dt= DecisionTreeRegressor(max_depth= depth,random_state=0)\n",
        "  dt.fit(X_train, y_train)\n",
        "  accuracy= r2_score(y_test,dt.predict(X_test))\n",
        "  val= cross_val_score(dt, X, y, cv=10)\n",
        "  print('K:',depth,'R2 Score:',accuracy,'Cross Val Score:',np.mean(val))"
      ],
      "metadata": {
        "colab": {
          "base_uri": "https://localhost:8080/"
        },
        "id": "cSphu83_hzk7",
        "outputId": "756a543a-9bdc-4fe5-e52c-2f10c9ba60cd"
      },
      "execution_count": 274,
      "outputs": [
        {
          "output_type": "stream",
          "name": "stdout",
          "text": [
            "K: 1 R2 Score: 0.32063988560410317 Cross Val Score: 0.30713886240518135\n",
            "K: 2 R2 Score: 0.4775069244135146 Cross Val Score: 0.4629382190421337\n",
            "K: 3 R2 Score: 0.6626536290523246 Cross Val Score: 0.655192967107995\n",
            "K: 4 R2 Score: 0.7839084846810908 Cross Val Score: 0.7759278227173768\n",
            "K: 5 R2 Score: 0.8620914023618858 Cross Val Score: 0.8571701394502849\n",
            "K: 6 R2 Score: 0.9028552746270638 Cross Val Score: 0.8987686524387174\n",
            "K: 7 R2 Score: 0.9269817378024848 Cross Val Score: 0.9272642634171755\n",
            "K: 8 R2 Score: 0.9416266501310588 Cross Val Score: 0.9430485146223493\n",
            "K: 9 R2 Score: 0.9512257673125114 Cross Val Score: 0.9535972459007029\n",
            "K: 10 R2 Score: 0.9569609719961655 Cross Val Score: 0.9598602262362073\n",
            "K: 20 R2 Score: 0.9583818975342601 Cross Val Score: 0.9652742394518119\n",
            "K: 40 R2 Score: 0.9574296334037162 Cross Val Score: 0.9649721561808265\n"
          ]
        }
      ]
    },
    {
      "cell_type": "code",
      "source": [
        "dt= DecisionTreeRegressor(max_depth= 10,random_state=0)\n",
        "dt.fit(X_train, y_train)  # area, int_sqft, commericial buildtype, mzzone , park_facl\n",
        "# Get numerical feature importances\n",
        "importances = list(dt.feature_importances_)\n",
        "# List of tuples with variable and importance\n",
        "feature_importances = [(feature, round(importance, 2)) for feature, importance in zip(list(X.columns), importances)]\n",
        "# Sort the feature importances by most important first\n",
        "feature_importances = sorted(feature_importances, key = lambda x: x[1], reverse = True)\n",
        "feature_importances"
      ],
      "metadata": {
        "colab": {
          "base_uri": "https://localhost:8080/"
        },
        "id": "VMlomfh0hznn",
        "outputId": "626ab7d8-9a33-4c61-de6b-1813f6e86964"
      },
      "execution_count": 275,
      "outputs": [
        {
          "output_type": "execute_result",
          "data": {
            "text/plain": [
              "[('INT_SQFT', 0.39),\n",
              " ('Others', 0.2),\n",
              " ('House', 0.13),\n",
              " ('Karapakkam', 0.12),\n",
              " ('Velachery', 0.06),\n",
              " ('KK Nagar', 0.03),\n",
              " ('PARK_FACIL', 0.02),\n",
              " ('RM', 0.02),\n",
              " ('RH', 0.01),\n",
              " ('RL', 0.01),\n",
              " ('NoAccess', 0.01),\n",
              " ('N_BEDROOM', 0.0),\n",
              " ('N_BATHROOM', 0.0),\n",
              " ('N_ROOM', 0.0),\n",
              " ('Age_of_building', 0.0),\n",
              " ('Anna Nagar', 0.0),\n",
              " ('T Nagar', 0.0),\n",
              " ('chromepet', 0.0),\n",
              " ('AdjLand', 0.0),\n",
              " ('Family', 0.0),\n",
              " ('Normal Sale', 0.0),\n",
              " ('Partial', 0.0),\n",
              " ('ELO', 0.0),\n",
              " ('NoSeWa', 0.0),\n",
              " ('C', 0.0),\n",
              " ('I', 0.0),\n",
              " ('Paved', 0.0)]"
            ]
          },
          "metadata": {},
          "execution_count": 275
        }
      ]
    },
    {
      "cell_type": "code",
      "source": [
        "dt= DecisionTreeRegressor(max_depth= 10,random_state=0)\n",
        "dt.fit(X_train, y_train)\n",
        "pred= dt.predict(X_test)\n",
        "accuracy= r2_score(y_test,pred)\n",
        "print(accuracy)"
      ],
      "metadata": {
        "colab": {
          "base_uri": "https://localhost:8080/"
        },
        "id": "n8U3ff6ihzqq",
        "outputId": "8ea4ba45-08db-4045-deab-47818aa0bb8f"
      },
      "execution_count": 276,
      "outputs": [
        {
          "output_type": "stream",
          "name": "stdout",
          "text": [
            "0.9569609719961655\n"
          ]
        }
      ]
    },
    {
      "cell_type": "markdown",
      "source": [
        "**Random Forest Regression**"
      ],
      "metadata": {
        "id": "MErsi9Wg2F9e"
      }
    },
    {
      "cell_type": "code",
      "source": [
        "max_depth=np.arange(4,20)\n",
        "cross_val_rf=[]\n",
        "for d in max_depth:\n",
        "  rf_regressor=RandomForestRegressor(max_depth=d, random_state=0)\n",
        "  rf_regressor.fit(X_train,y_train)\n",
        "  print(\"Depth : \", d, \"cross_val_score : \", cross_val_score(rf_regressor,X_train,y_train,cv = 15).mean())\n",
        "  cross_val_rf.append(cross_val_score(rf_regressor,X_train,y_train,cv = 15).mean())"
      ],
      "metadata": {
        "colab": {
          "base_uri": "https://localhost:8080/"
        },
        "id": "qnK8_-2D2ACf",
        "outputId": "e55e7ccf-5ab3-4e42-f5e3-d20865d99eab"
      },
      "execution_count": 277,
      "outputs": [
        {
          "output_type": "stream",
          "name": "stdout",
          "text": [
            "Depth :  4 cross_val_score :  0.7907087266939276\n",
            "Depth :  5 cross_val_score :  0.884597288306005\n",
            "Depth :  6 cross_val_score :  0.9196860963425585\n",
            "Depth :  7 cross_val_score :  0.9454909912491789\n",
            "Depth :  8 cross_val_score :  0.9600428452151546\n",
            "Depth :  9 cross_val_score :  0.9694410512475536\n",
            "Depth :  10 cross_val_score :  0.9748800372769251\n",
            "Depth :  11 cross_val_score :  0.9780578403218663\n",
            "Depth :  12 cross_val_score :  0.9796964744595044\n",
            "Depth :  13 cross_val_score :  0.9805657843275983\n",
            "Depth :  14 cross_val_score :  0.9809641383859804\n",
            "Depth :  15 cross_val_score :  0.9809631110200033\n",
            "Depth :  16 cross_val_score :  0.9809995016724808\n",
            "Depth :  17 cross_val_score :  0.9809980128940984\n",
            "Depth :  18 cross_val_score :  0.9810223635583075\n",
            "Depth :  19 cross_val_score :  0.9810079226966374\n"
          ]
        }
      ]
    },
    {
      "cell_type": "code",
      "source": [
        "cross_val_rf_regressor=max(cross_val_rf)\n",
        "print(cross_val_rf_regressor)"
      ],
      "metadata": {
        "colab": {
          "base_uri": "https://localhost:8080/"
        },
        "id": "KMC5e9hM2AF4",
        "outputId": "9a020edd-9ed0-47b6-cceb-2ebfa1db54ad"
      },
      "execution_count": 278,
      "outputs": [
        {
          "output_type": "stream",
          "name": "stdout",
          "text": [
            "0.9810223635583075\n"
          ]
        }
      ]
    },
    {
      "cell_type": "code",
      "source": [
        "rf_regressor=RandomForestRegressor(max_depth=18, random_state=0)\n",
        "rf_regressor.fit(X_train,y_train)"
      ],
      "metadata": {
        "colab": {
          "base_uri": "https://localhost:8080/"
        },
        "id": "Lqlv1t295M9-",
        "outputId": "353ce456-49e6-49a8-83f9-8cb4a56db3d1"
      },
      "execution_count": 279,
      "outputs": [
        {
          "output_type": "execute_result",
          "data": {
            "text/plain": [
              "RandomForestRegressor(max_depth=18, random_state=0)"
            ]
          },
          "metadata": {},
          "execution_count": 279
        }
      ]
    },
    {
      "cell_type": "code",
      "source": [
        "sorted_idx = rf_regressor.feature_importances_.argsort()\n",
        "plt.figure(figsize=(10,5))\n",
        "plt.barh(df.columns[sorted_idx], rf_regressor.feature_importances_[sorted_idx])\n",
        "plt.xlabel(\"Random Forest Feature Importance\")\n",
        "plt.title(\"Feature Importance\")\n",
        "plt.show()"
      ],
      "metadata": {
        "colab": {
          "base_uri": "https://localhost:8080/",
          "height": 350
        },
        "id": "9rYoRCh7Exsk",
        "outputId": "83644537-680b-429e-b4c3-58a887e7c203"
      },
      "execution_count": 280,
      "outputs": [
        {
          "output_type": "display_data",
          "data": {
            "text/plain": [
              "<Figure size 720x360 with 1 Axes>"
            ],
            "image/png": "[encoded data removed]"
          },
          "metadata": {
            "needs_background": "light"
          }
        }
      ]
    },
    {
      "cell_type": "markdown",
      "source": [
        "XG BOOST REGRESSOR"
      ],
      "metadata": {
        "id": "wY_DQ7CJotdE"
      }
    },
    {
      "cell_type": "code",
      "source": [
        "import xgboost as xgb\n",
        "from sklearn.model_selection import cross_val_score\n",
        "import numpy as np\n",
        "for lr in [0.05,0.06,0.07,0.08,0.09,0.1,0.11,0.12,0.13,0.14,0.15,0.20,0.30,0.50,0.70,0.90,1]:\n",
        "  model = xgb.XGBRegressor(learning_rate = lr, n_estimators=100, verbosity = 0) # initialise the model\n",
        "  model.fit(X_train,y_train) #train the model\n",
        "  model.score(X_test, y_test) # scoring the model - r2 squared\n",
        "  print(\"Learning rate : \", lr, \" Train score : \", model.score(X_test,y_test), \" Cross-Val score : \", np.mean(cross_val_score(model, X_train, y_train,cv=10)))"
      ],
      "metadata": {
        "colab": {
          "base_uri": "https://localhost:8080/"
        },
        "id": "d7-DELHZiAUT",
        "outputId": "513de856-983c-410c-ca74-3353b3e5d2db"
      },
      "execution_count": 281,
      "outputs": [
        {
          "output_type": "stream",
          "name": "stdout",
          "text": [
            "Learning rate :  0.05  Train score :  0.9567152570120974  Cross-Val score :  0.9518564368611863\n",
            "Learning rate :  0.06  Train score :  0.9657636303239002  Cross-Val score :  0.9629844941476964\n",
            "Learning rate :  0.07  Train score :  0.9727919064531657  Cross-Val score :  0.9694475783846773\n",
            "Learning rate :  0.08  Train score :  0.9787837850496105  Cross-Val score :  0.9744809939609034\n",
            "Learning rate :  0.09  Train score :  0.9806287541289679  Cross-Val score :  0.9779030780102917\n",
            "Learning rate :  0.1  Train score :  0.9818762522456393  Cross-Val score :  0.9802201430080679\n",
            "Learning rate :  0.11  Train score :  0.9844837226446437  Cross-Val score :  0.9820062639264187\n",
            "Learning rate :  0.12  Train score :  0.9860354588373713  Cross-Val score :  0.9841937268300878\n",
            "Learning rate :  0.13  Train score :  0.9876437874591403  Cross-Val score :  0.9855382902556331\n",
            "Learning rate :  0.14  Train score :  0.988155737922024  Cross-Val score :  0.9863481681592756\n",
            "Learning rate :  0.15  Train score :  0.9882345978320821  Cross-Val score :  0.9872795245274257\n",
            "Learning rate :  0.2  Train score :  0.9902720539519322  Cross-Val score :  0.9894398073179499\n",
            "Learning rate :  0.3  Train score :  0.9939807549263316  Cross-Val score :  0.9918231049181978\n",
            "Learning rate :  0.5  Train score :  0.9943409983531818  Cross-Val score :  0.9930653468304529\n",
            "Learning rate :  0.7  Train score :  0.9929620788329505  Cross-Val score :  0.9925901192549453\n",
            "Learning rate :  0.9  Train score :  0.9941269102409552  Cross-Val score :  0.9923784805246967\n",
            "Learning rate :  1  Train score :  0.9962139429585963  Cross-Val score :  0.9923388737675338\n"
          ]
        }
      ]
    },
    {
      "cell_type": "code",
      "source": [
        "model = xgb.XGBRegressor(learning_rate = 0.5, n_estimators=100, verbosity = 0)\n",
        "model.fit(X_train,y_train)\n",
        "\n",
        "# Get numerical feature importances\n",
        "importances = list(model.feature_importances_)\n",
        "\n",
        "# List of tuples with variable and importance\n",
        "feature_importances = [(feature, round(importance, 5)) for feature, importance in zip(list(X.columns), importances)]\n",
        "\n",
        "# Sort the feature importances by most important first\n",
        "feature_importances = sorted(feature_importances, key = lambda x: x[1], reverse = True)\n",
        "feature_importances"
      ],
      "metadata": {
        "id": "T0_BmBrziAXT",
        "colab": {
          "base_uri": "https://localhost:8080/"
        },
        "outputId": "67ae15ff-2db2-452f-c35d-159fdaf5c83e"
      },
      "execution_count": 282,
      "outputs": [
        {
          "output_type": "execute_result",
          "data": {
            "text/plain": [
              "[('Anna Nagar', 0.16919),\n",
              " ('T Nagar', 0.15261),\n",
              " ('Others', 0.12258),\n",
              " ('Velachery', 0.0933),\n",
              " ('Karapakkam', 0.08984),\n",
              " ('House', 0.08853),\n",
              " ('INT_SQFT', 0.07311),\n",
              " ('RM', 0.03988),\n",
              " ('PARK_FACIL', 0.03296),\n",
              " ('NoAccess', 0.02773),\n",
              " ('N_ROOM', 0.02699),\n",
              " ('RL', 0.01822),\n",
              " ('RH', 0.01416),\n",
              " ('Paved', 0.0086),\n",
              " ('KK Nagar', 0.00768),\n",
              " ('N_BEDROOM', 0.0068),\n",
              " ('Partial', 0.00567),\n",
              " ('AdjLand', 0.00521),\n",
              " ('NoSeWa', 0.00306),\n",
              " ('Age_of_building', 0.00297),\n",
              " ('C', 0.00245),\n",
              " ('I', 0.00244),\n",
              " ('Family', 0.00179),\n",
              " ('ELO', 0.00168),\n",
              " ('N_BATHROOM', 0.00114),\n",
              " ('chromepet', 0.00075),\n",
              " ('Normal Sale', 0.00066)]"
            ]
          },
          "metadata": {},
          "execution_count": 282
        }
      ]
    },
    {
      "cell_type": "code",
      "source": [
        "sorted_idx = model.feature_importances_.argsort()\n",
        "plt.figure(figsize=(10,5))\n",
        "plt.barh(df.columns[sorted_idx], model.feature_importances_[sorted_idx])\n",
        "plt.xlabel(\"Extreme Gradient Boosting Feature Importance\")\n",
        "plt.title(\"Feature Importance\")\n",
        "plt.show()"
      ],
      "metadata": {
        "colab": {
          "base_uri": "https://localhost:8080/",
          "height": 350
        },
        "id": "NpHo9lDiIxRL",
        "outputId": "7e6cb354-9dfc-4e1a-829d-5ded6bde3581"
      },
      "execution_count": 283,
      "outputs": [
        {
          "output_type": "display_data",
          "data": {
            "text/plain": [
              "<Figure size 720x360 with 1 Axes>"
            ],
            "image/png": "[encoded data removed]"
          },
          "metadata": {
            "needs_background": "light"
          }
        }
      ]
    },
    {
      "cell_type": "markdown",
      "source": [
        "# Score for Linear Regression : 95%\n",
        "# Score for KNN : 80%\n",
        "# Score for Decision Tree Regressor : 95%\n",
        "# Score for Random Forest Regressor : 98%\n",
        "# Score for XGBoost Regressor : 99%\n",
        "\n"
      ],
      "metadata": {
        "id": "kshOISyls61_"
      }
    },
    {
      "cell_type": "markdown",
      "source": [
        "#Answers to Buyers and suggestions to Real Estate Agents:"
      ],
      "metadata": {
        "id": "_-Yc52mwsFVw"
      }
    },
    {
      "cell_type": "markdown",
      "source": [
        "Price of the property changes due to various factors. Top factors are:\n",
        "\n",
        "1)Based on size(SQRF) of property.\n",
        "\n",
        "2)Based on the location of the property.\n",
        "\n",
        "3)Property age."
      ],
      "metadata": {
        "id": "OBoVVmPssk53"
      }
    },
    {
      "cell_type": "markdown",
      "source": [
        "#Suggestions to Real estate agents:"
      ],
      "metadata": {
        "id": "ZMFZzj0vsJB_"
      }
    },
    {
      "cell_type": "markdown",
      "source": [
        "Profit can be increased by considering the following factors:\n",
        "\n",
        "1)It is recommended to construct a House bulding rather than Commercial or others.\n",
        "\n",
        "2)Constructing buildings in Karapakkam, T Nagar and KK Nagar can result in more profit.\n",
        "\n",
        "3)It is highly recommended Sale condition should be pertial.\n"
      ],
      "metadata": {
        "id": "Hp1gQNlSsoE_"
      }
    }
  ]
}