{
  "nbformat": 4,
  "nbformat_minor": 0,
  "metadata": {
    "colab": {
      "provenance": [],
      "authorship_tag": "ABX9TyNYXdw2ABJWGHcJf7CZrNyr",
      "include_colab_link": true
    },
    "kernelspec": {
      "name": "python3",
      "display_name": "Python 3"
    },
    "language_info": {
      "name": "python"
    }
  },
  "cells": [
    {
      "cell_type": "markdown",
      "metadata": {
        "id": "view-in-github",
        "colab_type": "text"
      },
      "source": [
        "<a href=\"https://colab.research.google.com/github/ayanmmm/House_Price_Prediction/blob/main/Chennai_house_price_prediction.ipynb\" target=\"_parent\"><img src=\"https://colab.research.google.com/assets/colab-badge.svg\" alt=\"Open In Colab\"/></a>"
      ]
    },
    {
      "cell_type": "markdown",
      "source": [
        "**Problem Statement**\n",
        "Real estate transactions are quite opaque sometimes and it may be difficult for a newbie to know the fair price of any given home. Thus, multiple real estate websites have the functionality to predict the prices of houses given different features regarding it. Such forecasting models will help buyers to identify a fair price for the home and also give insights to sellers as to how to build homes that fetch them more money. Chennai house sale price data is shared here and the participants are expected to build a sale price prediction model that will aid the customers to find a fair price for their homes and also help the sellers understand what factors are fetching more money for the houses?"
      ],
      "metadata": {
        "id": "p1U__sSbCRDS"
      }
    },
    {
      "cell_type": "markdown",
      "source": [
        "**Minimum Requirements**\n",
        "It is not sufficient to just fit a model - the model must be analysed to find the important factors that contribute towards the price. Also, it will be better to give a forecast range (range of permissible values) rather than a single estimate as it will help the customers to negotiate."
      ],
      "metadata": {
        "id": "AwkKSawcCVYQ"
      }
    },
    {
      "cell_type": "code",
      "source": [
        "#Libraries\n",
        "import pandas as pd\n",
        "import numpy as np\n",
        "\n",
        "import warnings\n",
        "warnings.simplefilter(action='ignore', category=FutureWarning)\n",
        "\n",
        "import matplotlib.pyplot as plt\n",
        "import seaborn as sns\n",
        "\n",
        "from sklearn.model_selection import train_test_split\n",
        "from sklearn.preprocessing import StandardScaler\n",
        "\n",
        "from sklearn.linear_model import LinearRegression\n",
        "from sklearn.neighbors import KNeighborsRegressor\n",
        "from sklearn.tree import DecisionTreeRegressor\n",
        "from sklearn.ensemble import RandomForestRegressor\n",
        "from sklearn.ensemble import GradientBoostingRegressor\n",
        "import xgboost as xgb\n",
        "\n",
        "from sklearn.model_selection import cross_val_score\n",
        "from sklearn.metrics import r2_score\n",
        "\n",
        "\n"
      ],
      "metadata": {
        "id": "TgiDof_rEPy4"
      },
      "execution_count": 176,
      "outputs": []
    },
    {
      "cell_type": "code",
      "source": [
        "#Load data set\n",
        "df=pd.read_csv(\"https://raw.githubusercontent.com/ayanmmm/House_Price_Prediction/main/train-chennai-sale.csv\")\n",
        "df.head()"
      ],
      "metadata": {
        "id": "oWQ1W5dyx2WZ",
        "colab": {
          "base_uri": "https://localhost:8080/",
          "height": 236
        },
        "outputId": "04a713bb-4383-4649-add8-19722d744a6f"
      },
      "execution_count": 177,
      "outputs": [
        {
          "output_type": "execute_result",
          "data": {
            "text/plain": [
              "   PRT_ID        AREA  INT_SQFT   DATE_SALE  DIST_MAINROAD  N_BEDROOM  \\\n",
              "0  P03210  Karapakkam      1004  04-05-2011            131        1.0   \n",
              "1  P09411  Anna Nagar      1986  19-12-2006             26        2.0   \n",
              "2  P01812       Adyar       909  04-02-2012             70        1.0   \n",
              "3  P05346   Velachery      1855  13-03-2010             14        3.0   \n",
              "4  P06210  Karapakkam      1226  05-10-2009             84        1.0   \n",
              "\n",
              "   N_BATHROOM  N_ROOM SALE_COND PARK_FACIL  ... UTILITY_AVAIL  STREET MZZONE  \\\n",
              "0         1.0       3  AbNormal        Yes  ...        AllPub   Paved      A   \n",
              "1         1.0       5  AbNormal         No  ...        AllPub  Gravel     RH   \n",
              "2         1.0       3  AbNormal        Yes  ...           ELO  Gravel     RL   \n",
              "3         2.0       5    Family         No  ...       NoSewr    Paved      I   \n",
              "4         1.0       3  AbNormal        Yes  ...        AllPub  Gravel      C   \n",
              "\n",
              "  QS_ROOMS QS_BATHROOM  QS_BEDROOM  QS_OVERALL  REG_FEE  COMMIS  SALES_PRICE  \n",
              "0      4.0         3.9         4.9       4.330   380000  144400      7600000  \n",
              "1      4.9         4.2         2.5       3.765   760122  304049     21717770  \n",
              "2      4.1         3.8         2.2       3.090   421094   92114     13159200  \n",
              "3      4.7         3.9         3.6       4.010   356321   77042      9630290  \n",
              "4      3.0         2.5         4.1       3.290   237000   74063      7406250  \n",
              "\n",
              "[5 rows x 22 columns]"
            ],
            "text/html": [
              "\n",
              "  <div id=\"df-65f17579-4407-4f72-ba69-c5c789ad8e66\">\n",
              "    <div class=\"colab-df-container\">\n",
              "      <div>\n",
              "<style scoped>\n",
              "    .dataframe tbody tr th:only-of-type {\n",
              "        vertical-align: middle;\n",
              "    }\n",
              "\n",
              "    .dataframe tbody tr th {\n",
              "        vertical-align: top;\n",
              "    }\n",
              "\n",
              "    .dataframe thead th {\n",
              "        text-align: right;\n",
              "    }\n",
              "</style>\n",
              "<table border=\"1\" class=\"dataframe\">\n",
              "  <thead>\n",
              "    <tr style=\"text-align: right;\">\n",
              "      <th></th>\n",
              "      <th>PRT_ID</th>\n",
              "      <th>AREA</th>\n",
              "      <th>INT_SQFT</th>\n",
              "      <th>DATE_SALE</th>\n",
              "      <th>DIST_MAINROAD</th>\n",
              "      <th>N_BEDROOM</th>\n",
              "      <th>N_BATHROOM</th>\n",
              "      <th>N_ROOM</th>\n",
              "      <th>SALE_COND</th>\n",
              "      <th>PARK_FACIL</th>\n",
              "      <th>...</th>\n",
              "      <th>UTILITY_AVAIL</th>\n",
              "      <th>STREET</th>\n",
              "      <th>MZZONE</th>\n",
              "      <th>QS_ROOMS</th>\n",
              "      <th>QS_BATHROOM</th>\n",
              "      <th>QS_BEDROOM</th>\n",
              "      <th>QS_OVERALL</th>\n",
              "      <th>REG_FEE</th>\n",
              "      <th>COMMIS</th>\n",
              "      <th>SALES_PRICE</th>\n",
              "    </tr>\n",
              "  </thead>\n",
              "  <tbody>\n",
              "    <tr>\n",
              "      <th>0</th>\n",
              "      <td>P03210</td>\n",
              "      <td>Karapakkam</td>\n",
              "      <td>1004</td>\n",
              "      <td>04-05-2011</td>\n",
              "      <td>131</td>\n",
              "      <td>1.0</td>\n",
              "      <td>1.0</td>\n",
              "      <td>3</td>\n",
              "      <td>AbNormal</td>\n",
              "      <td>Yes</td>\n",
              "      <td>...</td>\n",
              "      <td>AllPub</td>\n",
              "      <td>Paved</td>\n",
              "      <td>A</td>\n",
              "      <td>4.0</td>\n",
              "      <td>3.9</td>\n",
              "      <td>4.9</td>\n",
              "      <td>4.330</td>\n",
              "      <td>380000</td>\n",
              "      <td>144400</td>\n",
              "      <td>7600000</td>\n",
              "    </tr>\n",
              "    <tr>\n",
              "      <th>1</th>\n",
              "      <td>P09411</td>\n",
              "      <td>Anna Nagar</td>\n",
              "      <td>1986</td>\n",
              "      <td>19-12-2006</td>\n",
              "      <td>26</td>\n",
              "      <td>2.0</td>\n",
              "      <td>1.0</td>\n",
              "      <td>5</td>\n",
              "      <td>AbNormal</td>\n",
              "      <td>No</td>\n",
              "      <td>...</td>\n",
              "      <td>AllPub</td>\n",
              "      <td>Gravel</td>\n",
              "      <td>RH</td>\n",
              "      <td>4.9</td>\n",
              "      <td>4.2</td>\n",
              "      <td>2.5</td>\n",
              "      <td>3.765</td>\n",
              "      <td>760122</td>\n",
              "      <td>304049</td>\n",
              "      <td>21717770</td>\n",
              "    </tr>\n",
              "    <tr>\n",
              "      <th>2</th>\n",
              "      <td>P01812</td>\n",
              "      <td>Adyar</td>\n",
              "      <td>909</td>\n",
              "      <td>04-02-2012</td>\n",
              "      <td>70</td>\n",
              "      <td>1.0</td>\n",
              "      <td>1.0</td>\n",
              "      <td>3</td>\n",
              "      <td>AbNormal</td>\n",
              "      <td>Yes</td>\n",
              "      <td>...</td>\n",
              "      <td>ELO</td>\n",
              "      <td>Gravel</td>\n",
              "      <td>RL</td>\n",
              "      <td>4.1</td>\n",
              "      <td>3.8</td>\n",
              "      <td>2.2</td>\n",
              "      <td>3.090</td>\n",
              "      <td>421094</td>\n",
              "      <td>92114</td>\n",
              "      <td>13159200</td>\n",
              "    </tr>\n",
              "    <tr>\n",
              "      <th>3</th>\n",
              "      <td>P05346</td>\n",
              "      <td>Velachery</td>\n",
              "      <td>1855</td>\n",
              "      <td>13-03-2010</td>\n",
              "      <td>14</td>\n",
              "      <td>3.0</td>\n",
              "      <td>2.0</td>\n",
              "      <td>5</td>\n",
              "      <td>Family</td>\n",
              "      <td>No</td>\n",
              "      <td>...</td>\n",
              "      <td>NoSewr</td>\n",
              "      <td>Paved</td>\n",
              "      <td>I</td>\n",
              "      <td>4.7</td>\n",
              "      <td>3.9</td>\n",
              "      <td>3.6</td>\n",
              "      <td>4.010</td>\n",
              "      <td>356321</td>\n",
              "      <td>77042</td>\n",
              "      <td>9630290</td>\n",
              "    </tr>\n",
              "    <tr>\n",
              "      <th>4</th>\n",
              "      <td>P06210</td>\n",
              "      <td>Karapakkam</td>\n",
              "      <td>1226</td>\n",
              "      <td>05-10-2009</td>\n",
              "      <td>84</td>\n",
              "      <td>1.0</td>\n",
              "      <td>1.0</td>\n",
              "      <td>3</td>\n",
              "      <td>AbNormal</td>\n",
              "      <td>Yes</td>\n",
              "      <td>...</td>\n",
              "      <td>AllPub</td>\n",
              "      <td>Gravel</td>\n",
              "      <td>C</td>\n",
              "      <td>3.0</td>\n",
              "      <td>2.5</td>\n",
              "      <td>4.1</td>\n",
              "      <td>3.290</td>\n",
              "      <td>237000</td>\n",
              "      <td>74063</td>\n",
              "      <td>7406250</td>\n",
              "    </tr>\n",
              "  </tbody>\n",
              "</table>\n",
              "<p>5 rows × 22 columns</p>\n",
              "</div>\n",
              "      <button class=\"colab-df-convert\" onclick=\"convertToInteractive('df-65f17579-4407-4f72-ba69-c5c789ad8e66')\"\n",
              "              title=\"Convert this dataframe to an interactive table.\"\n",
              "              style=\"display:none;\">\n",
              "        \n",
              "  <svg xmlns=\"http://www.w3.org/2000/svg\" height=\"24px\"viewBox=\"0 0 24 24\"\n",
              "       width=\"24px\">\n",
              "    <path d=\"M0 0h24v24H0V0z\" fill=\"none\"/>\n",
              "    <path d=\"M18.56 5.44l.94 2.06.94-2.06 2.06-.94-2.06-.94-.94-2.06-.94 2.06-2.06.94zm-11 1L8.5 8.5l.94-2.06 2.06-.94-2.06-.94L8.5 2.5l-.94 2.06-2.06.94zm10 10l.94 2.06.94-2.06 2.06-.94-2.06-.94-.94-2.06-.94 2.06-2.06.94z\"/><path d=\"M17.41 7.96l-1.37-1.37c-.4-.4-.92-.59-1.43-.59-.52 0-1.04.2-1.43.59L10.3 9.45l-7.72 7.72c-.78.78-.78 2.05 0 2.83L4 21.41c.39.39.9.59 1.41.59.51 0 1.02-.2 1.41-.59l7.78-7.78 2.81-2.81c.8-.78.8-2.07 0-2.86zM5.41 20L4 18.59l7.72-7.72 1.47 1.35L5.41 20z\"/>\n",
              "  </svg>\n",
              "      </button>\n",
              "      \n",
              "  <style>\n",
              "    .colab-df-container {\n",
              "      display:flex;\n",
              "      flex-wrap:wrap;\n",
              "      gap: 12px;\n",
              "    }\n",
              "\n",
              "    .colab-df-convert {\n",
              "      background-color: #E8F0FE;\n",
              "      border: none;\n",
              "      border-radius: 50%;\n",
              "      cursor: pointer;\n",
              "      display: none;\n",
              "      fill: #1967D2;\n",
              "      height: 32px;\n",
              "      padding: 0 0 0 0;\n",
              "      width: 32px;\n",
              "    }\n",
              "\n",
              "    .colab-df-convert:hover {\n",
              "      background-color: #E2EBFA;\n",
              "      box-shadow: 0px 1px 2px rgba(60, 64, 67, 0.3), 0px 1px 3px 1px rgba(60, 64, 67, 0.15);\n",
              "      fill: #174EA6;\n",
              "    }\n",
              "\n",
              "    [theme=dark] .colab-df-convert {\n",
              "      background-color: #3B4455;\n",
              "      fill: #D2E3FC;\n",
              "    }\n",
              "\n",
              "    [theme=dark] .colab-df-convert:hover {\n",
              "      background-color: #434B5C;\n",
              "      box-shadow: 0px 1px 3px 1px rgba(0, 0, 0, 0.15);\n",
              "      filter: drop-shadow(0px 1px 2px rgba(0, 0, 0, 0.3));\n",
              "      fill: #FFFFFF;\n",
              "    }\n",
              "  </style>\n",
              "\n",
              "      <script>\n",
              "        const buttonEl =\n",
              "          document.querySelector('#df-65f17579-4407-4f72-ba69-c5c789ad8e66 button.colab-df-convert');\n",
              "        buttonEl.style.display =\n",
              "          google.colab.kernel.accessAllowed ? 'block' : 'none';\n",
              "\n",
              "        async function convertToInteractive(key) {\n",
              "          const element = document.querySelector('#df-65f17579-4407-4f72-ba69-c5c789ad8e66');\n",
              "          const dataTable =\n",
              "            await google.colab.kernel.invokeFunction('convertToInteractive',\n",
              "                                                     [key], {});\n",
              "          if (!dataTable) return;\n",
              "\n",
              "          const docLinkHtml = 'Like what you see? Visit the ' +\n",
              "            '<a target=\"_blank\" href=https://colab.research.google.com/notebooks/data_table.ipynb>data table notebook</a>'\n",
              "            + ' to learn more about interactive tables.';\n",
              "          element.innerHTML = '';\n",
              "          dataTable['output_type'] = 'display_data';\n",
              "          await google.colab.output.renderOutput(dataTable, element);\n",
              "          const docLink = document.createElement('div');\n",
              "          docLink.innerHTML = docLinkHtml;\n",
              "          element.appendChild(docLink);\n",
              "        }\n",
              "      </script>\n",
              "    </div>\n",
              "  </div>\n",
              "  "
            ]
          },
          "metadata": {},
          "execution_count": 177
        }
      ]
    },
    {
      "cell_type": "code",
      "source": [
        "df.shape "
      ],
      "metadata": {
        "colab": {
          "base_uri": "https://localhost:8080/"
        },
        "id": "1x6rDsaPFEEB",
        "outputId": "76f25626-8f68-4a14-e583-15c761c51977"
      },
      "execution_count": 178,
      "outputs": [
        {
          "output_type": "execute_result",
          "data": {
            "text/plain": [
              "(7109, 22)"
            ]
          },
          "metadata": {},
          "execution_count": 178
        }
      ]
    },
    {
      "cell_type": "code",
      "source": [
        "df.describe()"
      ],
      "metadata": {
        "colab": {
          "base_uri": "https://localhost:8080/",
          "height": 300
        },
        "id": "JsV0web8FEJw",
        "outputId": "90b14e91-6224-46b3-c632-3093d1fe7a22"
      },
      "execution_count": 179,
      "outputs": [
        {
          "output_type": "execute_result",
          "data": {
            "text/plain": [
              "          INT_SQFT  DIST_MAINROAD    N_BEDROOM   N_BATHROOM       N_ROOM  \\\n",
              "count  7109.000000    7109.000000  7108.000000  7104.000000  7109.000000   \n",
              "mean   1382.073006      99.603179     1.637029     1.213260     3.688704   \n",
              "std     457.410902      57.403110     0.802902     0.409639     1.019099   \n",
              "min     500.000000       0.000000     1.000000     1.000000     2.000000   \n",
              "25%     993.000000      50.000000     1.000000     1.000000     3.000000   \n",
              "50%    1373.000000      99.000000     1.000000     1.000000     4.000000   \n",
              "75%    1744.000000     148.000000     2.000000     1.000000     4.000000   \n",
              "max    2500.000000     200.000000     4.000000     2.000000     6.000000   \n",
              "\n",
              "          QS_ROOMS  QS_BATHROOM   QS_BEDROOM   QS_OVERALL        REG_FEE  \\\n",
              "count  7109.000000  7109.000000  7109.000000  7061.000000    7109.000000   \n",
              "mean      3.517471     3.507244     3.485300     3.503254  376938.330708   \n",
              "std       0.891972     0.897834     0.887266     0.527223  143070.662010   \n",
              "min       2.000000     2.000000     2.000000     2.000000   71177.000000   \n",
              "25%       2.700000     2.700000     2.700000     3.130000  272406.000000   \n",
              "50%       3.500000     3.500000     3.500000     3.500000  349486.000000   \n",
              "75%       4.300000     4.300000     4.300000     3.890000  451562.000000   \n",
              "max       5.000000     5.000000     5.000000     4.970000  983922.000000   \n",
              "\n",
              "              COMMIS   SALES_PRICE  \n",
              "count    7109.000000  7.109000e+03  \n",
              "mean   141005.726544  1.089491e+07  \n",
              "std     78768.093718  3.768603e+06  \n",
              "min      5055.000000  2.156875e+06  \n",
              "25%     84219.000000  8.272100e+06  \n",
              "50%    127628.000000  1.033505e+07  \n",
              "75%    184506.000000  1.299390e+07  \n",
              "max    495405.000000  2.366734e+07  "
            ],
            "text/html": [
              "\n",
              "  <div id=\"df-9e36c314-b278-46ca-95cb-88816eece82c\">\n",
              "    <div class=\"colab-df-container\">\n",
              "      <div>\n",
              "<style scoped>\n",
              "    .dataframe tbody tr th:only-of-type {\n",
              "        vertical-align: middle;\n",
              "    }\n",
              "\n",
              "    .dataframe tbody tr th {\n",
              "        vertical-align: top;\n",
              "    }\n",
              "\n",
              "    .dataframe thead th {\n",
              "        text-align: right;\n",
              "    }\n",
              "</style>\n",
              "<table border=\"1\" class=\"dataframe\">\n",
              "  <thead>\n",
              "    <tr style=\"text-align: right;\">\n",
              "      <th></th>\n",
              "      <th>INT_SQFT</th>\n",
              "      <th>DIST_MAINROAD</th>\n",
              "      <th>N_BEDROOM</th>\n",
              "      <th>N_BATHROOM</th>\n",
              "      <th>N_ROOM</th>\n",
              "      <th>QS_ROOMS</th>\n",
              "      <th>QS_BATHROOM</th>\n",
              "      <th>QS_BEDROOM</th>\n",
              "      <th>QS_OVERALL</th>\n",
              "      <th>REG_FEE</th>\n",
              "      <th>COMMIS</th>\n",
              "      <th>SALES_PRICE</th>\n",
              "    </tr>\n",
              "  </thead>\n",
              "  <tbody>\n",
              "    <tr>\n",
              "      <th>count</th>\n",
              "      <td>7109.000000</td>\n",
              "      <td>7109.000000</td>\n",
              "      <td>7108.000000</td>\n",
              "      <td>7104.000000</td>\n",
              "      <td>7109.000000</td>\n",
              "      <td>7109.000000</td>\n",
              "      <td>7109.000000</td>\n",
              "      <td>7109.000000</td>\n",
              "      <td>7061.000000</td>\n",
              "      <td>7109.000000</td>\n",
              "      <td>7109.000000</td>\n",
              "      <td>7.109000e+03</td>\n",
              "    </tr>\n",
              "    <tr>\n",
              "      <th>mean</th>\n",
              "      <td>1382.073006</td>\n",
              "      <td>99.603179</td>\n",
              "      <td>1.637029</td>\n",
              "      <td>1.213260</td>\n",
              "      <td>3.688704</td>\n",
              "      <td>3.517471</td>\n",
              "      <td>3.507244</td>\n",
              "      <td>3.485300</td>\n",
              "      <td>3.503254</td>\n",
              "      <td>376938.330708</td>\n",
              "      <td>141005.726544</td>\n",
              "      <td>1.089491e+07</td>\n",
              "    </tr>\n",
              "    <tr>\n",
              "      <th>std</th>\n",
              "      <td>457.410902</td>\n",
              "      <td>57.403110</td>\n",
              "      <td>0.802902</td>\n",
              "      <td>0.409639</td>\n",
              "      <td>1.019099</td>\n",
              "      <td>0.891972</td>\n",
              "      <td>0.897834</td>\n",
              "      <td>0.887266</td>\n",
              "      <td>0.527223</td>\n",
              "      <td>143070.662010</td>\n",
              "      <td>78768.093718</td>\n",
              "      <td>3.768603e+06</td>\n",
              "    </tr>\n",
              "    <tr>\n",
              "      <th>min</th>\n",
              "      <td>500.000000</td>\n",
              "      <td>0.000000</td>\n",
              "      <td>1.000000</td>\n",
              "      <td>1.000000</td>\n",
              "      <td>2.000000</td>\n",
              "      <td>2.000000</td>\n",
              "      <td>2.000000</td>\n",
              "      <td>2.000000</td>\n",
              "      <td>2.000000</td>\n",
              "      <td>71177.000000</td>\n",
              "      <td>5055.000000</td>\n",
              "      <td>2.156875e+06</td>\n",
              "    </tr>\n",
              "    <tr>\n",
              "      <th>25%</th>\n",
              "      <td>993.000000</td>\n",
              "      <td>50.000000</td>\n",
              "      <td>1.000000</td>\n",
              "      <td>1.000000</td>\n",
              "      <td>3.000000</td>\n",
              "      <td>2.700000</td>\n",
              "      <td>2.700000</td>\n",
              "      <td>2.700000</td>\n",
              "      <td>3.130000</td>\n",
              "      <td>272406.000000</td>\n",
              "      <td>84219.000000</td>\n",
              "      <td>8.272100e+06</td>\n",
              "    </tr>\n",
              "    <tr>\n",
              "      <th>50%</th>\n",
              "      <td>1373.000000</td>\n",
              "      <td>99.000000</td>\n",
              "      <td>1.000000</td>\n",
              "      <td>1.000000</td>\n",
              "      <td>4.000000</td>\n",
              "      <td>3.500000</td>\n",
              "      <td>3.500000</td>\n",
              "      <td>3.500000</td>\n",
              "      <td>3.500000</td>\n",
              "      <td>349486.000000</td>\n",
              "      <td>127628.000000</td>\n",
              "      <td>1.033505e+07</td>\n",
              "    </tr>\n",
              "    <tr>\n",
              "      <th>75%</th>\n",
              "      <td>1744.000000</td>\n",
              "      <td>148.000000</td>\n",
              "      <td>2.000000</td>\n",
              "      <td>1.000000</td>\n",
              "      <td>4.000000</td>\n",
              "      <td>4.300000</td>\n",
              "      <td>4.300000</td>\n",
              "      <td>4.300000</td>\n",
              "      <td>3.890000</td>\n",
              "      <td>451562.000000</td>\n",
              "      <td>184506.000000</td>\n",
              "      <td>1.299390e+07</td>\n",
              "    </tr>\n",
              "    <tr>\n",
              "      <th>max</th>\n",
              "      <td>2500.000000</td>\n",
              "      <td>200.000000</td>\n",
              "      <td>4.000000</td>\n",
              "      <td>2.000000</td>\n",
              "      <td>6.000000</td>\n",
              "      <td>5.000000</td>\n",
              "      <td>5.000000</td>\n",
              "      <td>5.000000</td>\n",
              "      <td>4.970000</td>\n",
              "      <td>983922.000000</td>\n",
              "      <td>495405.000000</td>\n",
              "      <td>2.366734e+07</td>\n",
              "    </tr>\n",
              "  </tbody>\n",
              "</table>\n",
              "</div>\n",
              "      <button class=\"colab-df-convert\" onclick=\"convertToInteractive('df-9e36c314-b278-46ca-95cb-88816eece82c')\"\n",
              "              title=\"Convert this dataframe to an interactive table.\"\n",
              "              style=\"display:none;\">\n",
              "        \n",
              "  <svg xmlns=\"http://www.w3.org/2000/svg\" height=\"24px\"viewBox=\"0 0 24 24\"\n",
              "       width=\"24px\">\n",
              "    <path d=\"M0 0h24v24H0V0z\" fill=\"none\"/>\n",
              "    <path d=\"M18.56 5.44l.94 2.06.94-2.06 2.06-.94-2.06-.94-.94-2.06-.94 2.06-2.06.94zm-11 1L8.5 8.5l.94-2.06 2.06-.94-2.06-.94L8.5 2.5l-.94 2.06-2.06.94zm10 10l.94 2.06.94-2.06 2.06-.94-2.06-.94-.94-2.06-.94 2.06-2.06.94z\"/><path d=\"M17.41 7.96l-1.37-1.37c-.4-.4-.92-.59-1.43-.59-.52 0-1.04.2-1.43.59L10.3 9.45l-7.72 7.72c-.78.78-.78 2.05 0 2.83L4 21.41c.39.39.9.59 1.41.59.51 0 1.02-.2 1.41-.59l7.78-7.78 2.81-2.81c.8-.78.8-2.07 0-2.86zM5.41 20L4 18.59l7.72-7.72 1.47 1.35L5.41 20z\"/>\n",
              "  </svg>\n",
              "      </button>\n",
              "      \n",
              "  <style>\n",
              "    .colab-df-container {\n",
              "      display:flex;\n",
              "      flex-wrap:wrap;\n",
              "      gap: 12px;\n",
              "    }\n",
              "\n",
              "    .colab-df-convert {\n",
              "      background-color: #E8F0FE;\n",
              "      border: none;\n",
              "      border-radius: 50%;\n",
              "      cursor: pointer;\n",
              "      display: none;\n",
              "      fill: #1967D2;\n",
              "      height: 32px;\n",
              "      padding: 0 0 0 0;\n",
              "      width: 32px;\n",
              "    }\n",
              "\n",
              "    .colab-df-convert:hover {\n",
              "      background-color: #E2EBFA;\n",
              "      box-shadow: 0px 1px 2px rgba(60, 64, 67, 0.3), 0px 1px 3px 1px rgba(60, 64, 67, 0.15);\n",
              "      fill: #174EA6;\n",
              "    }\n",
              "\n",
              "    [theme=dark] .colab-df-convert {\n",
              "      background-color: #3B4455;\n",
              "      fill: #D2E3FC;\n",
              "    }\n",
              "\n",
              "    [theme=dark] .colab-df-convert:hover {\n",
              "      background-color: #434B5C;\n",
              "      box-shadow: 0px 1px 3px 1px rgba(0, 0, 0, 0.15);\n",
              "      filter: drop-shadow(0px 1px 2px rgba(0, 0, 0, 0.3));\n",
              "      fill: #FFFFFF;\n",
              "    }\n",
              "  </style>\n",
              "\n",
              "      <script>\n",
              "        const buttonEl =\n",
              "          document.querySelector('#df-9e36c314-b278-46ca-95cb-88816eece82c button.colab-df-convert');\n",
              "        buttonEl.style.display =\n",
              "          google.colab.kernel.accessAllowed ? 'block' : 'none';\n",
              "\n",
              "        async function convertToInteractive(key) {\n",
              "          const element = document.querySelector('#df-9e36c314-b278-46ca-95cb-88816eece82c');\n",
              "          const dataTable =\n",
              "            await google.colab.kernel.invokeFunction('convertToInteractive',\n",
              "                                                     [key], {});\n",
              "          if (!dataTable) return;\n",
              "\n",
              "          const docLinkHtml = 'Like what you see? Visit the ' +\n",
              "            '<a target=\"_blank\" href=https://colab.research.google.com/notebooks/data_table.ipynb>data table notebook</a>'\n",
              "            + ' to learn more about interactive tables.';\n",
              "          element.innerHTML = '';\n",
              "          dataTable['output_type'] = 'display_data';\n",
              "          await google.colab.output.renderOutput(dataTable, element);\n",
              "          const docLink = document.createElement('div');\n",
              "          docLink.innerHTML = docLinkHtml;\n",
              "          element.appendChild(docLink);\n",
              "        }\n",
              "      </script>\n",
              "    </div>\n",
              "  </div>\n",
              "  "
            ]
          },
          "metadata": {},
          "execution_count": 179
        }
      ]
    },
    {
      "cell_type": "code",
      "source": [
        "df.isnull().sum()"
      ],
      "metadata": {
        "colab": {
          "base_uri": "https://localhost:8080/"
        },
        "id": "7XUZUl-EFEMR",
        "outputId": "da10370e-56f0-4afc-88fb-a53ec10f6ac7"
      },
      "execution_count": 180,
      "outputs": [
        {
          "output_type": "execute_result",
          "data": {
            "text/plain": [
              "PRT_ID            0\n",
              "AREA              0\n",
              "INT_SQFT          0\n",
              "DATE_SALE         0\n",
              "DIST_MAINROAD     0\n",
              "N_BEDROOM         1\n",
              "N_BATHROOM        5\n",
              "N_ROOM            0\n",
              "SALE_COND         0\n",
              "PARK_FACIL        0\n",
              "DATE_BUILD        0\n",
              "BUILDTYPE         0\n",
              "UTILITY_AVAIL     0\n",
              "STREET            0\n",
              "MZZONE            0\n",
              "QS_ROOMS          0\n",
              "QS_BATHROOM       0\n",
              "QS_BEDROOM        0\n",
              "QS_OVERALL       48\n",
              "REG_FEE           0\n",
              "COMMIS            0\n",
              "SALES_PRICE       0\n",
              "dtype: int64"
            ]
          },
          "metadata": {},
          "execution_count": 180
        }
      ]
    },
    {
      "cell_type": "code",
      "source": [
        "#Null values present in\n",
        "\n",
        "# N_BEDROOM         1\n",
        "# N_BATHROOM        5\n",
        "# QS_OVERALL       48"
      ],
      "metadata": {
        "id": "ahHYtay4FEO4"
      },
      "execution_count": 181,
      "outputs": []
    },
    {
      "cell_type": "code",
      "source": [
        "df[\"N_BATHROOM\"].describe()"
      ],
      "metadata": {
        "colab": {
          "base_uri": "https://localhost:8080/"
        },
        "id": "66FMPB7A0_On",
        "outputId": "3fbcf1af-d285-4d42-de39-e59dc7177707"
      },
      "execution_count": 182,
      "outputs": [
        {
          "output_type": "execute_result",
          "data": {
            "text/plain": [
              "count    7104.000000\n",
              "mean        1.213260\n",
              "std         0.409639\n",
              "min         1.000000\n",
              "25%         1.000000\n",
              "50%         1.000000\n",
              "75%         1.000000\n",
              "max         2.000000\n",
              "Name: N_BATHROOM, dtype: float64"
            ]
          },
          "metadata": {},
          "execution_count": 182
        }
      ]
    },
    {
      "cell_type": "code",
      "source": [
        "df['N_BATHROOM']=df[\"N_BATHROOM\"].fillna(df[\"N_BATHROOM\"].mode()[0])"
      ],
      "metadata": {
        "id": "cmk9G0uh0_Rf"
      },
      "execution_count": 183,
      "outputs": []
    },
    {
      "cell_type": "code",
      "source": [
        "df[\"N_BEDROOM\"].describe()"
      ],
      "metadata": {
        "colab": {
          "base_uri": "https://localhost:8080/"
        },
        "id": "V45ocIcm0akY",
        "outputId": "328272f7-523b-4f1a-9cb6-9b5484bdadbd"
      },
      "execution_count": 184,
      "outputs": [
        {
          "output_type": "execute_result",
          "data": {
            "text/plain": [
              "count    7108.000000\n",
              "mean        1.637029\n",
              "std         0.802902\n",
              "min         1.000000\n",
              "25%         1.000000\n",
              "50%         1.000000\n",
              "75%         2.000000\n",
              "max         4.000000\n",
              "Name: N_BEDROOM, dtype: float64"
            ]
          },
          "metadata": {},
          "execution_count": 184
        }
      ]
    },
    {
      "cell_type": "code",
      "source": [
        "df['N_BEDROOM']=df[\"N_BEDROOM\"].fillna(df[\"N_BEDROOM\"].mode()[0])"
      ],
      "metadata": {
        "id": "B4l_Rsvr0ano"
      },
      "execution_count": 185,
      "outputs": []
    },
    {
      "cell_type": "code",
      "source": [
        "df[\"QS_OVERALL\"].describe()"
      ],
      "metadata": {
        "colab": {
          "base_uri": "https://localhost:8080/"
        },
        "id": "GHsWu-dI1VR_",
        "outputId": "024a5e83-61b1-4388-a54d-03b5636f5cd4"
      },
      "execution_count": 186,
      "outputs": [
        {
          "output_type": "execute_result",
          "data": {
            "text/plain": [
              "count    7061.000000\n",
              "mean        3.503254\n",
              "std         0.527223\n",
              "min         2.000000\n",
              "25%         3.130000\n",
              "50%         3.500000\n",
              "75%         3.890000\n",
              "max         4.970000\n",
              "Name: QS_OVERALL, dtype: float64"
            ]
          },
          "metadata": {},
          "execution_count": 186
        }
      ]
    },
    {
      "cell_type": "code",
      "source": [
        "df['QS_OVERALL']=df[\"QS_OVERALL\"].fillna(df[\"QS_OVERALL\"].mean())"
      ],
      "metadata": {
        "id": "uiPf49UaBFAM"
      },
      "execution_count": 187,
      "outputs": []
    },
    {
      "cell_type": "code",
      "source": [
        "df.isnull().sum()"
      ],
      "metadata": {
        "colab": {
          "base_uri": "https://localhost:8080/"
        },
        "id": "BYklLb_EttWk",
        "outputId": "52e8a229-02fa-490d-fc88-35deb2ffde21"
      },
      "execution_count": 188,
      "outputs": [
        {
          "output_type": "execute_result",
          "data": {
            "text/plain": [
              "PRT_ID           0\n",
              "AREA             0\n",
              "INT_SQFT         0\n",
              "DATE_SALE        0\n",
              "DIST_MAINROAD    0\n",
              "N_BEDROOM        0\n",
              "N_BATHROOM       0\n",
              "N_ROOM           0\n",
              "SALE_COND        0\n",
              "PARK_FACIL       0\n",
              "DATE_BUILD       0\n",
              "BUILDTYPE        0\n",
              "UTILITY_AVAIL    0\n",
              "STREET           0\n",
              "MZZONE           0\n",
              "QS_ROOMS         0\n",
              "QS_BATHROOM      0\n",
              "QS_BEDROOM       0\n",
              "QS_OVERALL       0\n",
              "REG_FEE          0\n",
              "COMMIS           0\n",
              "SALES_PRICE      0\n",
              "dtype: int64"
            ]
          },
          "metadata": {},
          "execution_count": 188
        }
      ]
    },
    {
      "cell_type": "code",
      "source": [
        "#All null values removed"
      ],
      "metadata": {
        "id": "zjL3T3nnt1R0"
      },
      "execution_count": 189,
      "outputs": []
    },
    {
      "cell_type": "code",
      "source": [
        "df.duplicated().sum()"
      ],
      "metadata": {
        "colab": {
          "base_uri": "https://localhost:8080/"
        },
        "id": "Xe6eWnP2FERg",
        "outputId": "121b48d5-2893-4e8a-b4ce-ffe91a7704c9"
      },
      "execution_count": 190,
      "outputs": [
        {
          "output_type": "execute_result",
          "data": {
            "text/plain": [
              "0"
            ]
          },
          "metadata": {},
          "execution_count": 190
        }
      ]
    },
    {
      "cell_type": "code",
      "source": [
        "#no Duplicate value present"
      ],
      "metadata": {
        "id": "L0UGhktUFEUI"
      },
      "execution_count": 191,
      "outputs": []
    },
    {
      "cell_type": "code",
      "source": [
        "df.info()"
      ],
      "metadata": {
        "colab": {
          "base_uri": "https://localhost:8080/"
        },
        "id": "yodVzir0oWSV",
        "outputId": "68584d62-fb15-477d-f8ee-d72c292494f6"
      },
      "execution_count": 192,
      "outputs": [
        {
          "output_type": "stream",
          "name": "stdout",
          "text": [
            "<class 'pandas.core.frame.DataFrame'>\n",
            "RangeIndex: 7109 entries, 0 to 7108\n",
            "Data columns (total 22 columns):\n",
            " #   Column         Non-Null Count  Dtype  \n",
            "---  ------         --------------  -----  \n",
            " 0   PRT_ID         7109 non-null   object \n",
            " 1   AREA           7109 non-null   object \n",
            " 2   INT_SQFT       7109 non-null   int64  \n",
            " 3   DATE_SALE      7109 non-null   object \n",
            " 4   DIST_MAINROAD  7109 non-null   int64  \n",
            " 5   N_BEDROOM      7109 non-null   float64\n",
            " 6   N_BATHROOM     7109 non-null   float64\n",
            " 7   N_ROOM         7109 non-null   int64  \n",
            " 8   SALE_COND      7109 non-null   object \n",
            " 9   PARK_FACIL     7109 non-null   object \n",
            " 10  DATE_BUILD     7109 non-null   object \n",
            " 11  BUILDTYPE      7109 non-null   object \n",
            " 12  UTILITY_AVAIL  7109 non-null   object \n",
            " 13  STREET         7109 non-null   object \n",
            " 14  MZZONE         7109 non-null   object \n",
            " 15  QS_ROOMS       7109 non-null   float64\n",
            " 16  QS_BATHROOM    7109 non-null   float64\n",
            " 17  QS_BEDROOM     7109 non-null   float64\n",
            " 18  QS_OVERALL     7109 non-null   float64\n",
            " 19  REG_FEE        7109 non-null   int64  \n",
            " 20  COMMIS         7109 non-null   int64  \n",
            " 21  SALES_PRICE    7109 non-null   int64  \n",
            "dtypes: float64(6), int64(6), object(10)\n",
            "memory usage: 1.2+ MB\n"
          ]
        }
      ]
    },
    {
      "cell_type": "code",
      "source": [
        "#0   AREA           7109 non-null   object \n",
        "#2   DATE_SALE      7109 non-null   object \n",
        "#7   SALE_COND      7109 non-null   object \n",
        "#8   PARK_FACIL     7109 non-null   object \n",
        "#9   DATE_BUILD     7109 non-null   object \n",
        "#10  BUILDTYPE      7109 non-null   object \n",
        "#11  UTILITY_AVAIL  7109 non-null   object \n",
        "#12  STREET         7109 non-null   object \n",
        "#13  MZZONE         7109 non-null   object "
      ],
      "metadata": {
        "id": "g07nTTIoF6CK"
      },
      "execution_count": 193,
      "outputs": []
    },
    {
      "cell_type": "code",
      "source": [
        "df.AREA.describe()"
      ],
      "metadata": {
        "colab": {
          "base_uri": "https://localhost:8080/"
        },
        "id": "xqOSd83E1mfH",
        "outputId": "6d532deb-1a3e-4f7b-954e-0beb6040cbb4"
      },
      "execution_count": 194,
      "outputs": [
        {
          "output_type": "execute_result",
          "data": {
            "text/plain": [
              "count         7109\n",
              "unique          17\n",
              "top       Chrompet\n",
              "freq          1681\n",
              "Name: AREA, dtype: object"
            ]
          },
          "metadata": {},
          "execution_count": 194
        }
      ]
    },
    {
      "cell_type": "code",
      "source": [
        "sorted(df[\"AREA\"].unique()) #spelling mistake in AREA column"
      ],
      "metadata": {
        "colab": {
          "base_uri": "https://localhost:8080/"
        },
        "id": "7WNaIrg51pM2",
        "outputId": "e38030ca-f0ae-44ed-a24b-a125c528b79f"
      },
      "execution_count": 195,
      "outputs": [
        {
          "output_type": "execute_result",
          "data": {
            "text/plain": [
              "['Adyar',\n",
              " 'Adyr',\n",
              " 'Ana Nagar',\n",
              " 'Ann Nagar',\n",
              " 'Anna Nagar',\n",
              " 'Chormpet',\n",
              " 'Chrmpet',\n",
              " 'Chrompet',\n",
              " 'Chrompt',\n",
              " 'KK Nagar',\n",
              " 'KKNagar',\n",
              " 'Karapakam',\n",
              " 'Karapakkam',\n",
              " 'T Nagar',\n",
              " 'TNagar',\n",
              " 'Velachery',\n",
              " 'Velchery']"
            ]
          },
          "metadata": {},
          "execution_count": 195
        }
      ]
    },
    {
      "cell_type": "code",
      "source": [
        "df['AREA']=df['AREA'].replace(['Adyr'],'Adyar')\n",
        "df['AREA']=df['AREA'].replace(['Ana Nagar','Ann Nagar'],'Anna Nagar')\n",
        "df['AREA']=df['AREA'].replace(['Chormpet','Chrmpet','Chrompet','Chrompt',],'chromepet')\n",
        "df['AREA']=df['AREA'].replace(['KKNagar'],'KK Nagar')\n",
        "df['AREA']=df['AREA'].replace(['Karapakam'],'Karapakkam')\n",
        "df['AREA']=df['AREA'].replace(['TNagar'],'T Nagar')\n",
        "df['AREA']=df['AREA'].replace(['Velchery'],'Velachery')\n",
        "sorted(df.AREA.unique())"
      ],
      "metadata": {
        "colab": {
          "base_uri": "https://localhost:8080/"
        },
        "id": "v-rw7wdorsA1",
        "outputId": "3e43d577-16f7-4deb-adec-455e5b002013"
      },
      "execution_count": 196,
      "outputs": [
        {
          "output_type": "execute_result",
          "data": {
            "text/plain": [
              "['Adyar',\n",
              " 'Anna Nagar',\n",
              " 'KK Nagar',\n",
              " 'Karapakkam',\n",
              " 'T Nagar',\n",
              " 'Velachery',\n",
              " 'chromepet']"
            ]
          },
          "metadata": {},
          "execution_count": 196
        }
      ]
    },
    {
      "cell_type": "code",
      "source": [
        "df[\"INT_SQFT\"].describe() #INT_SQFT is fine"
      ],
      "metadata": {
        "colab": {
          "base_uri": "https://localhost:8080/"
        },
        "id": "AZCj4VOApEnv",
        "outputId": "3775baf8-bd06-499f-e61e-89c0b66a867c"
      },
      "execution_count": 197,
      "outputs": [
        {
          "output_type": "execute_result",
          "data": {
            "text/plain": [
              "count    7109.000000\n",
              "mean     1382.073006\n",
              "std       457.410902\n",
              "min       500.000000\n",
              "25%       993.000000\n",
              "50%      1373.000000\n",
              "75%      1744.000000\n",
              "max      2500.000000\n",
              "Name: INT_SQFT, dtype: float64"
            ]
          },
          "metadata": {},
          "execution_count": 197
        }
      ]
    },
    {
      "cell_type": "code",
      "source": [
        "df[\"DATE_SALE\"].describe()"
      ],
      "metadata": {
        "colab": {
          "base_uri": "https://localhost:8080/"
        },
        "id": "xZdq9tUNpKxl",
        "outputId": "1465406a-a651-428b-bf24-6a41614a66ac"
      },
      "execution_count": 198,
      "outputs": [
        {
          "output_type": "execute_result",
          "data": {
            "text/plain": [
              "count           7109\n",
              "unique          2798\n",
              "top       06-10-2009\n",
              "freq              12\n",
              "Name: DATE_SALE, dtype: object"
            ]
          },
          "metadata": {},
          "execution_count": 198
        }
      ]
    },
    {
      "cell_type": "code",
      "source": [
        "df[\"DATE_SALE\"]=pd.DatetimeIndex(df[\"DATE_SALE\"]).year\n",
        "#DATE_SALE is fixed"
      ],
      "metadata": {
        "id": "r7cjEtV0oiTu"
      },
      "execution_count": 199,
      "outputs": []
    },
    {
      "cell_type": "code",
      "source": [
        "df[\"DIST_MAINROAD\"].describe()  #is fine"
      ],
      "metadata": {
        "colab": {
          "base_uri": "https://localhost:8080/"
        },
        "id": "lXDMwtiQoiWd",
        "outputId": "717c30c3-c917-4719-faa8-5ce26d65fd2d"
      },
      "execution_count": 200,
      "outputs": [
        {
          "output_type": "execute_result",
          "data": {
            "text/plain": [
              "count    7109.000000\n",
              "mean       99.603179\n",
              "std        57.403110\n",
              "min         0.000000\n",
              "25%        50.000000\n",
              "50%        99.000000\n",
              "75%       148.000000\n",
              "max       200.000000\n",
              "Name: DIST_MAINROAD, dtype: float64"
            ]
          },
          "metadata": {},
          "execution_count": 200
        }
      ]
    },
    {
      "cell_type": "code",
      "source": [
        "df[\"N_BEDROOM\"].describe()  #float to int"
      ],
      "metadata": {
        "colab": {
          "base_uri": "https://localhost:8080/"
        },
        "id": "bXvaRnN2oiZ1",
        "outputId": "ddb04c24-970f-422e-8e1d-5cf495499ca6"
      },
      "execution_count": 201,
      "outputs": [
        {
          "output_type": "execute_result",
          "data": {
            "text/plain": [
              "count    7109.000000\n",
              "mean        1.636939\n",
              "std         0.802881\n",
              "min         1.000000\n",
              "25%         1.000000\n",
              "50%         1.000000\n",
              "75%         2.000000\n",
              "max         4.000000\n",
              "Name: N_BEDROOM, dtype: float64"
            ]
          },
          "metadata": {},
          "execution_count": 201
        }
      ]
    },
    {
      "cell_type": "code",
      "source": [
        "df[\"N_BEDROOM\"].unique()"
      ],
      "metadata": {
        "colab": {
          "base_uri": "https://localhost:8080/"
        },
        "id": "pPOTR5GfKXRU",
        "outputId": "f3c5da5e-832a-45bd-f3a9-5e7644230161"
      },
      "execution_count": 202,
      "outputs": [
        {
          "output_type": "execute_result",
          "data": {
            "text/plain": [
              "array([1., 2., 3., 4.])"
            ]
          },
          "metadata": {},
          "execution_count": 202
        }
      ]
    },
    {
      "cell_type": "code",
      "source": [
        "df.N_BEDROOM=df.N_BEDROOM.astype(int)"
      ],
      "metadata": {
        "id": "w1o6-x8rqmCX"
      },
      "execution_count": 203,
      "outputs": []
    },
    {
      "cell_type": "code",
      "source": [
        "df[\"N_BATHROOM\"].describe()  #float to int"
      ],
      "metadata": {
        "colab": {
          "base_uri": "https://localhost:8080/"
        },
        "id": "hRogzjEVoidH",
        "outputId": "4217d806-0bb6-42e6-c550-5d5c15b1458d"
      },
      "execution_count": 204,
      "outputs": [
        {
          "output_type": "execute_result",
          "data": {
            "text/plain": [
              "count    7109.000000\n",
              "mean        1.213110\n",
              "std         0.409534\n",
              "min         1.000000\n",
              "25%         1.000000\n",
              "50%         1.000000\n",
              "75%         1.000000\n",
              "max         2.000000\n",
              "Name: N_BATHROOM, dtype: float64"
            ]
          },
          "metadata": {},
          "execution_count": 204
        }
      ]
    },
    {
      "cell_type": "code",
      "source": [
        "df.N_BATHROOM=df.N_BATHROOM.astype(int)"
      ],
      "metadata": {
        "id": "ZGbqt4Qiq0JG"
      },
      "execution_count": 205,
      "outputs": []
    },
    {
      "cell_type": "code",
      "source": [
        "df[\"N_ROOM\"].describe() #float to int"
      ],
      "metadata": {
        "colab": {
          "base_uri": "https://localhost:8080/"
        },
        "id": "u6HZ5l_5qJYP",
        "outputId": "ffb20d32-5ef1-4393-ac48-cb80d1704099"
      },
      "execution_count": 206,
      "outputs": [
        {
          "output_type": "execute_result",
          "data": {
            "text/plain": [
              "count    7109.000000\n",
              "mean        3.688704\n",
              "std         1.019099\n",
              "min         2.000000\n",
              "25%         3.000000\n",
              "50%         4.000000\n",
              "75%         4.000000\n",
              "max         6.000000\n",
              "Name: N_ROOM, dtype: float64"
            ]
          },
          "metadata": {},
          "execution_count": 206
        }
      ]
    },
    {
      "cell_type": "code",
      "source": [
        "df.N_ROOM=df.N_ROOM.astype(int)"
      ],
      "metadata": {
        "id": "ml5-4MDOrAum"
      },
      "execution_count": 207,
      "outputs": []
    },
    {
      "cell_type": "code",
      "source": [
        "df[\"N_ROOM\"].unique()"
      ],
      "metadata": {
        "colab": {
          "base_uri": "https://localhost:8080/"
        },
        "id": "BbXfP3jAKOQ7",
        "outputId": "c2733817-14dd-4073-fdee-2c8a0fd6e928"
      },
      "execution_count": 208,
      "outputs": [
        {
          "output_type": "execute_result",
          "data": {
            "text/plain": [
              "array([3, 5, 4, 2, 6])"
            ]
          },
          "metadata": {},
          "execution_count": 208
        }
      ]
    },
    {
      "cell_type": "code",
      "source": [
        "df[\"SALE_COND\"].describe()"
      ],
      "metadata": {
        "colab": {
          "base_uri": "https://localhost:8080/"
        },
        "id": "ZGJt14ozqJbG",
        "outputId": "0d83a05b-0515-484c-a478-6e0cede905d6"
      },
      "execution_count": 209,
      "outputs": [
        {
          "output_type": "execute_result",
          "data": {
            "text/plain": [
              "count        7109\n",
              "unique          9\n",
              "top       AdjLand\n",
              "freq         1433\n",
              "Name: SALE_COND, dtype: object"
            ]
          },
          "metadata": {},
          "execution_count": 209
        }
      ]
    },
    {
      "cell_type": "code",
      "source": [
        "sorted(df[\"SALE_COND\"].unique())"
      ],
      "metadata": {
        "colab": {
          "base_uri": "https://localhost:8080/"
        },
        "id": "y6MEk80UqJeF",
        "outputId": "af4f1e33-130c-4453-82e9-a5b4ffdd1465"
      },
      "execution_count": 210,
      "outputs": [
        {
          "output_type": "execute_result",
          "data": {
            "text/plain": [
              "['Ab Normal',\n",
              " 'AbNormal',\n",
              " 'Adj Land',\n",
              " 'AdjLand',\n",
              " 'Family',\n",
              " 'Normal Sale',\n",
              " 'PartiaLl',\n",
              " 'Partial',\n",
              " 'Partiall']"
            ]
          },
          "metadata": {},
          "execution_count": 210
        }
      ]
    },
    {
      "cell_type": "code",
      "source": [
        "df[\"SALE_COND\"]=df[\"SALE_COND\"].replace([\"Ab Normal\"],\"AbNormal\")\n",
        "df[\"SALE_COND\"]=df[\"SALE_COND\"].replace([\"Adj Land\"],\"AdjLand\")\n",
        "df[\"SALE_COND\"]=df[\"SALE_COND\"].replace([\"PartiaLl\",\"Partiall\"],\"Partial\")\n",
        "sorted(df.SALE_COND.unique())"
      ],
      "metadata": {
        "colab": {
          "base_uri": "https://localhost:8080/"
        },
        "id": "PX-6z763qJg2",
        "outputId": "345e2bbb-855e-4842-a23b-850aaa163f3a"
      },
      "execution_count": 211,
      "outputs": [
        {
          "output_type": "execute_result",
          "data": {
            "text/plain": [
              "['AbNormal', 'AdjLand', 'Family', 'Normal Sale', 'Partial']"
            ]
          },
          "metadata": {},
          "execution_count": 211
        }
      ]
    },
    {
      "cell_type": "code",
      "source": [
        "df[\"PARK_FACIL\"].describe()"
      ],
      "metadata": {
        "colab": {
          "base_uri": "https://localhost:8080/"
        },
        "id": "JXSeuHbCsGq_",
        "outputId": "18a1f3bd-a24a-4ec8-f7ba-dd04bf8c80cd"
      },
      "execution_count": 212,
      "outputs": [
        {
          "output_type": "execute_result",
          "data": {
            "text/plain": [
              "count     7109\n",
              "unique       3\n",
              "top        Yes\n",
              "freq      3587\n",
              "Name: PARK_FACIL, dtype: object"
            ]
          },
          "metadata": {},
          "execution_count": 212
        }
      ]
    },
    {
      "cell_type": "code",
      "source": [
        "sorted(df[\"PARK_FACIL\"].unique())"
      ],
      "metadata": {
        "colab": {
          "base_uri": "https://localhost:8080/"
        },
        "id": "9KaauamosGt3",
        "outputId": "cb5f04e0-12b6-4189-dfb7-c01aa0e7e61c"
      },
      "execution_count": 213,
      "outputs": [
        {
          "output_type": "execute_result",
          "data": {
            "text/plain": [
              "['No', 'Noo', 'Yes']"
            ]
          },
          "metadata": {},
          "execution_count": 213
        }
      ]
    },
    {
      "cell_type": "code",
      "source": [
        "df[\"PARK_FACIL\"]=df[\"PARK_FACIL\"].replace([\"Noo\"],\"No\")\n",
        "sorted(df.PARK_FACIL.unique())"
      ],
      "metadata": {
        "colab": {
          "base_uri": "https://localhost:8080/"
        },
        "id": "lH4LqnC3sGws",
        "outputId": "69c461eb-95a5-455d-b6fa-da3cd39f1367"
      },
      "execution_count": 214,
      "outputs": [
        {
          "output_type": "execute_result",
          "data": {
            "text/plain": [
              "['No', 'Yes']"
            ]
          },
          "metadata": {},
          "execution_count": 214
        }
      ]
    },
    {
      "cell_type": "code",
      "source": [
        "df[\"DATE_BUILD\"].describe()"
      ],
      "metadata": {
        "colab": {
          "base_uri": "https://localhost:8080/"
        },
        "id": "QRbu16aVsgt_",
        "outputId": "b6ec3340-4cb6-4e88-eb92-9a626cf83d22"
      },
      "execution_count": 215,
      "outputs": [
        {
          "output_type": "execute_result",
          "data": {
            "text/plain": [
              "count           7109\n",
              "unique          5808\n",
              "top       02-07-1987\n",
              "freq               6\n",
              "Name: DATE_BUILD, dtype: object"
            ]
          },
          "metadata": {},
          "execution_count": 215
        }
      ]
    },
    {
      "cell_type": "code",
      "source": [
        "df[\"DATE_BUILD\"]=pd.DatetimeIndex(df[\"DATE_BUILD\"]).year"
      ],
      "metadata": {
        "id": "GUumlcQvsgw-"
      },
      "execution_count": 216,
      "outputs": []
    },
    {
      "cell_type": "code",
      "source": [
        "df[\"BUILDTYPE\"].describe()"
      ],
      "metadata": {
        "colab": {
          "base_uri": "https://localhost:8080/"
        },
        "id": "eRmg91pOsgzz",
        "outputId": "64513633-1b5b-4c90-b9f8-3f3279a4dd4a"
      },
      "execution_count": 217,
      "outputs": [
        {
          "output_type": "execute_result",
          "data": {
            "text/plain": [
              "count      7109\n",
              "unique        5\n",
              "top       House\n",
              "freq       2444\n",
              "Name: BUILDTYPE, dtype: object"
            ]
          },
          "metadata": {},
          "execution_count": 217
        }
      ]
    },
    {
      "cell_type": "code",
      "source": [
        "sorted(df[\"BUILDTYPE\"].unique())"
      ],
      "metadata": {
        "colab": {
          "base_uri": "https://localhost:8080/"
        },
        "id": "acKbXEDTsg2-",
        "outputId": "274991b2-be9c-4202-a3a8-b87da851e4aa"
      },
      "execution_count": 218,
      "outputs": [
        {
          "output_type": "execute_result",
          "data": {
            "text/plain": [
              "['Comercial', 'Commercial', 'House', 'Other', 'Others']"
            ]
          },
          "metadata": {},
          "execution_count": 218
        }
      ]
    },
    {
      "cell_type": "code",
      "source": [
        "df[\"BUILDTYPE\"]=df[\"BUILDTYPE\"].replace([\"Comercial\"],\"Commercial\")\n",
        "df[\"BUILDTYPE\"]=df[\"BUILDTYPE\"].replace([\"Other\"],\"Others\")\n",
        "sorted(df.BUILDTYPE.unique())"
      ],
      "metadata": {
        "colab": {
          "base_uri": "https://localhost:8080/"
        },
        "id": "YM8wgbMms5v4",
        "outputId": "06019102-c0b1-4732-8daf-1cbe2f713598"
      },
      "execution_count": 219,
      "outputs": [
        {
          "output_type": "execute_result",
          "data": {
            "text/plain": [
              "['Commercial', 'House', 'Others']"
            ]
          },
          "metadata": {},
          "execution_count": 219
        }
      ]
    },
    {
      "cell_type": "code",
      "source": [
        "df[\"UTILITY_AVAIL\"].describe()"
      ],
      "metadata": {
        "colab": {
          "base_uri": "https://localhost:8080/"
        },
        "id": "kEUL_Ij4tLA-",
        "outputId": "dccb0360-8f1b-4b44-d60f-6389646d4009"
      },
      "execution_count": 220,
      "outputs": [
        {
          "output_type": "execute_result",
          "data": {
            "text/plain": [
              "count       7109\n",
              "unique         5\n",
              "top       AllPub\n",
              "freq        1886\n",
              "Name: UTILITY_AVAIL, dtype: object"
            ]
          },
          "metadata": {},
          "execution_count": 220
        }
      ]
    },
    {
      "cell_type": "code",
      "source": [
        "sorted(df[\"UTILITY_AVAIL\"].unique())"
      ],
      "metadata": {
        "colab": {
          "base_uri": "https://localhost:8080/"
        },
        "id": "7kbhSGewtLDm",
        "outputId": "77587107-ad29-4ae9-8a6c-2f1672575b1f"
      },
      "execution_count": 221,
      "outputs": [
        {
          "output_type": "execute_result",
          "data": {
            "text/plain": [
              "['All Pub', 'AllPub', 'ELO', 'NoSeWa', 'NoSewr ']"
            ]
          },
          "metadata": {},
          "execution_count": 221
        }
      ]
    },
    {
      "cell_type": "code",
      "source": [
        "df[\"UTILITY_AVAIL\"]=df[\"UTILITY_AVAIL\"].replace([\"All Pub\"],\"AllPub\")\n",
        "df[\"UTILITY_AVAIL\"]=df[\"UTILITY_AVAIL\"].replace([\"NoSewr \"],\"NoSeWa\")\n",
        "sorted(df[\"UTILITY_AVAIL\"].unique())"
      ],
      "metadata": {
        "colab": {
          "base_uri": "https://localhost:8080/"
        },
        "id": "0iuMAZoVtLGs",
        "outputId": "c8affc09-fd02-44db-97e9-7358a5cc70ff"
      },
      "execution_count": 222,
      "outputs": [
        {
          "output_type": "execute_result",
          "data": {
            "text/plain": [
              "['AllPub', 'ELO', 'NoSeWa']"
            ]
          },
          "metadata": {},
          "execution_count": 222
        }
      ]
    },
    {
      "cell_type": "code",
      "source": [
        "df[\"STREET\"].describe()"
      ],
      "metadata": {
        "colab": {
          "base_uri": "https://localhost:8080/"
        },
        "id": "pTbcQbJ8tag9",
        "outputId": "0e92def0-fa36-4e63-8e12-9122e7bd7e07"
      },
      "execution_count": 223,
      "outputs": [
        {
          "output_type": "execute_result",
          "data": {
            "text/plain": [
              "count      7109\n",
              "unique        5\n",
              "top       Paved\n",
              "freq       2560\n",
              "Name: STREET, dtype: object"
            ]
          },
          "metadata": {},
          "execution_count": 223
        }
      ]
    },
    {
      "cell_type": "code",
      "source": [
        "sorted(df[\"STREET\"].unique()) #spelling mistake"
      ],
      "metadata": {
        "colab": {
          "base_uri": "https://localhost:8080/"
        },
        "id": "Tdeavlnotaj2",
        "outputId": "e860d644-6b08-4f51-df98-f539460048a0"
      },
      "execution_count": 224,
      "outputs": [
        {
          "output_type": "execute_result",
          "data": {
            "text/plain": [
              "['Gravel', 'No Access', 'NoAccess', 'Pavd', 'Paved']"
            ]
          },
          "metadata": {},
          "execution_count": 224
        }
      ]
    },
    {
      "cell_type": "code",
      "source": [
        "df[\"STREET\"]=df[\"STREET\"].replace([\"No Access\"],\"NoAccess\")\n",
        "df[\"STREET\"]=df[\"STREET\"].replace([\"Pavd\"],\"Paved\")\n",
        "sorted(df[\"STREET\"].unique())"
      ],
      "metadata": {
        "colab": {
          "base_uri": "https://localhost:8080/"
        },
        "id": "Hs0xH0pWt8cQ",
        "outputId": "65f23538-4150-4872-b1e5-b486fbf4a817"
      },
      "execution_count": 225,
      "outputs": [
        {
          "output_type": "execute_result",
          "data": {
            "text/plain": [
              "['Gravel', 'NoAccess', 'Paved']"
            ]
          },
          "metadata": {},
          "execution_count": 225
        }
      ]
    },
    {
      "cell_type": "code",
      "source": [
        "df[\"MZZONE\"].describe()"
      ],
      "metadata": {
        "colab": {
          "base_uri": "https://localhost:8080/"
        },
        "id": "q2qBQ2k4t8e2",
        "outputId": "08d89101-3faa-4bca-86d5-1bba7d116211"
      },
      "execution_count": 226,
      "outputs": [
        {
          "output_type": "execute_result",
          "data": {
            "text/plain": [
              "count     7109\n",
              "unique       6\n",
              "top         RL\n",
              "freq      1858\n",
              "Name: MZZONE, dtype: object"
            ]
          },
          "metadata": {},
          "execution_count": 226
        }
      ]
    },
    {
      "cell_type": "code",
      "source": [
        "sorted(df[\"MZZONE\"].unique()) #fine"
      ],
      "metadata": {
        "colab": {
          "base_uri": "https://localhost:8080/"
        },
        "id": "60GVU091t8iK",
        "outputId": "d418d327-8950-4e14-e0df-90d31aa9d119"
      },
      "execution_count": 227,
      "outputs": [
        {
          "output_type": "execute_result",
          "data": {
            "text/plain": [
              "['A', 'C', 'I', 'RH', 'RL', 'RM']"
            ]
          },
          "metadata": {},
          "execution_count": 227
        }
      ]
    },
    {
      "cell_type": "code",
      "source": [
        "df.columns"
      ],
      "metadata": {
        "colab": {
          "base_uri": "https://localhost:8080/"
        },
        "id": "YCFFcfTfu4O6",
        "outputId": "3ec40e27-fd2b-4353-ca3c-055b04934e57"
      },
      "execution_count": 228,
      "outputs": [
        {
          "output_type": "execute_result",
          "data": {
            "text/plain": [
              "Index(['PRT_ID', 'AREA', 'INT_SQFT', 'DATE_SALE', 'DIST_MAINROAD', 'N_BEDROOM',\n",
              "       'N_BATHROOM', 'N_ROOM', 'SALE_COND', 'PARK_FACIL', 'DATE_BUILD',\n",
              "       'BUILDTYPE', 'UTILITY_AVAIL', 'STREET', 'MZZONE', 'QS_ROOMS',\n",
              "       'QS_BATHROOM', 'QS_BEDROOM', 'QS_OVERALL', 'REG_FEE', 'COMMIS',\n",
              "       'SALES_PRICE'],\n",
              "      dtype='object')"
            ]
          },
          "metadata": {},
          "execution_count": 228
        }
      ]
    },
    {
      "cell_type": "code",
      "source": [
        "df[\"Age_of_building\"]=df[\"DATE_SALE\"]-df[\"DATE_BUILD\"]"
      ],
      "metadata": {
        "id": "F1w3oCslu70v"
      },
      "execution_count": 229,
      "outputs": []
    },
    {
      "cell_type": "code",
      "source": [
        "df.columns"
      ],
      "metadata": {
        "colab": {
          "base_uri": "https://localhost:8080/"
        },
        "id": "Bb6hnAsju736",
        "outputId": "ee7f642f-1004-499c-cb05-d9036b57047f"
      },
      "execution_count": 230,
      "outputs": [
        {
          "output_type": "execute_result",
          "data": {
            "text/plain": [
              "Index(['PRT_ID', 'AREA', 'INT_SQFT', 'DATE_SALE', 'DIST_MAINROAD', 'N_BEDROOM',\n",
              "       'N_BATHROOM', 'N_ROOM', 'SALE_COND', 'PARK_FACIL', 'DATE_BUILD',\n",
              "       'BUILDTYPE', 'UTILITY_AVAIL', 'STREET', 'MZZONE', 'QS_ROOMS',\n",
              "       'QS_BATHROOM', 'QS_BEDROOM', 'QS_OVERALL', 'REG_FEE', 'COMMIS',\n",
              "       'SALES_PRICE', 'Age_of_building'],\n",
              "      dtype='object')"
            ]
          },
          "metadata": {},
          "execution_count": 230
        }
      ]
    },
    {
      "cell_type": "code",
      "source": [
        "df.info()"
      ],
      "metadata": {
        "colab": {
          "base_uri": "https://localhost:8080/"
        },
        "id": "K1DK1vz_vOR4",
        "outputId": "09da0ebf-b6c9-416f-fd8e-32b45269b4fb"
      },
      "execution_count": 231,
      "outputs": [
        {
          "output_type": "stream",
          "name": "stdout",
          "text": [
            "<class 'pandas.core.frame.DataFrame'>\n",
            "RangeIndex: 7109 entries, 0 to 7108\n",
            "Data columns (total 23 columns):\n",
            " #   Column           Non-Null Count  Dtype  \n",
            "---  ------           --------------  -----  \n",
            " 0   PRT_ID           7109 non-null   object \n",
            " 1   AREA             7109 non-null   object \n",
            " 2   INT_SQFT         7109 non-null   int64  \n",
            " 3   DATE_SALE        7109 non-null   int64  \n",
            " 4   DIST_MAINROAD    7109 non-null   int64  \n",
            " 5   N_BEDROOM        7109 non-null   int64  \n",
            " 6   N_BATHROOM       7109 non-null   int64  \n",
            " 7   N_ROOM           7109 non-null   int64  \n",
            " 8   SALE_COND        7109 non-null   object \n",
            " 9   PARK_FACIL       7109 non-null   object \n",
            " 10  DATE_BUILD       7109 non-null   int64  \n",
            " 11  BUILDTYPE        7109 non-null   object \n",
            " 12  UTILITY_AVAIL    7109 non-null   object \n",
            " 13  STREET           7109 non-null   object \n",
            " 14  MZZONE           7109 non-null   object \n",
            " 15  QS_ROOMS         7109 non-null   float64\n",
            " 16  QS_BATHROOM      7109 non-null   float64\n",
            " 17  QS_BEDROOM       7109 non-null   float64\n",
            " 18  QS_OVERALL       7109 non-null   float64\n",
            " 19  REG_FEE          7109 non-null   int64  \n",
            " 20  COMMIS           7109 non-null   int64  \n",
            " 21  SALES_PRICE      7109 non-null   int64  \n",
            " 22  Age_of_building  7109 non-null   int64  \n",
            "dtypes: float64(4), int64(11), object(8)\n",
            "memory usage: 1.2+ MB\n"
          ]
        }
      ]
    },
    {
      "cell_type": "markdown",
      "source": [
        "**EDA**"
      ],
      "metadata": {
        "id": "-10cCkW2vPxI"
      }
    },
    {
      "cell_type": "code",
      "source": [
        "plt.figure(figsize=(8,6))\n",
        "feature_data=df[\"AREA\"].value_counts(ascending=True)\n",
        "sns.barplot(x=feature_data.index,y=feature_data.values,data=df)\n",
        "title1 = \"Distribution of area\"\n",
        "plt.title(title1)\n",
        "\n",
        "plt.figure(figsize=(8,6))\n",
        "sns.barplot(x = df['AREA'],y=df['SALES_PRICE'],order=df.groupby('AREA')['SALES_PRICE'].mean().reset_index().sort_values('SALES_PRICE')['AREA'])\n",
        "title2 = \"AREA Vs Avg Sale price\"\n",
        "plt.title(title2)"
      ],
      "metadata": {
        "colab": {
          "base_uri": "https://localhost:8080/",
          "height": 794
        },
        "id": "BJjbdMbz9_8e",
        "outputId": "10014176-be61-4c68-c09c-3e627ed07a9e"
      },
      "execution_count": 232,
      "outputs": [
        {
          "output_type": "execute_result",
          "data": {
            "text/plain": [
              "Text(0.5, 1.0, 'AREA Vs Avg Sale price')"
            ]
          },
          "metadata": {},
          "execution_count": 232
        },
        {
          "output_type": "display_data",
          "data": {
            "text/plain": [
              "<Figure size 576x432 with 1 Axes>"
            ],
            "image/png": "[encoded data removed]"
          },
          "metadata": {
            "needs_background": "light"
          }
        },
        {
          "output_type": "display_data",
          "data": {
            "text/plain": [
              "<Figure size 576x432 with 1 Axes>"
            ],
            "image/png": "[encoded data removed]"
          },
          "metadata": {
            "needs_background": "light"
          }
        }
      ]
    },
    {
      "cell_type": "code",
      "source": [
        "plt.figure(figsize=(8,6))\n",
        "feature_data=df[\"SALE_COND\"].value_counts(ascending=True)\n",
        "sns.barplot(x=feature_data.index,y=feature_data.values,data=df)\n",
        "title1 = \"Distribution of SALE_COND\"\n",
        "plt.title(title1)\n",
        "\n",
        "plt.figure(figsize=(8,6))\n",
        "sns.barplot(x = df['SALE_COND'],y=df['SALES_PRICE'],order=df.groupby('SALE_COND')['SALES_PRICE'].mean().reset_index().sort_values('SALES_PRICE')['SALE_COND'])\n",
        "title2 = \"SALE_COND Vs Avg Sale price\"\n",
        "plt.title(title2)"
      ],
      "metadata": {
        "colab": {
          "base_uri": "https://localhost:8080/",
          "height": 795
        },
        "id": "gORnalujwJ7G",
        "outputId": "2773ccf1-6f02-4447-912c-bd18e0655719"
      },
      "execution_count": 233,
      "outputs": [
        {
          "output_type": "execute_result",
          "data": {
            "text/plain": [
              "Text(0.5, 1.0, 'SALE_COND Vs Avg Sale price')"
            ]
          },
          "metadata": {},
          "execution_count": 233
        },
        {
          "output_type": "display_data",
          "data": {
            "text/plain": [
              "<Figure size 576x432 with 1 Axes>"
            ],
            "image/png": "[encoded data removed]"
          },
          "metadata": {
            "needs_background": "light"
          }
        },
        {
          "output_type": "display_data",
          "data": {
            "text/plain": [
              "<Figure size 576x432 with 1 Axes>"
            ],
            "image/png": "[encoded data removed]"
          },
          "metadata": {
            "needs_background": "light"
          }
        }
      ]
    },
    {
      "cell_type": "code",
      "source": [
        "plt.figure(figsize=(8,6))\n",
        "feature_data=df[\"PARK_FACIL\"].value_counts(ascending=True)\n",
        "sns.barplot(x=feature_data.index,y=feature_data.values,data=df)\n",
        "title1 = \"Distribution by PARK_FACIL\"\n",
        "plt.title(title1)\n",
        "\n",
        "plt.figure(figsize=(8,6))\n",
        "sns.barplot(x = df['PARK_FACIL'],y=df['SALES_PRICE'],order=df.groupby('PARK_FACIL')['SALES_PRICE'].mean().reset_index().sort_values('SALES_PRICE')['PARK_FACIL'])\n",
        "title2 = \"PARK_FACIL Vs Avg Sale price\"\n",
        "plt.title(title2)\n"
      ],
      "metadata": {
        "colab": {
          "base_uri": "https://localhost:8080/",
          "height": 795
        },
        "id": "ilZV--DhwJ9u",
        "outputId": "14712f4d-fb56-44ea-bfbe-78ebbf704556"
      },
      "execution_count": 234,
      "outputs": [
        {
          "output_type": "execute_result",
          "data": {
            "text/plain": [
              "Text(0.5, 1.0, 'PARK_FACIL Vs Avg Sale price')"
            ]
          },
          "metadata": {},
          "execution_count": 234
        },
        {
          "output_type": "display_data",
          "data": {
            "text/plain": [
              "<Figure size 576x432 with 1 Axes>"
            ],
            "image/png": "[encoded data removed]"
          },
          "metadata": {
            "needs_background": "light"
          }
        },
        {
          "output_type": "display_data",
          "data": {
            "text/plain": [
              "<Figure size 576x432 with 1 Axes>"
            ],
            "image/png": "[encoded data removed]"
          },
          "metadata": {
            "needs_background": "light"
          }
        }
      ]
    },
    {
      "cell_type": "code",
      "source": [
        "plt.figure(figsize=(8,6))\n",
        "feature_data=df[\"BUILDTYPE\"].value_counts(ascending=True)\n",
        "sns.barplot(x=feature_data.index,y=feature_data.values,data=df)\n",
        "title1 = \"Distribution by BUILDTYPE\"\n",
        "plt.title(title1)\n",
        "\n",
        "plt.figure(figsize=(8,6))\n",
        "sns.barplot(x = df['BUILDTYPE'],y=df['SALES_PRICE'],order=df.groupby('BUILDTYPE')['SALES_PRICE'].mean().reset_index().sort_values('SALES_PRICE')['BUILDTYPE'])\n",
        "title2 = \"BUILDTYPE Vs Avg Sale price\"\n",
        "plt.title(title2)"
      ],
      "metadata": {
        "colab": {
          "base_uri": "https://localhost:8080/",
          "height": 794
        },
        "id": "elolNBJkm1bV",
        "outputId": "3b120e72-1f16-4563-9865-a675ba1c8b60"
      },
      "execution_count": 235,
      "outputs": [
        {
          "output_type": "execute_result",
          "data": {
            "text/plain": [
              "Text(0.5, 1.0, 'BUILDTYPE Vs Avg Sale price')"
            ]
          },
          "metadata": {},
          "execution_count": 235
        },
        {
          "output_type": "display_data",
          "data": {
            "text/plain": [
              "<Figure size 576x432 with 1 Axes>"
            ],
            "image/png": "[encoded data removed]"
          },
          "metadata": {
            "needs_background": "light"
          }
        },
        {
          "output_type": "display_data",
          "data": {
            "text/plain": [
              "<Figure size 576x432 with 1 Axes>"
            ],
            "image/png": "[encoded data removed]"
          },
          "metadata": {
            "needs_background": "light"
          }
        }
      ]
    },
    {
      "cell_type": "code",
      "source": [
        "plt.figure(figsize=(8,6))\n",
        "feature_data=df[\"UTILITY_AVAIL\"].value_counts(ascending=True)\n",
        "sns.barplot(x=feature_data.index,y=feature_data.values,data=df)\n",
        "title1 = \"Distribution by UTILITY_AVAIL\"\n",
        "plt.title(title1)\n",
        "\n",
        "plt.figure(figsize=(8,6))\n",
        "sns.barplot(x = df['UTILITY_AVAIL'],y=df['SALES_PRICE'],order=df.groupby('UTILITY_AVAIL')['SALES_PRICE'].mean().reset_index().sort_values('SALES_PRICE')['UTILITY_AVAIL'])\n",
        "title2 = \"UTILITY_AVAIL Vs Avg Sale price\"\n",
        "plt.title(title2)"
      ],
      "metadata": {
        "colab": {
          "base_uri": "https://localhost:8080/",
          "height": 795
        },
        "id": "A48ITil5zsuP",
        "outputId": "16170fae-a1cf-40cf-9e4e-0e0985bc7890"
      },
      "execution_count": 236,
      "outputs": [
        {
          "output_type": "execute_result",
          "data": {
            "text/plain": [
              "Text(0.5, 1.0, 'UTILITY_AVAIL Vs Avg Sale price')"
            ]
          },
          "metadata": {},
          "execution_count": 236
        },
        {
          "output_type": "display_data",
          "data": {
            "text/plain": [
              "<Figure size 576x432 with 1 Axes>"
            ],
            "image/png": "[encoded data removed]"
          },
          "metadata": {
            "needs_background": "light"
          }
        },
        {
          "output_type": "display_data",
          "data": {
            "text/plain": [
              "<Figure size 576x432 with 1 Axes>"
            ],
            "image/png": "[encoded data removed]"
          },
          "metadata": {
            "needs_background": "light"
          }
        }
      ]
    },
    {
      "cell_type": "code",
      "source": [
        "plt.figure(figsize=(8,6))\n",
        "feature_data=df[\"STREET\"].value_counts(ascending=True)\n",
        "sns.barplot(x=feature_data.index,y=feature_data.values,data=df)\n",
        "title1 = \"Distribution by STREET\"\n",
        "plt.title(title1)\n",
        "\n",
        "plt.figure(figsize=(8,6))\n",
        "sns.barplot(x = df['STREET'],y=df['SALES_PRICE'],order=df.groupby('STREET')['SALES_PRICE'].mean().reset_index().sort_values('SALES_PRICE')['STREET'])\n",
        "title2 = \"STREET Vs Avg Sale price\"\n",
        "plt.title(title2)"
      ],
      "metadata": {
        "colab": {
          "base_uri": "https://localhost:8080/",
          "height": 794
        },
        "id": "Ss-OPKauzsw_",
        "outputId": "99cbeb43-da2c-417e-ddd2-958c68c5df64"
      },
      "execution_count": 237,
      "outputs": [
        {
          "output_type": "execute_result",
          "data": {
            "text/plain": [
              "Text(0.5, 1.0, 'STREET Vs Avg Sale price')"
            ]
          },
          "metadata": {},
          "execution_count": 237
        },
        {
          "output_type": "display_data",
          "data": {
            "text/plain": [
              "<Figure size 576x432 with 1 Axes>"
            ],
            "image/png": "[encoded data removed]"
          },
          "metadata": {
            "needs_background": "light"
          }
        },
        {
          "output_type": "display_data",
          "data": {
            "text/plain": [
              "<Figure size 576x432 with 1 Axes>"
            ],
            "image/png": "[encoded data removed]"
          },
          "metadata": {
            "needs_background": "light"
          }
        }
      ]
    },
    {
      "cell_type": "code",
      "source": [
        "plt.figure(figsize=(8,6))\n",
        "feature_data=df[\"MZZONE\"].value_counts(ascending=True)\n",
        "sns.barplot(x=feature_data.index,y=feature_data.values,data=df)\n",
        "title1 = \"Distribution by MZZONE\"\n",
        "plt.title(title1)\n",
        "\n",
        "plt.figure(figsize=(8,6))\n",
        "sns.barplot(x = df['MZZONE'],y=df['SALES_PRICE'],order=df.groupby('MZZONE')['SALES_PRICE'].mean().reset_index().sort_values('SALES_PRICE')['MZZONE'])\n",
        "title2 = \"MZZONE Vs Avg Sale price\"\n",
        "plt.title(title2)\n"
      ],
      "metadata": {
        "colab": {
          "base_uri": "https://localhost:8080/",
          "height": 794
        },
        "id": "SGvB0AVYzszt",
        "outputId": "7209a613-870d-4d8c-be0a-aa059d8d7386"
      },
      "execution_count": 238,
      "outputs": [
        {
          "output_type": "execute_result",
          "data": {
            "text/plain": [
              "Text(0.5, 1.0, 'MZZONE Vs Avg Sale price')"
            ]
          },
          "metadata": {},
          "execution_count": 238
        },
        {
          "output_type": "display_data",
          "data": {
            "text/plain": [
              "<Figure size 576x432 with 1 Axes>"
            ],
            "image/png": "[encoded data removed]"
          },
          "metadata": {
            "needs_background": "light"
          }
        },
        {
          "output_type": "display_data",
          "data": {
            "text/plain": [
              "<Figure size 576x432 with 1 Axes>"
            ],
            "image/png": "[encoded data removed]"
          },
          "metadata": {
            "needs_background": "light"
          }
        }
      ]
    },
    {
      "cell_type": "code",
      "source": [
        "plt.figure(figsize=(16,8))\n",
        "build=df['DATE_SALE'].value_counts()\n",
        "sns.barplot(x=build.index,y=build.values,data=df)\n",
        "plt.xlabel(\"Year of Sale\")\n",
        "plt.ylabel(\"No of houses\")\n",
        "plt.title('Year of sale VS NO. OF HOUSES')\n",
        "plt.show()"
      ],
      "metadata": {
        "colab": {
          "base_uri": "https://localhost:8080/",
          "height": 513
        },
        "id": "VX5JKDbnYjq0",
        "outputId": "1e9262c2-1522-497f-b41a-97a2dbbeccc5"
      },
      "execution_count": 239,
      "outputs": [
        {
          "output_type": "display_data",
          "data": {
            "text/plain": [
              "<Figure size 1152x576 with 1 Axes>"
            ],
            "image/png": "[encoded data removed]"
          },
          "metadata": {
            "needs_background": "light"
          }
        }
      ]
    },
    {
      "cell_type": "code",
      "source": [
        "plt.figure(figsize=(36,8))\n",
        "build=df['DATE_BUILD'].value_counts()\n",
        "sns.barplot(x=build.index,y=build.values,data=df)\n",
        "plt.xlabel(\"Year of Build\")\n",
        "plt.ylabel(\"No of houses\")\n",
        "plt.title('Year of Build VS NO. OF HOUSES')\n",
        "plt.show()"
      ],
      "metadata": {
        "colab": {
          "base_uri": "https://localhost:8080/",
          "height": 513
        },
        "id": "ytRFk0G7cYfV",
        "outputId": "83c67e33-a734-42e7-edb5-2e0d22515bf8"
      },
      "execution_count": 240,
      "outputs": [
        {
          "output_type": "display_data",
          "data": {
            "text/plain": [
              "<Figure size 2592x576 with 1 Axes>"
            ],
            "image/png": "[encoded data removed]"
          },
          "metadata": {
            "needs_background": "light"
          }
        }
      ]
    },
    {
      "cell_type": "code",
      "source": [
        "df.info()"
      ],
      "metadata": {
        "colab": {
          "base_uri": "https://localhost:8080/"
        },
        "id": "7WYZDYBNYjt8",
        "outputId": "0ff5d586-f866-4889-8d3d-ab3d91ea6f8c"
      },
      "execution_count": 241,
      "outputs": [
        {
          "output_type": "stream",
          "name": "stdout",
          "text": [
            "<class 'pandas.core.frame.DataFrame'>\n",
            "RangeIndex: 7109 entries, 0 to 7108\n",
            "Data columns (total 23 columns):\n",
            " #   Column           Non-Null Count  Dtype  \n",
            "---  ------           --------------  -----  \n",
            " 0   PRT_ID           7109 non-null   object \n",
            " 1   AREA             7109 non-null   object \n",
            " 2   INT_SQFT         7109 non-null   int64  \n",
            " 3   DATE_SALE        7109 non-null   int64  \n",
            " 4   DIST_MAINROAD    7109 non-null   int64  \n",
            " 5   N_BEDROOM        7109 non-null   int64  \n",
            " 6   N_BATHROOM       7109 non-null   int64  \n",
            " 7   N_ROOM           7109 non-null   int64  \n",
            " 8   SALE_COND        7109 non-null   object \n",
            " 9   PARK_FACIL       7109 non-null   object \n",
            " 10  DATE_BUILD       7109 non-null   int64  \n",
            " 11  BUILDTYPE        7109 non-null   object \n",
            " 12  UTILITY_AVAIL    7109 non-null   object \n",
            " 13  STREET           7109 non-null   object \n",
            " 14  MZZONE           7109 non-null   object \n",
            " 15  QS_ROOMS         7109 non-null   float64\n",
            " 16  QS_BATHROOM      7109 non-null   float64\n",
            " 17  QS_BEDROOM       7109 non-null   float64\n",
            " 18  QS_OVERALL       7109 non-null   float64\n",
            " 19  REG_FEE          7109 non-null   int64  \n",
            " 20  COMMIS           7109 non-null   int64  \n",
            " 21  SALES_PRICE      7109 non-null   int64  \n",
            " 22  Age_of_building  7109 non-null   int64  \n",
            "dtypes: float64(4), int64(11), object(8)\n",
            "memory usage: 1.2+ MB\n"
          ]
        }
      ]
    },
    {
      "cell_type": "markdown",
      "source": [
        "**Droping features**"
      ],
      "metadata": {
        "id": "7u-j5ajmMaHy"
      }
    },
    {
      "cell_type": "code",
      "source": [
        "df.drop([\"REG_FEE\",\"COMMIS\",\"DATE_SALE\",\"DATE_BUILD\"],axis=1,inplace=True)\n",
        "#"
      ],
      "metadata": {
        "id": "uoQIeTd4MnWz"
      },
      "execution_count": 242,
      "outputs": []
    },
    {
      "cell_type": "code",
      "source": [
        "df.drop(\"PRT_ID\",axis=1,inplace=True)\n",
        "#unique values not requred"
      ],
      "metadata": {
        "id": "gBwCKo6-QhHL"
      },
      "execution_count": 243,
      "outputs": []
    },
    {
      "cell_type": "code",
      "source": [
        "df.corr()['SALES_PRICE']"
      ],
      "metadata": {
        "colab": {
          "base_uri": "https://localhost:8080/"
        },
        "id": "YzqbuyU2k6OF",
        "outputId": "d2bf534d-fc2e-45f4-bd65-2e4716554e5b"
      },
      "execution_count": 244,
      "outputs": [
        {
          "output_type": "execute_result",
          "data": {
            "text/plain": [
              "INT_SQFT           0.612125\n",
              "DIST_MAINROAD      0.018783\n",
              "N_BEDROOM          0.330987\n",
              "N_BATHROOM         0.108834\n",
              "N_ROOM             0.602760\n",
              "QS_ROOMS           0.021967\n",
              "QS_BATHROOM       -0.011377\n",
              "QS_BEDROOM         0.018804\n",
              "QS_OVERALL         0.020485\n",
              "SALES_PRICE        1.000000\n",
              "Age_of_building   -0.118842\n",
              "Name: SALES_PRICE, dtype: float64"
            ]
          },
          "metadata": {},
          "execution_count": 244
        }
      ]
    },
    {
      "cell_type": "code",
      "source": [
        "plt.figure(figsize=(20,20))\n",
        "sns.heatmap(df.corr(),annot=True,cmap='RdYlGn')\n",
        "plt.show()"
      ],
      "metadata": {
        "colab": {
          "base_uri": "https://localhost:8080/",
          "height": 1000
        },
        "id": "vzolzw-Al4As",
        "outputId": "e83ff113-bbd5-469c-f54b-99a1ae251df5"
      },
      "execution_count": 245,
      "outputs": [
        {
          "output_type": "display_data",
          "data": {
            "text/plain": [
              "<Figure size 1440x1440 with 2 Axes>"
            ],
            "image/png": "[encoded data removed]"
          },
          "metadata": {
            "needs_background": "light"
          }
        }
      ]
    },
    {
      "cell_type": "code",
      "source": [
        "df.drop(['DIST_MAINROAD', 'QS_ROOMS', 'QS_BATHROOM', 'QS_BEDROOM',\"QS_OVERALL\"], axis=1, inplace=True)"
      ],
      "metadata": {
        "id": "lq-Ap0T4oZtM"
      },
      "execution_count": 246,
      "outputs": []
    },
    {
      "cell_type": "markdown",
      "source": [
        "Encoding"
      ],
      "metadata": {
        "id": "MNleHAen0t44"
      }
    },
    {
      "cell_type": "code",
      "source": [
        "# AREA          -> Nominal ==one hot\n",
        "# SALE_COND     -> Nominal ==one hot\n",
        "# PARK_FACIL    -> ordinal ==label\n",
        "# BUILDTYPE     -> Nominal ==one hot\n",
        "# UTILITY_AVAIL -> Nominal ==one hot\n",
        "# STREET        -> Nominal ==one hot\n",
        "# MZZONE        -> Nominal ==one hot\n",
        "\n"
      ],
      "metadata": {
        "id": "zXZzQEn0zs_C"
      },
      "execution_count": 247,
      "outputs": []
    },
    {
      "cell_type": "code",
      "source": [
        "dummies=pd.get_dummies(df[\"AREA\"], prefix=\"area\") #1"
      ],
      "metadata": {
        "id": "NFYzGRVtVzMR"
      },
      "execution_count": 248,
      "outputs": []
    },
    {
      "cell_type": "code",
      "source": [
        "df=pd.concat([df,dummies],axis=\"columns\")"
      ],
      "metadata": {
        "id": "HqTmOKHyV3BK"
      },
      "execution_count": 249,
      "outputs": []
    },
    {
      "cell_type": "code",
      "source": [
        "dummies=pd.get_dummies(df[\"SALE_COND\"], prefix=\"sale_cond\") #2"
      ],
      "metadata": {
        "id": "A2WQcjO4ZQYz"
      },
      "execution_count": 250,
      "outputs": []
    },
    {
      "cell_type": "code",
      "source": [
        "df=pd.concat([df,dummies],axis=\"columns\")"
      ],
      "metadata": {
        "id": "17g8eu2yZQb0"
      },
      "execution_count": 251,
      "outputs": []
    },
    {
      "cell_type": "code",
      "source": [
        "dummies=pd.get_dummies(df[\"BUILDTYPE\"], prefix=\"buildtype\")#3"
      ],
      "metadata": {
        "id": "aRMFQDl8ZQes"
      },
      "execution_count": 252,
      "outputs": []
    },
    {
      "cell_type": "code",
      "source": [
        "df=pd.concat([df,dummies],axis=\"columns\")"
      ],
      "metadata": {
        "id": "EEB4MmMSZQhe"
      },
      "execution_count": 253,
      "outputs": []
    },
    {
      "cell_type": "code",
      "source": [
        "dummies=pd.get_dummies(df[\"UTILITY_AVAIL\"], prefix=\"utility_avail\")#4"
      ],
      "metadata": {
        "id": "TtKMXEjJZVBL"
      },
      "execution_count": 254,
      "outputs": []
    },
    {
      "cell_type": "code",
      "source": [
        "df=pd.concat([df,dummies],axis=\"columns\")"
      ],
      "metadata": {
        "id": "YdX-QGT0ZVEI"
      },
      "execution_count": 255,
      "outputs": []
    },
    {
      "cell_type": "code",
      "source": [
        "dummies=pd.get_dummies(df[\"MZZONE\"], prefix=\"mzzone\")#5"
      ],
      "metadata": {
        "id": "9SicxX2OZVGt"
      },
      "execution_count": 256,
      "outputs": []
    },
    {
      "cell_type": "code",
      "source": [
        "df=pd.concat([df,dummies],axis=\"columns\")"
      ],
      "metadata": {
        "id": "2ZgD92QAZVJ5"
      },
      "execution_count": 257,
      "outputs": []
    },
    {
      "cell_type": "code",
      "source": [
        "dummies=pd.get_dummies(df[\"STREET\"], prefix=\"street\")#6"
      ],
      "metadata": {
        "id": "WiDaf-JfmVX1"
      },
      "execution_count": 258,
      "outputs": []
    },
    {
      "cell_type": "code",
      "source": [
        "df=pd.concat([df,dummies],axis=\"columns\")"
      ],
      "metadata": {
        "id": "731iZiPJmWbW"
      },
      "execution_count": 259,
      "outputs": []
    },
    {
      "cell_type": "code",
      "source": [
        "df.drop([\"AREA\",\"SALE_COND\",\"BUILDTYPE\",\"UTILITY_AVAIL\",\"MZZONE\",\"STREET\"],axis=1,inplace=True)"
      ],
      "metadata": {
        "id": "WrbwbBCbaCFk"
      },
      "execution_count": 260,
      "outputs": []
    },
    {
      "cell_type": "code",
      "source": [
        "from sklearn.preprocessing import LabelEncoder"
      ],
      "metadata": {
        "id": "JtmPVVTyahbN"
      },
      "execution_count": 261,
      "outputs": []
    },
    {
      "cell_type": "code",
      "source": [
        "encoder=LabelEncoder()"
      ],
      "metadata": {
        "id": "iZoH-Hfjahfr"
      },
      "execution_count": 262,
      "outputs": []
    },
    {
      "cell_type": "code",
      "source": [
        "df[\"PARK_FACIL\"]=encoder.fit_transform(df[\"PARK_FACIL\"])"
      ],
      "metadata": {
        "id": "JiV6gk0jbDO0"
      },
      "execution_count": 263,
      "outputs": []
    },
    {
      "cell_type": "code",
      "source": [
        "df.drop([\"PARK_FACIL\"],axis=1,inplace=True)"
      ],
      "metadata": {
        "id": "KJPuErt3a0Ab"
      },
      "execution_count": 264,
      "outputs": []
    },
    {
      "cell_type": "code",
      "source": [
        "df.head(5)"
      ],
      "metadata": {
        "colab": {
          "base_uri": "https://localhost:8080/",
          "height": 236
        },
        "id": "ODq301bSnsNF",
        "outputId": "db390df2-42b0-4004-9397-105c9ab8817f"
      },
      "execution_count": 265,
      "outputs": [
        {
          "output_type": "execute_result",
          "data": {
            "text/plain": [
              "   INT_SQFT  N_BEDROOM  N_BATHROOM  N_ROOM  SALES_PRICE  Age_of_building  \\\n",
              "0      1004          1           1       3      7600000               44   \n",
              "1      1986          2           1       5     21717770               11   \n",
              "2       909          1           1       3     13159200               20   \n",
              "3      1855          3           2       5      9630290               22   \n",
              "4      1226          1           1       3      7406250               30   \n",
              "\n",
              "   area_Adyar  area_Anna Nagar  area_KK Nagar  area_Karapakkam  ...  \\\n",
              "0           0                0              0                1  ...   \n",
              "1           0                1              0                0  ...   \n",
              "2           1                0              0                0  ...   \n",
              "3           0                0              0                0  ...   \n",
              "4           0                0              0                1  ...   \n",
              "\n",
              "   utility_avail_NoSeWa  mzzone_A  mzzone_C  mzzone_I  mzzone_RH  mzzone_RL  \\\n",
              "0                     0         1         0         0          0          0   \n",
              "1                     0         0         0         0          1          0   \n",
              "2                     0         0         0         0          0          1   \n",
              "3                     1         0         0         1          0          0   \n",
              "4                     0         0         1         0          0          0   \n",
              "\n",
              "   mzzone_RM  street_Gravel  street_NoAccess  street_Paved  \n",
              "0          0              0                0             1  \n",
              "1          0              1                0             0  \n",
              "2          0              1                0             0  \n",
              "3          0              0                0             1  \n",
              "4          0              1                0             0  \n",
              "\n",
              "[5 rows x 33 columns]"
            ],
            "text/html": [
              "\n",
              "  <div id=\"df-f105ac4e-adb1-4e11-85e0-7f11b383413e\">\n",
              "    <div class=\"colab-df-container\">\n",
              "      <div>\n",
              "<style scoped>\n",
              "    .dataframe tbody tr th:only-of-type {\n",
              "        vertical-align: middle;\n",
              "    }\n",
              "\n",
              "    .dataframe tbody tr th {\n",
              "        vertical-align: top;\n",
              "    }\n",
              "\n",
              "    .dataframe thead th {\n",
              "        text-align: right;\n",
              "    }\n",
              "</style>\n",
              "<table border=\"1\" class=\"dataframe\">\n",
              "  <thead>\n",
              "    <tr style=\"text-align: right;\">\n",
              "      <th></th>\n",
              "      <th>INT_SQFT</th>\n",
              "      <th>N_BEDROOM</th>\n",
              "      <th>N_BATHROOM</th>\n",
              "      <th>N_ROOM</th>\n",
              "      <th>SALES_PRICE</th>\n",
              "      <th>Age_of_building</th>\n",
              "      <th>area_Adyar</th>\n",
              "      <th>area_Anna Nagar</th>\n",
              "      <th>area_KK Nagar</th>\n",
              "      <th>area_Karapakkam</th>\n",
              "      <th>...</th>\n",
              "      <th>utility_avail_NoSeWa</th>\n",
              "      <th>mzzone_A</th>\n",
              "      <th>mzzone_C</th>\n",
              "      <th>mzzone_I</th>\n",
              "      <th>mzzone_RH</th>\n",
              "      <th>mzzone_RL</th>\n",
              "      <th>mzzone_RM</th>\n",
              "      <th>street_Gravel</th>\n",
              "      <th>street_NoAccess</th>\n",
              "      <th>street_Paved</th>\n",
              "    </tr>\n",
              "  </thead>\n",
              "  <tbody>\n",
              "    <tr>\n",
              "      <th>0</th>\n",
              "      <td>1004</td>\n",
              "      <td>1</td>\n",
              "      <td>1</td>\n",
              "      <td>3</td>\n",
              "      <td>7600000</td>\n",
              "      <td>44</td>\n",
              "      <td>0</td>\n",
              "      <td>0</td>\n",
              "      <td>0</td>\n",
              "      <td>1</td>\n",
              "      <td>...</td>\n",
              "      <td>0</td>\n",
              "      <td>1</td>\n",
              "      <td>0</td>\n",
              "      <td>0</td>\n",
              "      <td>0</td>\n",
              "      <td>0</td>\n",
              "      <td>0</td>\n",
              "      <td>0</td>\n",
              "      <td>0</td>\n",
              "      <td>1</td>\n",
              "    </tr>\n",
              "    <tr>\n",
              "      <th>1</th>\n",
              "      <td>1986</td>\n",
              "      <td>2</td>\n",
              "      <td>1</td>\n",
              "      <td>5</td>\n",
              "      <td>21717770</td>\n",
              "      <td>11</td>\n",
              "      <td>0</td>\n",
              "      <td>1</td>\n",
              "      <td>0</td>\n",
              "      <td>0</td>\n",
              "      <td>...</td>\n",
              "      <td>0</td>\n",
              "      <td>0</td>\n",
              "      <td>0</td>\n",
              "      <td>0</td>\n",
              "      <td>1</td>\n",
              "      <td>0</td>\n",
              "      <td>0</td>\n",
              "      <td>1</td>\n",
              "      <td>0</td>\n",
              "      <td>0</td>\n",
              "    </tr>\n",
              "    <tr>\n",
              "      <th>2</th>\n",
              "      <td>909</td>\n",
              "      <td>1</td>\n",
              "      <td>1</td>\n",
              "      <td>3</td>\n",
              "      <td>13159200</td>\n",
              "      <td>20</td>\n",
              "      <td>1</td>\n",
              "      <td>0</td>\n",
              "      <td>0</td>\n",
              "      <td>0</td>\n",
              "      <td>...</td>\n",
              "      <td>0</td>\n",
              "      <td>0</td>\n",
              "      <td>0</td>\n",
              "      <td>0</td>\n",
              "      <td>0</td>\n",
              "      <td>1</td>\n",
              "      <td>0</td>\n",
              "      <td>1</td>\n",
              "      <td>0</td>\n",
              "      <td>0</td>\n",
              "    </tr>\n",
              "    <tr>\n",
              "      <th>3</th>\n",
              "      <td>1855</td>\n",
              "      <td>3</td>\n",
              "      <td>2</td>\n",
              "      <td>5</td>\n",
              "      <td>9630290</td>\n",
              "      <td>22</td>\n",
              "      <td>0</td>\n",
              "      <td>0</td>\n",
              "      <td>0</td>\n",
              "      <td>0</td>\n",
              "      <td>...</td>\n",
              "      <td>1</td>\n",
              "      <td>0</td>\n",
              "      <td>0</td>\n",
              "      <td>1</td>\n",
              "      <td>0</td>\n",
              "      <td>0</td>\n",
              "      <td>0</td>\n",
              "      <td>0</td>\n",
              "      <td>0</td>\n",
              "      <td>1</td>\n",
              "    </tr>\n",
              "    <tr>\n",
              "      <th>4</th>\n",
              "      <td>1226</td>\n",
              "      <td>1</td>\n",
              "      <td>1</td>\n",
              "      <td>3</td>\n",
              "      <td>7406250</td>\n",
              "      <td>30</td>\n",
              "      <td>0</td>\n",
              "      <td>0</td>\n",
              "      <td>0</td>\n",
              "      <td>1</td>\n",
              "      <td>...</td>\n",
              "      <td>0</td>\n",
              "      <td>0</td>\n",
              "      <td>1</td>\n",
              "      <td>0</td>\n",
              "      <td>0</td>\n",
              "      <td>0</td>\n",
              "      <td>0</td>\n",
              "      <td>1</td>\n",
              "      <td>0</td>\n",
              "      <td>0</td>\n",
              "    </tr>\n",
              "  </tbody>\n",
              "</table>\n",
              "<p>5 rows × 33 columns</p>\n",
              "</div>\n",
              "      <button class=\"colab-df-convert\" onclick=\"convertToInteractive('df-f105ac4e-adb1-4e11-85e0-7f11b383413e')\"\n",
              "              title=\"Convert this dataframe to an interactive table.\"\n",
              "              style=\"display:none;\">\n",
              "        \n",
              "  <svg xmlns=\"http://www.w3.org/2000/svg\" height=\"24px\"viewBox=\"0 0 24 24\"\n",
              "       width=\"24px\">\n",
              "    <path d=\"M0 0h24v24H0V0z\" fill=\"none\"/>\n",
              "    <path d=\"M18.56 5.44l.94 2.06.94-2.06 2.06-.94-2.06-.94-.94-2.06-.94 2.06-2.06.94zm-11 1L8.5 8.5l.94-2.06 2.06-.94-2.06-.94L8.5 2.5l-.94 2.06-2.06.94zm10 10l.94 2.06.94-2.06 2.06-.94-2.06-.94-.94-2.06-.94 2.06-2.06.94z\"/><path d=\"M17.41 7.96l-1.37-1.37c-.4-.4-.92-.59-1.43-.59-.52 0-1.04.2-1.43.59L10.3 9.45l-7.72 7.72c-.78.78-.78 2.05 0 2.83L4 21.41c.39.39.9.59 1.41.59.51 0 1.02-.2 1.41-.59l7.78-7.78 2.81-2.81c.8-.78.8-2.07 0-2.86zM5.41 20L4 18.59l7.72-7.72 1.47 1.35L5.41 20z\"/>\n",
              "  </svg>\n",
              "      </button>\n",
              "      \n",
              "  <style>\n",
              "    .colab-df-container {\n",
              "      display:flex;\n",
              "      flex-wrap:wrap;\n",
              "      gap: 12px;\n",
              "    }\n",
              "\n",
              "    .colab-df-convert {\n",
              "      background-color: #E8F0FE;\n",
              "      border: none;\n",
              "      border-radius: 50%;\n",
              "      cursor: pointer;\n",
              "      display: none;\n",
              "      fill: #1967D2;\n",
              "      height: 32px;\n",
              "      padding: 0 0 0 0;\n",
              "      width: 32px;\n",
              "    }\n",
              "\n",
              "    .colab-df-convert:hover {\n",
              "      background-color: #E2EBFA;\n",
              "      box-shadow: 0px 1px 2px rgba(60, 64, 67, 0.3), 0px 1px 3px 1px rgba(60, 64, 67, 0.15);\n",
              "      fill: #174EA6;\n",
              "    }\n",
              "\n",
              "    [theme=dark] .colab-df-convert {\n",
              "      background-color: #3B4455;\n",
              "      fill: #D2E3FC;\n",
              "    }\n",
              "\n",
              "    [theme=dark] .colab-df-convert:hover {\n",
              "      background-color: #434B5C;\n",
              "      box-shadow: 0px 1px 3px 1px rgba(0, 0, 0, 0.15);\n",
              "      filter: drop-shadow(0px 1px 2px rgba(0, 0, 0, 0.3));\n",
              "      fill: #FFFFFF;\n",
              "    }\n",
              "  </style>\n",
              "\n",
              "      <script>\n",
              "        const buttonEl =\n",
              "          document.querySelector('#df-f105ac4e-adb1-4e11-85e0-7f11b383413e button.colab-df-convert');\n",
              "        buttonEl.style.display =\n",
              "          google.colab.kernel.accessAllowed ? 'block' : 'none';\n",
              "\n",
              "        async function convertToInteractive(key) {\n",
              "          const element = document.querySelector('#df-f105ac4e-adb1-4e11-85e0-7f11b383413e');\n",
              "          const dataTable =\n",
              "            await google.colab.kernel.invokeFunction('convertToInteractive',\n",
              "                                                     [key], {});\n",
              "          if (!dataTable) return;\n",
              "\n",
              "          const docLinkHtml = 'Like what you see? Visit the ' +\n",
              "            '<a target=\"_blank\" href=https://colab.research.google.com/notebooks/data_table.ipynb>data table notebook</a>'\n",
              "            + ' to learn more about interactive tables.';\n",
              "          element.innerHTML = '';\n",
              "          dataTable['output_type'] = 'display_data';\n",
              "          await google.colab.output.renderOutput(dataTable, element);\n",
              "          const docLink = document.createElement('div');\n",
              "          docLink.innerHTML = docLinkHtml;\n",
              "          element.appendChild(docLink);\n",
              "        }\n",
              "      </script>\n",
              "    </div>\n",
              "  </div>\n",
              "  "
            ]
          },
          "metadata": {},
          "execution_count": 265
        }
      ]
    },
    {
      "cell_type": "code",
      "source": [
        "corr_features=df.corr()"
      ],
      "metadata": {
        "id": "x_LLXlMf9TG7"
      },
      "execution_count": 266,
      "outputs": []
    },
    {
      "cell_type": "code",
      "source": [
        "# Plotting Correlation between Features.\n",
        "plt.figure(figsize=(15,15))\n",
        "sns.heatmap(data=corr_features,fmt='.2f',cmap='coolwarm_r',annot=True) \n",
        "plt.title(\"Correlation between features\")\n",
        "plt.show()"
      ],
      "metadata": {
        "colab": {
          "base_uri": "https://localhost:8080/",
          "height": 985
        },
        "id": "FWyKj28f9lN_",
        "outputId": "9449b5c7-2c80-44fd-effa-4a49739ddbb9"
      },
      "execution_count": 267,
      "outputs": [
        {
          "output_type": "display_data",
          "data": {
            "text/plain": [
              "<Figure size 1080x1080 with 2 Axes>"
            ],
            "image/png": "[encoded data removed]"
          },
          "metadata": {
            "needs_background": "light"
          }
        }
      ]
    },
    {
      "cell_type": "code",
      "source": [
        "X=df.drop([\"SALES_PRICE\"],axis=1)\n",
        "y=df[\"SALES_PRICE\"]"
      ],
      "metadata": {
        "id": "s1kxYBGwb_kF"
      },
      "execution_count": 268,
      "outputs": []
    },
    {
      "cell_type": "code",
      "source": [
        "# Splitting the training and testing Dataset.\n",
        "X_train, X_test, y_train, y_test = train_test_split(X,y,test_size= 0.2, random_state=10)"
      ],
      "metadata": {
        "id": "7HT6rlJQcBMo"
      },
      "execution_count": 269,
      "outputs": []
    },
    {
      "cell_type": "code",
      "source": [
        "from sklearn.preprocessing import StandardScaler\n",
        "scaler = StandardScaler()\n",
        "scaler.fit(X_train)\n",
        "X_train= scaler.transform(X_train)\n",
        "X_test= scaler.transform(X_test)"
      ],
      "metadata": {
        "id": "tqQPOCNZ9lQv"
      },
      "execution_count": 270,
      "outputs": []
    },
    {
      "cell_type": "code",
      "source": [
        "X_train.shape, X_test.shape, y_train.shape, y_test.shape"
      ],
      "metadata": {
        "colab": {
          "base_uri": "https://localhost:8080/"
        },
        "id": "ycZYpHijgiRj",
        "outputId": "085e4aac-fe75-4dd6-89fe-aeb4859a96df"
      },
      "execution_count": 271,
      "outputs": [
        {
          "output_type": "execute_result",
          "data": {
            "text/plain": [
              "((5687, 32), (1422, 32), (5687,), (1422,))"
            ]
          },
          "metadata": {},
          "execution_count": 271
        }
      ]
    },
    {
      "cell_type": "markdown",
      "source": [
        "**Linear Regression**"
      ],
      "metadata": {
        "id": "_Kbl1ouan5V8"
      }
    },
    {
      "cell_type": "code",
      "source": [
        "from sklearn.linear_model import LinearRegression\n",
        "lr= LinearRegression()\n",
        "lr.fit(X_train,y_train)\n",
        "lr.score(X_test,y_test)"
      ],
      "metadata": {
        "colab": {
          "base_uri": "https://localhost:8080/"
        },
        "id": "HejP0cst9lV_",
        "outputId": "01005004-7caf-4176-f7a6-0e2e4526063f"
      },
      "execution_count": 272,
      "outputs": [
        {
          "output_type": "execute_result",
          "data": {
            "text/plain": [
              "0.9392307664739644"
            ]
          },
          "metadata": {},
          "execution_count": 272
        }
      ]
    },
    {
      "cell_type": "code",
      "source": [
        "y_pred= lr.predict(X_test)\n",
        "y_pred"
      ],
      "metadata": {
        "colab": {
          "base_uri": "https://localhost:8080/"
        },
        "id": "XOvva3G6nsbP",
        "outputId": "4426cb95-2a4e-4bb8-f066-376aa493ed42"
      },
      "execution_count": 273,
      "outputs": [
        {
          "output_type": "execute_result",
          "data": {
            "text/plain": [
              "array([15377528.86114518, 18850936.86114518, 13976696.86114518, ...,\n",
              "        6264952.86114518, 15685752.86114518,  8325240.86114518])"
            ]
          },
          "metadata": {},
          "execution_count": 273
        }
      ]
    },
    {
      "cell_type": "code",
      "source": [
        "lr.intercept_"
      ],
      "metadata": {
        "colab": {
          "base_uri": "https://localhost:8080/"
        },
        "id": "vJ0M5di6JIm5",
        "outputId": "e6c3e9b3-b058-4af9-cc4c-a1fdb25ed303"
      },
      "execution_count": 274,
      "outputs": [
        {
          "output_type": "execute_result",
          "data": {
            "text/plain": [
              "10909816.861145178"
            ]
          },
          "metadata": {},
          "execution_count": 274
        }
      ]
    },
    {
      "cell_type": "code",
      "source": [
        "lr.coef_"
      ],
      "metadata": {
        "colab": {
          "base_uri": "https://localhost:8080/"
        },
        "id": "awms4MOhcsq0",
        "outputId": "c248650a-beb4-44a0-a10b-d64f8735ee4f"
      },
      "execution_count": 275,
      "outputs": [
        {
          "output_type": "execute_result",
          "data": {
            "text/plain": [
              "array([ 1.84221507e+06,  1.81718103e+05, -1.54843306e+05,  1.35056913e+05,\n",
              "       -2.59106864e+05, -7.47459136e+17, -7.49547001e+17, -8.34213623e+17,\n",
              "       -9.35708196e+17, -6.05717837e+17, -8.29021339e+17, -1.01740997e+18,\n",
              "       -1.79508984e+18, -1.79090556e+18, -1.78124005e+18, -1.81156126e+18,\n",
              "       -1.81214176e+18,  4.78985310e+18,  4.84224238e+18,  4.77274319e+18,\n",
              "       -3.48109429e+16, -3.22145935e+16, -3.93445938e+16, -1.45975270e+18,\n",
              "       -1.47184007e+18, -1.41630652e+18, -2.38772584e+18, -2.40039748e+18,\n",
              "       -2.37530874e+18,  2.69360946e+19,  2.53743527e+19,  2.70560764e+19])"
            ]
          },
          "metadata": {},
          "execution_count": 275
        }
      ]
    },
    {
      "cell_type": "code",
      "source": [
        "coef_df= pd.DataFrame(lr.coef_, X.columns, columns=[\"Co-efficient\"])  \n",
        "coef_df"
      ],
      "metadata": {
        "colab": {
          "base_uri": "https://localhost:8080/",
          "height": 1000
        },
        "id": "bSAHd6qacswf",
        "outputId": "9061d332-3a70-4132-f631-9b4ee206fc30"
      },
      "execution_count": 276,
      "outputs": [
        {
          "output_type": "execute_result",
          "data": {
            "text/plain": [
              "                       Co-efficient\n",
              "INT_SQFT               1.842215e+06\n",
              "N_BEDROOM              1.817181e+05\n",
              "N_BATHROOM            -1.548433e+05\n",
              "N_ROOM                 1.350569e+05\n",
              "Age_of_building       -2.591069e+05\n",
              "area_Adyar            -7.474591e+17\n",
              "area_Anna Nagar       -7.495470e+17\n",
              "area_KK Nagar         -8.342136e+17\n",
              "area_Karapakkam       -9.357082e+17\n",
              "area_T Nagar          -6.057178e+17\n",
              "area_Velachery        -8.290213e+17\n",
              "area_chromepet        -1.017410e+18\n",
              "sale_cond_AbNormal    -1.795090e+18\n",
              "sale_cond_AdjLand     -1.790906e+18\n",
              "sale_cond_Family      -1.781240e+18\n",
              "sale_cond_Normal Sale -1.811561e+18\n",
              "sale_cond_Partial     -1.812142e+18\n",
              "buildtype_Commercial   4.789853e+18\n",
              "buildtype_House        4.842242e+18\n",
              "buildtype_Others       4.772743e+18\n",
              "utility_avail_AllPub  -3.481094e+16\n",
              "utility_avail_ELO     -3.221459e+16\n",
              "utility_avail_NoSeWa  -3.934459e+16\n",
              "mzzone_A              -1.459753e+18\n",
              "mzzone_C              -1.471840e+18\n",
              "mzzone_I              -1.416307e+18\n",
              "mzzone_RH             -2.387726e+18\n",
              "mzzone_RL             -2.400397e+18\n",
              "mzzone_RM             -2.375309e+18\n",
              "street_Gravel          2.693609e+19\n",
              "street_NoAccess        2.537435e+19\n",
              "street_Paved           2.705608e+19"
            ],
            "text/html": [
              "\n",
              "  <div id=\"df-0e1abf30-3473-4dca-8cd8-e6889aec0952\">\n",
              "    <div class=\"colab-df-container\">\n",
              "      <div>\n",
              "<style scoped>\n",
              "    .dataframe tbody tr th:only-of-type {\n",
              "        vertical-align: middle;\n",
              "    }\n",
              "\n",
              "    .dataframe tbody tr th {\n",
              "        vertical-align: top;\n",
              "    }\n",
              "\n",
              "    .dataframe thead th {\n",
              "        text-align: right;\n",
              "    }\n",
              "</style>\n",
              "<table border=\"1\" class=\"dataframe\">\n",
              "  <thead>\n",
              "    <tr style=\"text-align: right;\">\n",
              "      <th></th>\n",
              "      <th>Co-efficient</th>\n",
              "    </tr>\n",
              "  </thead>\n",
              "  <tbody>\n",
              "    <tr>\n",
              "      <th>INT_SQFT</th>\n",
              "      <td>1.842215e+06</td>\n",
              "    </tr>\n",
              "    <tr>\n",
              "      <th>N_BEDROOM</th>\n",
              "      <td>1.817181e+05</td>\n",
              "    </tr>\n",
              "    <tr>\n",
              "      <th>N_BATHROOM</th>\n",
              "      <td>-1.548433e+05</td>\n",
              "    </tr>\n",
              "    <tr>\n",
              "      <th>N_ROOM</th>\n",
              "      <td>1.350569e+05</td>\n",
              "    </tr>\n",
              "    <tr>\n",
              "      <th>Age_of_building</th>\n",
              "      <td>-2.591069e+05</td>\n",
              "    </tr>\n",
              "    <tr>\n",
              "      <th>area_Adyar</th>\n",
              "      <td>-7.474591e+17</td>\n",
              "    </tr>\n",
              "    <tr>\n",
              "      <th>area_Anna Nagar</th>\n",
              "      <td>-7.495470e+17</td>\n",
              "    </tr>\n",
              "    <tr>\n",
              "      <th>area_KK Nagar</th>\n",
              "      <td>-8.342136e+17</td>\n",
              "    </tr>\n",
              "    <tr>\n",
              "      <th>area_Karapakkam</th>\n",
              "      <td>-9.357082e+17</td>\n",
              "    </tr>\n",
              "    <tr>\n",
              "      <th>area_T Nagar</th>\n",
              "      <td>-6.057178e+17</td>\n",
              "    </tr>\n",
              "    <tr>\n",
              "      <th>area_Velachery</th>\n",
              "      <td>-8.290213e+17</td>\n",
              "    </tr>\n",
              "    <tr>\n",
              "      <th>area_chromepet</th>\n",
              "      <td>-1.017410e+18</td>\n",
              "    </tr>\n",
              "    <tr>\n",
              "      <th>sale_cond_AbNormal</th>\n",
              "      <td>-1.795090e+18</td>\n",
              "    </tr>\n",
              "    <tr>\n",
              "      <th>sale_cond_AdjLand</th>\n",
              "      <td>-1.790906e+18</td>\n",
              "    </tr>\n",
              "    <tr>\n",
              "      <th>sale_cond_Family</th>\n",
              "      <td>-1.781240e+18</td>\n",
              "    </tr>\n",
              "    <tr>\n",
              "      <th>sale_cond_Normal Sale</th>\n",
              "      <td>-1.811561e+18</td>\n",
              "    </tr>\n",
              "    <tr>\n",
              "      <th>sale_cond_Partial</th>\n",
              "      <td>-1.812142e+18</td>\n",
              "    </tr>\n",
              "    <tr>\n",
              "      <th>buildtype_Commercial</th>\n",
              "      <td>4.789853e+18</td>\n",
              "    </tr>\n",
              "    <tr>\n",
              "      <th>buildtype_House</th>\n",
              "      <td>4.842242e+18</td>\n",
              "    </tr>\n",
              "    <tr>\n",
              "      <th>buildtype_Others</th>\n",
              "      <td>4.772743e+18</td>\n",
              "    </tr>\n",
              "    <tr>\n",
              "      <th>utility_avail_AllPub</th>\n",
              "      <td>-3.481094e+16</td>\n",
              "    </tr>\n",
              "    <tr>\n",
              "      <th>utility_avail_ELO</th>\n",
              "      <td>-3.221459e+16</td>\n",
              "    </tr>\n",
              "    <tr>\n",
              "      <th>utility_avail_NoSeWa</th>\n",
              "      <td>-3.934459e+16</td>\n",
              "    </tr>\n",
              "    <tr>\n",
              "      <th>mzzone_A</th>\n",
              "      <td>-1.459753e+18</td>\n",
              "    </tr>\n",
              "    <tr>\n",
              "      <th>mzzone_C</th>\n",
              "      <td>-1.471840e+18</td>\n",
              "    </tr>\n",
              "    <tr>\n",
              "      <th>mzzone_I</th>\n",
              "      <td>-1.416307e+18</td>\n",
              "    </tr>\n",
              "    <tr>\n",
              "      <th>mzzone_RH</th>\n",
              "      <td>-2.387726e+18</td>\n",
              "    </tr>\n",
              "    <tr>\n",
              "      <th>mzzone_RL</th>\n",
              "      <td>-2.400397e+18</td>\n",
              "    </tr>\n",
              "    <tr>\n",
              "      <th>mzzone_RM</th>\n",
              "      <td>-2.375309e+18</td>\n",
              "    </tr>\n",
              "    <tr>\n",
              "      <th>street_Gravel</th>\n",
              "      <td>2.693609e+19</td>\n",
              "    </tr>\n",
              "    <tr>\n",
              "      <th>street_NoAccess</th>\n",
              "      <td>2.537435e+19</td>\n",
              "    </tr>\n",
              "    <tr>\n",
              "      <th>street_Paved</th>\n",
              "      <td>2.705608e+19</td>\n",
              "    </tr>\n",
              "  </tbody>\n",
              "</table>\n",
              "</div>\n",
              "      <button class=\"colab-df-convert\" onclick=\"convertToInteractive('df-0e1abf30-3473-4dca-8cd8-e6889aec0952')\"\n",
              "              title=\"Convert this dataframe to an interactive table.\"\n",
              "              style=\"display:none;\">\n",
              "        \n",
              "  <svg xmlns=\"http://www.w3.org/2000/svg\" height=\"24px\"viewBox=\"0 0 24 24\"\n",
              "       width=\"24px\">\n",
              "    <path d=\"M0 0h24v24H0V0z\" fill=\"none\"/>\n",
              "    <path d=\"M18.56 5.44l.94 2.06.94-2.06 2.06-.94-2.06-.94-.94-2.06-.94 2.06-2.06.94zm-11 1L8.5 8.5l.94-2.06 2.06-.94-2.06-.94L8.5 2.5l-.94 2.06-2.06.94zm10 10l.94 2.06.94-2.06 2.06-.94-2.06-.94-.94-2.06-.94 2.06-2.06.94z\"/><path d=\"M17.41 7.96l-1.37-1.37c-.4-.4-.92-.59-1.43-.59-.52 0-1.04.2-1.43.59L10.3 9.45l-7.72 7.72c-.78.78-.78 2.05 0 2.83L4 21.41c.39.39.9.59 1.41.59.51 0 1.02-.2 1.41-.59l7.78-7.78 2.81-2.81c.8-.78.8-2.07 0-2.86zM5.41 20L4 18.59l7.72-7.72 1.47 1.35L5.41 20z\"/>\n",
              "  </svg>\n",
              "      </button>\n",
              "      \n",
              "  <style>\n",
              "    .colab-df-container {\n",
              "      display:flex;\n",
              "      flex-wrap:wrap;\n",
              "      gap: 12px;\n",
              "    }\n",
              "\n",
              "    .colab-df-convert {\n",
              "      background-color: #E8F0FE;\n",
              "      border: none;\n",
              "      border-radius: 50%;\n",
              "      cursor: pointer;\n",
              "      display: none;\n",
              "      fill: #1967D2;\n",
              "      height: 32px;\n",
              "      padding: 0 0 0 0;\n",
              "      width: 32px;\n",
              "    }\n",
              "\n",
              "    .colab-df-convert:hover {\n",
              "      background-color: #E2EBFA;\n",
              "      box-shadow: 0px 1px 2px rgba(60, 64, 67, 0.3), 0px 1px 3px 1px rgba(60, 64, 67, 0.15);\n",
              "      fill: #174EA6;\n",
              "    }\n",
              "\n",
              "    [theme=dark] .colab-df-convert {\n",
              "      background-color: #3B4455;\n",
              "      fill: #D2E3FC;\n",
              "    }\n",
              "\n",
              "    [theme=dark] .colab-df-convert:hover {\n",
              "      background-color: #434B5C;\n",
              "      box-shadow: 0px 1px 3px 1px rgba(0, 0, 0, 0.15);\n",
              "      filter: drop-shadow(0px 1px 2px rgba(0, 0, 0, 0.3));\n",
              "      fill: #FFFFFF;\n",
              "    }\n",
              "  </style>\n",
              "\n",
              "      <script>\n",
              "        const buttonEl =\n",
              "          document.querySelector('#df-0e1abf30-3473-4dca-8cd8-e6889aec0952 button.colab-df-convert');\n",
              "        buttonEl.style.display =\n",
              "          google.colab.kernel.accessAllowed ? 'block' : 'none';\n",
              "\n",
              "        async function convertToInteractive(key) {\n",
              "          const element = document.querySelector('#df-0e1abf30-3473-4dca-8cd8-e6889aec0952');\n",
              "          const dataTable =\n",
              "            await google.colab.kernel.invokeFunction('convertToInteractive',\n",
              "                                                     [key], {});\n",
              "          if (!dataTable) return;\n",
              "\n",
              "          const docLinkHtml = 'Like what you see? Visit the ' +\n",
              "            '<a target=\"_blank\" href=https://colab.research.google.com/notebooks/data_table.ipynb>data table notebook</a>'\n",
              "            + ' to learn more about interactive tables.';\n",
              "          element.innerHTML = '';\n",
              "          dataTable['output_type'] = 'display_data';\n",
              "          await google.colab.output.renderOutput(dataTable, element);\n",
              "          const docLink = document.createElement('div');\n",
              "          docLink.innerHTML = docLinkHtml;\n",
              "          element.appendChild(docLink);\n",
              "        }\n",
              "      </script>\n",
              "    </div>\n",
              "  </div>\n",
              "  "
            ]
          },
          "metadata": {},
          "execution_count": 276
        }
      ]
    },
    {
      "cell_type": "code",
      "source": [
        "from sklearn.metrics import r2_score\n",
        "acc= r2_score(y_test,lr.predict(X_test))\n",
        "acc"
      ],
      "metadata": {
        "colab": {
          "base_uri": "https://localhost:8080/"
        },
        "id": "jhcJN0d8oML9",
        "outputId": "d8360001-911a-459b-f65f-05da944e7bd4"
      },
      "execution_count": 277,
      "outputs": [
        {
          "output_type": "execute_result",
          "data": {
            "text/plain": [
              "0.9392307664739644"
            ]
          },
          "metadata": {},
          "execution_count": 277
        }
      ]
    },
    {
      "cell_type": "markdown",
      "source": [
        "**K Nearest Neighbour**"
      ],
      "metadata": {
        "id": "OP-xEhAdoPOk"
      }
    },
    {
      "cell_type": "code",
      "source": [
        "\n",
        "from sklearn.neighbors import KNeighborsRegressor\n",
        "from sklearn.model_selection import cross_val_score\n",
        "\n",
        "for i in [1,2,3,4,5,6,7,8,9,10,20,30,40,50]:\n",
        "  knn= KNeighborsRegressor(i)                #best value of k = 20==86%\n",
        "  knn.fit(X_train, y_train)\n",
        "  print(\"K value  :\", i, \"Cross Value Accuracy :\" , np.mean(cross_val_score(knn, X_train, y_train, cv=10)))"
      ],
      "metadata": {
        "colab": {
          "base_uri": "https://localhost:8080/"
        },
        "id": "wJ2h_t5kcsyw",
        "outputId": "f1081df7-a328-4675-b747-34826feed584"
      },
      "execution_count": 278,
      "outputs": [
        {
          "output_type": "stream",
          "name": "stdout",
          "text": [
            "K value  : 1 Cross Value Accuracy : 0.7796312256217426\n",
            "K value  : 2 Cross Value Accuracy : 0.8282449516575096\n",
            "K value  : 3 Cross Value Accuracy : 0.8458944087187931\n",
            "K value  : 4 Cross Value Accuracy : 0.8549150592786188\n",
            "K value  : 5 Cross Value Accuracy : 0.8585325033257671\n",
            "K value  : 6 Cross Value Accuracy : 0.859979186932754\n",
            "K value  : 7 Cross Value Accuracy : 0.8610875475159236\n",
            "K value  : 8 Cross Value Accuracy : 0.8620451196163341\n",
            "K value  : 9 Cross Value Accuracy : 0.8641489481986614\n",
            "K value  : 10 Cross Value Accuracy : 0.8639315889390105\n",
            "K value  : 20 Cross Value Accuracy : 0.8611316509561731\n",
            "K value  : 30 Cross Value Accuracy : 0.8534452083564343\n",
            "K value  : 40 Cross Value Accuracy : 0.845592563977197\n",
            "K value  : 50 Cross Value Accuracy : 0.8385079690413291\n"
          ]
        }
      ]
    },
    {
      "cell_type": "markdown",
      "source": [
        "Decision Tree"
      ],
      "metadata": {
        "id": "UIKQC5I5odSV"
      }
    },
    {
      "cell_type": "code",
      "source": [
        "from sklearn.metrics import r2_score\n",
        "from sklearn.tree import DecisionTreeRegressor\n",
        "from sklearn.model_selection import cross_val_score\n",
        "\n",
        "for depth in [1,2,3,4,5,6,7,8,9,10,20,40,60,70,100,150]:\n",
        "  dt= DecisionTreeRegressor(max_depth= depth,random_state=0)\n",
        "  dt.fit(X_train, y_train)\n",
        "  accuracy= r2_score(y_test,dt.predict(X_test))\n",
        "  val= cross_val_score(dt, X, y, cv=10)\n",
        "  print('K:',depth,'R2 Score:',accuracy,'Cross Val Score:',np.mean(val))"
      ],
      "metadata": {
        "colab": {
          "base_uri": "https://localhost:8080/"
        },
        "id": "cSphu83_hzk7",
        "outputId": "273ba963-7f0a-4700-805c-24ff3741b665"
      },
      "execution_count": 279,
      "outputs": [
        {
          "output_type": "stream",
          "name": "stdout",
          "text": [
            "K: 1 R2 Score: 0.32063988560410317 Cross Val Score: 0.30713886240518135\n",
            "K: 2 R2 Score: 0.616924254685371 Cross Val Score: 0.6213648238688929\n",
            "K: 3 R2 Score: 0.754476868334183 Cross Val Score: 0.7494944826966186\n",
            "K: 4 R2 Score: 0.8452062551091539 Cross Val Score: 0.8450281380410669\n",
            "K: 5 R2 Score: 0.8941559485444448 Cross Val Score: 0.8876331859993449\n",
            "K: 6 R2 Score: 0.9218047433580973 Cross Val Score: 0.9184250499915321\n",
            "K: 7 R2 Score: 0.9359559388569335 Cross Val Score: 0.933180287710479\n",
            "K: 8 R2 Score: 0.9469808498952433 Cross Val Score: 0.9424062574100887\n",
            "K: 9 R2 Score: 0.9528051106369648 Cross Val Score: 0.9501317675058502\n",
            "K: 10 R2 Score: 0.9552573353733189 Cross Val Score: 0.9520247574234565\n",
            "K: 20 R2 Score: 0.9476012018619094 Cross Val Score: 0.942978973287522\n",
            "K: 40 R2 Score: 0.9475652856453841 Cross Val Score: 0.9421025211100676\n",
            "K: 60 R2 Score: 0.9475652856453841 Cross Val Score: 0.9421025211100676\n",
            "K: 70 R2 Score: 0.9475652856453841 Cross Val Score: 0.9421025211100676\n",
            "K: 100 R2 Score: 0.9475652856453841 Cross Val Score: 0.9421025211100676\n",
            "K: 150 R2 Score: 0.9475652856453841 Cross Val Score: 0.9421025211100676\n"
          ]
        }
      ]
    },
    {
      "cell_type": "code",
      "source": [
        "dt= DecisionTreeRegressor(max_depth= 20,random_state=0)\n",
        "dt.fit(X_train, y_train)  # area, int_sqft, commericial buildtype, mzzone , park_facl\n",
        "# Get numerical feature importances\n",
        "importances = list(dt.feature_importances_)\n",
        "\n",
        "# List of tuples with variable and importance\n",
        "feature_importances = [(feature, round(importance, 2)) for feature, importance in zip(list(X.columns), importances)]\n",
        "\n",
        "# Sort the feature importances by most important first\n",
        "feature_importances = sorted(feature_importances, key = lambda x: x[1], reverse = True)\n",
        "feature_importances"
      ],
      "metadata": {
        "colab": {
          "base_uri": "https://localhost:8080/"
        },
        "id": "VMlomfh0hznn",
        "outputId": "7afe3473-1711-4313-a4d8-16a7f33f4cef"
      },
      "execution_count": 280,
      "outputs": [
        {
          "output_type": "execute_result",
          "data": {
            "text/plain": [
              "[('INT_SQFT', 0.39),\n",
              " ('buildtype_Commercial', 0.32),\n",
              " ('area_Karapakkam', 0.12),\n",
              " ('area_Velachery', 0.06),\n",
              " ('area_KK Nagar', 0.03),\n",
              " ('Age_of_building', 0.01),\n",
              " ('mzzone_A', 0.01),\n",
              " ('mzzone_C', 0.01),\n",
              " ('mzzone_RL', 0.01),\n",
              " ('mzzone_RM', 0.01),\n",
              " ('street_NoAccess', 0.01),\n",
              " ('N_BEDROOM', 0.0),\n",
              " ('N_BATHROOM', 0.0),\n",
              " ('N_ROOM', 0.0),\n",
              " ('area_Adyar', 0.0),\n",
              " ('area_Anna Nagar', 0.0),\n",
              " ('area_T Nagar', 0.0),\n",
              " ('area_chromepet', 0.0),\n",
              " ('sale_cond_AbNormal', 0.0),\n",
              " ('sale_cond_AdjLand', 0.0),\n",
              " ('sale_cond_Family', 0.0),\n",
              " ('sale_cond_Normal Sale', 0.0),\n",
              " ('sale_cond_Partial', 0.0),\n",
              " ('buildtype_House', 0.0),\n",
              " ('buildtype_Others', 0.0),\n",
              " ('utility_avail_AllPub', 0.0),\n",
              " ('utility_avail_ELO', 0.0),\n",
              " ('utility_avail_NoSeWa', 0.0),\n",
              " ('mzzone_I', 0.0),\n",
              " ('mzzone_RH', 0.0),\n",
              " ('street_Gravel', 0.0),\n",
              " ('street_Paved', 0.0)]"
            ]
          },
          "metadata": {},
          "execution_count": 280
        }
      ]
    },
    {
      "cell_type": "code",
      "source": [
        "dt= DecisionTreeRegressor(max_depth= 20,random_state=0)\n",
        "dt.fit(X_train, y_train)\n",
        "pred= dt.predict(X_test)\n",
        "accuracy= r2_score(y_test,pred)\n",
        "print(accuracy)"
      ],
      "metadata": {
        "colab": {
          "base_uri": "https://localhost:8080/"
        },
        "id": "n8U3ff6ihzqq",
        "outputId": "8add1360-cb08-405e-dc25-fd5ecdc88812"
      },
      "execution_count": 286,
      "outputs": [
        {
          "output_type": "stream",
          "name": "stdout",
          "text": [
            "0.9476012018619094\n"
          ]
        }
      ]
    },
    {
      "cell_type": "code",
      "source": [
        "\n",
        "data2= pd.DataFrame({\"Actual\": y_test, \"Predicted\": pred})\n",
        "data2\n",
        "     "
      ],
      "metadata": {
        "colab": {
          "base_uri": "https://localhost:8080/",
          "height": 424
        },
        "id": "ToMPYtKNJIqJ",
        "outputId": "d7e915fe-df5b-4f65-8205-cda545e3dda2"
      },
      "execution_count": 282,
      "outputs": [
        {
          "output_type": "execute_result",
          "data": {
            "text/plain": [
              "        Actual   Predicted\n",
              "461   15664740  14917750.0\n",
              "3358  19286610  20402870.0\n",
              "3751  13308490  12575330.0\n",
              "2386  12496560  12506600.0\n",
              "1125   9082000   9238375.0\n",
              "...        ...         ...\n",
              "6010  13104880  13251910.0\n",
              "4903  14083210  13296730.0\n",
              "6806   6835375   6537250.0\n",
              "3832  14154820  14799120.0\n",
              "364    7968490   8702510.0\n",
              "\n",
              "[1422 rows x 2 columns]"
            ],
            "text/html": [
              "\n",
              "  <div id=\"df-4ef21866-0d21-4e32-b5fe-057f5399382e\">\n",
              "    <div class=\"colab-df-container\">\n",
              "      <div>\n",
              "<style scoped>\n",
              "    .dataframe tbody tr th:only-of-type {\n",
              "        vertical-align: middle;\n",
              "    }\n",
              "\n",
              "    .dataframe tbody tr th {\n",
              "        vertical-align: top;\n",
              "    }\n",
              "\n",
              "    .dataframe thead th {\n",
              "        text-align: right;\n",
              "    }\n",
              "</style>\n",
              "<table border=\"1\" class=\"dataframe\">\n",
              "  <thead>\n",
              "    <tr style=\"text-align: right;\">\n",
              "      <th></th>\n",
              "      <th>Actual</th>\n",
              "      <th>Predicted</th>\n",
              "    </tr>\n",
              "  </thead>\n",
              "  <tbody>\n",
              "    <tr>\n",
              "      <th>461</th>\n",
              "      <td>15664740</td>\n",
              "      <td>14917750.0</td>\n",
              "    </tr>\n",
              "    <tr>\n",
              "      <th>3358</th>\n",
              "      <td>19286610</td>\n",
              "      <td>20402870.0</td>\n",
              "    </tr>\n",
              "    <tr>\n",
              "      <th>3751</th>\n",
              "      <td>13308490</td>\n",
              "      <td>12575330.0</td>\n",
              "    </tr>\n",
              "    <tr>\n",
              "      <th>2386</th>\n",
              "      <td>12496560</td>\n",
              "      <td>12506600.0</td>\n",
              "    </tr>\n",
              "    <tr>\n",
              "      <th>1125</th>\n",
              "      <td>9082000</td>\n",
              "      <td>9238375.0</td>\n",
              "    </tr>\n",
              "    <tr>\n",
              "      <th>...</th>\n",
              "      <td>...</td>\n",
              "      <td>...</td>\n",
              "    </tr>\n",
              "    <tr>\n",
              "      <th>6010</th>\n",
              "      <td>13104880</td>\n",
              "      <td>13251910.0</td>\n",
              "    </tr>\n",
              "    <tr>\n",
              "      <th>4903</th>\n",
              "      <td>14083210</td>\n",
              "      <td>13296730.0</td>\n",
              "    </tr>\n",
              "    <tr>\n",
              "      <th>6806</th>\n",
              "      <td>6835375</td>\n",
              "      <td>6537250.0</td>\n",
              "    </tr>\n",
              "    <tr>\n",
              "      <th>3832</th>\n",
              "      <td>14154820</td>\n",
              "      <td>14799120.0</td>\n",
              "    </tr>\n",
              "    <tr>\n",
              "      <th>364</th>\n",
              "      <td>7968490</td>\n",
              "      <td>8702510.0</td>\n",
              "    </tr>\n",
              "  </tbody>\n",
              "</table>\n",
              "<p>1422 rows × 2 columns</p>\n",
              "</div>\n",
              "      <button class=\"colab-df-convert\" onclick=\"convertToInteractive('df-4ef21866-0d21-4e32-b5fe-057f5399382e')\"\n",
              "              title=\"Convert this dataframe to an interactive table.\"\n",
              "              style=\"display:none;\">\n",
              "        \n",
              "  <svg xmlns=\"http://www.w3.org/2000/svg\" height=\"24px\"viewBox=\"0 0 24 24\"\n",
              "       width=\"24px\">\n",
              "    <path d=\"M0 0h24v24H0V0z\" fill=\"none\"/>\n",
              "    <path d=\"M18.56 5.44l.94 2.06.94-2.06 2.06-.94-2.06-.94-.94-2.06-.94 2.06-2.06.94zm-11 1L8.5 8.5l.94-2.06 2.06-.94-2.06-.94L8.5 2.5l-.94 2.06-2.06.94zm10 10l.94 2.06.94-2.06 2.06-.94-2.06-.94-.94-2.06-.94 2.06-2.06.94z\"/><path d=\"M17.41 7.96l-1.37-1.37c-.4-.4-.92-.59-1.43-.59-.52 0-1.04.2-1.43.59L10.3 9.45l-7.72 7.72c-.78.78-.78 2.05 0 2.83L4 21.41c.39.39.9.59 1.41.59.51 0 1.02-.2 1.41-.59l7.78-7.78 2.81-2.81c.8-.78.8-2.07 0-2.86zM5.41 20L4 18.59l7.72-7.72 1.47 1.35L5.41 20z\"/>\n",
              "  </svg>\n",
              "      </button>\n",
              "      \n",
              "  <style>\n",
              "    .colab-df-container {\n",
              "      display:flex;\n",
              "      flex-wrap:wrap;\n",
              "      gap: 12px;\n",
              "    }\n",
              "\n",
              "    .colab-df-convert {\n",
              "      background-color: #E8F0FE;\n",
              "      border: none;\n",
              "      border-radius: 50%;\n",
              "      cursor: pointer;\n",
              "      display: none;\n",
              "      fill: #1967D2;\n",
              "      height: 32px;\n",
              "      padding: 0 0 0 0;\n",
              "      width: 32px;\n",
              "    }\n",
              "\n",
              "    .colab-df-convert:hover {\n",
              "      background-color: #E2EBFA;\n",
              "      box-shadow: 0px 1px 2px rgba(60, 64, 67, 0.3), 0px 1px 3px 1px rgba(60, 64, 67, 0.15);\n",
              "      fill: #174EA6;\n",
              "    }\n",
              "\n",
              "    [theme=dark] .colab-df-convert {\n",
              "      background-color: #3B4455;\n",
              "      fill: #D2E3FC;\n",
              "    }\n",
              "\n",
              "    [theme=dark] .colab-df-convert:hover {\n",
              "      background-color: #434B5C;\n",
              "      box-shadow: 0px 1px 3px 1px rgba(0, 0, 0, 0.15);\n",
              "      filter: drop-shadow(0px 1px 2px rgba(0, 0, 0, 0.3));\n",
              "      fill: #FFFFFF;\n",
              "    }\n",
              "  </style>\n",
              "\n",
              "      <script>\n",
              "        const buttonEl =\n",
              "          document.querySelector('#df-4ef21866-0d21-4e32-b5fe-057f5399382e button.colab-df-convert');\n",
              "        buttonEl.style.display =\n",
              "          google.colab.kernel.accessAllowed ? 'block' : 'none';\n",
              "\n",
              "        async function convertToInteractive(key) {\n",
              "          const element = document.querySelector('#df-4ef21866-0d21-4e32-b5fe-057f5399382e');\n",
              "          const dataTable =\n",
              "            await google.colab.kernel.invokeFunction('convertToInteractive',\n",
              "                                                     [key], {});\n",
              "          if (!dataTable) return;\n",
              "\n",
              "          const docLinkHtml = 'Like what you see? Visit the ' +\n",
              "            '<a target=\"_blank\" href=https://colab.research.google.com/notebooks/data_table.ipynb>data table notebook</a>'\n",
              "            + ' to learn more about interactive tables.';\n",
              "          element.innerHTML = '';\n",
              "          dataTable['output_type'] = 'display_data';\n",
              "          await google.colab.output.renderOutput(dataTable, element);\n",
              "          const docLink = document.createElement('div');\n",
              "          docLink.innerHTML = docLinkHtml;\n",
              "          element.appendChild(docLink);\n",
              "        }\n",
              "      </script>\n",
              "    </div>\n",
              "  </div>\n",
              "  "
            ]
          },
          "metadata": {},
          "execution_count": 282
        }
      ]
    },
    {
      "cell_type": "markdown",
      "source": [
        "XG BOOST REGRESSOR"
      ],
      "metadata": {
        "id": "wY_DQ7CJotdE"
      }
    },
    {
      "cell_type": "code",
      "source": [
        "import xgboost as xgb\n",
        "from sklearn.model_selection import cross_val_score\n",
        "import numpy as np\n",
        "for lr in [0.01,0.02,0.03,0.04,0.05,0.06,0.07,0.08,0.09,0.1,0.11,0.12,0.13,0.14,0.15,1]:\n",
        "  model = xgb.XGBRegressor(learning_rate = lr, n_estimators=100, verbosity = 0) # initialise the model\n",
        "  model.fit(X_train,y_train) #train the model\n",
        "  model.score(X_test, y_test) # scoring the model - r2 squared\n",
        "  print(\"Learning rate : \", lr, \" Train score : \", model.score(X_test,y_test), \" Cross-Val score : \", np.mean(cross_val_score(model, X_train, y_train,cv=10)))"
      ],
      "metadata": {
        "colab": {
          "base_uri": "https://localhost:8080/"
        },
        "id": "d7-DELHZiAUT",
        "outputId": "34f0f298-d7a7-4f98-d9d7-0dda729dff13"
      },
      "execution_count": 290,
      "outputs": [
        {
          "output_type": "stream",
          "name": "stdout",
          "text": [
            "Learning rate :  0.01  Train score :  -0.4012767254238354  Cross-Val score :  -0.4468464884229643\n",
            "Learning rate :  0.02  Train score :  0.7161430885554727  Cross-Val score :  0.7074274828650561\n",
            "Learning rate :  0.03  Train score :  0.9022604481127283  Cross-Val score :  0.8982465314373069\n",
            "Learning rate :  0.04  Train score :  0.9420153041932128  Cross-Val score :  0.9398187987786575\n",
            "Learning rate :  0.05  Train score :  0.9557916728772279  Cross-Val score :  0.9543896363042709\n",
            "Learning rate :  0.06  Train score :  0.963090779590458  Cross-Val score :  0.9613913093755704\n",
            "Learning rate :  0.07  Train score :  0.9670205659327472  Cross-Val score :  0.9661382592507884\n",
            "Learning rate :  0.08  Train score :  0.9695782941273362  Cross-Val score :  0.9689083961744946\n",
            "Learning rate :  0.09  Train score :  0.971504990918227  Cross-Val score :  0.9708862423465652\n",
            "Learning rate :  0.1  Train score :  0.9738826730911532  Cross-Val score :  0.9722751579332571\n",
            "Learning rate :  0.11  Train score :  0.9740537107963165  Cross-Val score :  0.9739024346674379\n",
            "Learning rate :  0.12  Train score :  0.9752259265182597  Cross-Val score :  0.9745773935482169\n",
            "Learning rate :  0.13  Train score :  0.975792514197554  Cross-Val score :  0.9750205236484126\n",
            "Learning rate :  0.14  Train score :  0.9760883104019085  Cross-Val score :  0.9756012637688428\n",
            "Learning rate :  0.15  Train score :  0.9765950345767828  Cross-Val score :  0.9760698490536367\n",
            "Learning rate :  1  Train score :  0.9731835116641859  Cross-Val score :  0.9709479930402708\n"
          ]
        }
      ]
    },
    {
      "cell_type": "code",
      "source": [
        "\n",
        "model = xgb.XGBRegressor(learning_rate = 0.05, n_estimators=100, verbosity = 0)\n",
        "model.fit(X_train,y_train)\n",
        "\n",
        "# Get numerical feature importances\n",
        "importances = list(model.feature_importances_)\n",
        "\n",
        "# List of tuples with variable and importance\n",
        "feature_importances = [(feature, round(importance, 5)) for feature, importance in zip(list(X.columns), importances)]\n",
        "\n",
        "# Sort the feature importances by most important first\n",
        "feature_importances = sorted(feature_importances, key = lambda x: x[1], reverse = True)\n",
        "feature_importances"
      ],
      "metadata": {
        "colab": {
          "base_uri": "https://localhost:8080/"
        },
        "id": "T0_BmBrziAXT",
        "outputId": "71f6fac0-6a05-4fb6-9493-41838a17ffb7"
      },
      "execution_count": 289,
      "outputs": [
        {
          "output_type": "execute_result",
          "data": {
            "text/plain": [
              "[('N_ROOM', 0.29224),\n",
              " ('buildtype_Commercial', 0.15505),\n",
              " ('INT_SQFT', 0.1175),\n",
              " ('area_Karapakkam', 0.08714),\n",
              " ('area_Velachery', 0.06608),\n",
              " ('area_Anna Nagar', 0.05132),\n",
              " ('area_T Nagar', 0.04355),\n",
              " ('area_chromepet', 0.0295),\n",
              " ('mzzone_RL', 0.02638),\n",
              " ('mzzone_A', 0.02613),\n",
              " ('mzzone_RM', 0.02011),\n",
              " ('buildtype_House', 0.01701),\n",
              " ('mzzone_RH', 0.01691),\n",
              " ('mzzone_C', 0.01392),\n",
              " ('N_BEDROOM', 0.01294),\n",
              " ('street_NoAccess', 0.00651),\n",
              " ('street_Gravel', 0.00649),\n",
              " ('area_KK Nagar', 0.00371),\n",
              " ('sale_cond_AdjLand', 0.00272),\n",
              " ('Age_of_building', 0.00265),\n",
              " ('sale_cond_Partial', 0.00175),\n",
              " ('utility_avail_AllPub', 0.00037),\n",
              " ('N_BATHROOM', 0.0),\n",
              " ('area_Adyar', 0.0),\n",
              " ('sale_cond_AbNormal', 0.0),\n",
              " ('sale_cond_Family', 0.0),\n",
              " ('sale_cond_Normal Sale', 0.0),\n",
              " ('buildtype_Others', 0.0),\n",
              " ('utility_avail_ELO', 0.0),\n",
              " ('utility_avail_NoSeWa', 0.0),\n",
              " ('mzzone_I', 0.0),\n",
              " ('street_Paved', 0.0)]"
            ]
          },
          "metadata": {},
          "execution_count": 289
        }
      ]
    },
    {
      "cell_type": "markdown",
      "source": [
        "# Score for Linear Regression : 93%\n",
        "# Score for KNN : 86%\n",
        "# Score for Decision Tree Regressor : 95%\n",
        "# Score for Random Forest Regressor : 94%\n",
        "# pScore for XGBoost Regressor : 97%\n",
        "\n"
      ],
      "metadata": {
        "id": "kshOISyls61_"
      }
    },
    {
      "cell_type": "markdown",
      "source": [
        "#Answers to Buyers and suggestions to Real Estate Agents:"
      ],
      "metadata": {
        "id": "_-Yc52mwsFVw"
      }
    },
    {
      "cell_type": "markdown",
      "source": [
        "Price of the property changes due to various factors. Top factors are:\n",
        "\n",
        "1)Based on whether the property is Commercial,others or House\n",
        "\n",
        "2)Based on the location of the property.\n",
        "\n",
        "3)The price changes also on Availability of Parking.\n",
        "\n",
        "4)Finally based on the Zone which the property belongs to"
      ],
      "metadata": {
        "id": "OBoVVmPssk53"
      }
    },
    {
      "cell_type": "markdown",
      "source": [
        "#Suggestions to Real estate agents:"
      ],
      "metadata": {
        "id": "ZMFZzj0vsJB_"
      }
    },
    {
      "cell_type": "markdown",
      "source": [
        "Profit can be increased by considering the following factors:\n",
        "\n",
        "1)It is recommended to construct a commercial bulding rather than residential or others.\n",
        "\n",
        "2)Constructing buildings in T Nagar, Anna Nagar and KK Nagar can result in more profit.\n",
        "\n",
        "3)It is highly recommended to construct buildings with Parking Facility.\n",
        "\n",
        "4)The Street of property should be Paved and it should have All Public facilites nearby."
      ],
      "metadata": {
        "id": "Hp1gQNlSsoE_"
      }
    }
  ]
}